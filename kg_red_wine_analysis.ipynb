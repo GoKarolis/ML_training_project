{
  "nbformat": 4,
  "nbformat_minor": 0,
  "metadata": {
    "kernelspec": {
      "name": "python3",
      "display_name": "Python 3",
      "language": "python"
    },
    "language_info": {
      "name": "python",
      "version": "3.7.6",
      "mimetype": "text/x-python",
      "codemirror_mode": {
        "name": "ipython",
        "version": 3
      },
      "pygments_lexer": "ipython3",
      "nbconvert_exporter": "python",
      "file_extension": ".py"
    },
    "colab": {
      "name": "kg-red-wine-analysis.ipynb",
      "provenance": [],
      "collapsed_sections": [
        "W4dYDNacltQe",
        "2NVKS3xCltQf",
        "vKnWP6JZltQh"
      ],
      "toc_visible": true,
      "include_colab_link": true
    }
  },
  "cells": [
    {
      "cell_type": "markdown",
      "metadata": {
        "id": "view-in-github",
        "colab_type": "text"
      },
      "source": [
        "<a href=\"https://colab.research.google.com/github/GoKarolis/ML_training_project/blob/main/kg_red_wine_analysis.ipynb\" target=\"_parent\"><img src=\"https://colab.research.google.com/assets/colab-badge.svg\" alt=\"Open In Colab\"/></a>"
      ]
    },
    {
      "cell_type": "code",
      "metadata": {
        "_uuid": "8f2839f25d086af736a60e9eeb907d3b93b6e0e5",
        "_cell_guid": "b1076dfc-b9ad-4769-8c92-a6c4dae69d19",
        "trusted": true,
        "id": "j9FCLJ73ltQV"
      },
      "source": [
        "\n",
        "import numpy as np\n",
        "import pandas as pd\n",
        "from sklearn.model_selection import train_test_split\n",
        "from sklearn.linear_model import LogisticRegression\n",
        "from sklearn.ensemble import RandomForestClassifier\n",
        "from xgboost import XGBClassifier\n",
        "\n",
        "# Input data files are available in the read-only \"../input/\" directory\n",
        "# For example, running this (by clicking run or pressing Shift+Enter) will list all files under the input directory\n",
        "\n",
        "import os\n",
        "for dirname, _, filenames in os.walk('/kaggle/input'):\n",
        "    for filename in filenames:\n",
        "        print(os.path.join(dirname, filename))\n",
        "\n",
        "# You can write up to 5GB to the current directory (/kaggle/working/) that gets preserved as output when you create a version using \"Save & Run All\" \n",
        "# You can also write temporary files to /kaggle/temp/, but they won't be saved outside of the current session\n",
        "\n",
        "from sklearn.preprocessing import LabelEncoder #, StandardScaler"
      ],
      "execution_count": 1,
      "outputs": []
    },
    {
      "cell_type": "code",
      "metadata": {
        "colab": {
          "base_uri": "https://localhost:8080/"
        },
        "id": "OvbG9t-vm549",
        "outputId": "88b22c89-6616-47f2-d979-e425e7447cc5"
      },
      "source": [
        "from google.colab import drive\n",
        "drive.mount('/content/drive')"
      ],
      "execution_count": 8,
      "outputs": [
        {
          "output_type": "stream",
          "text": [
            "Mounted at /content/drive\n"
          ],
          "name": "stdout"
        }
      ]
    },
    {
      "cell_type": "code",
      "metadata": {
        "trusted": true,
        "id": "6XbaX4cnltQd"
      },
      "source": [
        "# wine_data == data\n",
        "data = pd.read_csv('/content/drive/MyDrive/Colab_Notebooks/winequality-red.csv')"
      ],
      "execution_count": 6,
      "outputs": []
    },
    {
      "cell_type": "markdown",
      "metadata": {
        "id": "-aIEWsKwltQe"
      },
      "source": [
        "# 1. Exploratory data analysis"
      ]
    },
    {
      "cell_type": "markdown",
      "metadata": {
        "id": "W4dYDNacltQe"
      },
      "source": [
        "# **1.1. Shape**"
      ]
    },
    {
      "cell_type": "code",
      "metadata": {
        "trusted": true,
        "id": "E4UwS2AbltQe",
        "colab": {
          "base_uri": "https://localhost:8080/"
        },
        "outputId": "55bd8ae3-1a6f-4c6a-a9db-c56a8bb12649"
      },
      "source": [
        "data.shape"
      ],
      "execution_count": null,
      "outputs": [
        {
          "output_type": "execute_result",
          "data": {
            "text/plain": [
              "(1599, 12)"
            ]
          },
          "metadata": {
            "tags": []
          },
          "execution_count": 8
        }
      ]
    },
    {
      "cell_type": "markdown",
      "metadata": {
        "id": "2NVKS3xCltQf"
      },
      "source": [
        "# **1.2. Descriptive statistics**"
      ]
    },
    {
      "cell_type": "code",
      "metadata": {
        "trusted": true,
        "id": "cJDgaI_lltQf"
      },
      "source": [
        "data.head(20)"
      ],
      "execution_count": null,
      "outputs": []
    },
    {
      "cell_type": "code",
      "metadata": {
        "trusted": true,
        "id": "2cijK8jAltQg"
      },
      "source": [
        "data.describe()"
      ],
      "execution_count": null,
      "outputs": []
    },
    {
      "cell_type": "code",
      "metadata": {
        "trusted": true,
        "id": "KN8Zb2O1ltQg"
      },
      "source": [
        "data.isnull().sum()"
      ],
      "execution_count": null,
      "outputs": []
    },
    {
      "cell_type": "code",
      "metadata": {
        "trusted": true,
        "id": "ts-dq81tltQh"
      },
      "source": [
        "def display_all(data):\n",
        "    with pd.option_context(\"display.max_rows\", 10000, \"display.max_columns\", 10000): \n",
        "        display(data)\n",
        "\n",
        "display_all(data.describe(include='all').T)"
      ],
      "execution_count": null,
      "outputs": []
    },
    {
      "cell_type": "markdown",
      "metadata": {
        "id": "vKnWP6JZltQh"
      },
      "source": [
        "# **1.3. Data types and more information about the data**"
      ]
    },
    {
      "cell_type": "code",
      "metadata": {
        "trusted": true,
        "id": "QO3meiwkltQh"
      },
      "source": [
        "data.dtypes"
      ],
      "execution_count": null,
      "outputs": []
    },
    {
      "cell_type": "code",
      "metadata": {
        "trusted": true,
        "id": "kcPYm91AltQh"
      },
      "source": [
        "data.isna().sum()"
      ],
      "execution_count": null,
      "outputs": []
    },
    {
      "cell_type": "code",
      "metadata": {
        "trusted": true,
        "id": "fDAmKuUSltQi"
      },
      "source": [
        "data['quality'].value_counts().sort_index(ascending=False)"
      ],
      "execution_count": null,
      "outputs": []
    },
    {
      "cell_type": "markdown",
      "metadata": {
        "id": "6CJKIoVyltQi"
      },
      "source": [
        "# 3. Pre-processing"
      ]
    },
    {
      "cell_type": "code",
      "metadata": {
        "trusted": true,
        "id": "77ZZMAWBltQi"
      },
      "source": [
        "bins = (2, 6.5, 8)\n",
        "group_names = ['bad', 'good']\n",
        "data['quality'] = pd.cut(data['quality'], bins = bins, labels = group_names)"
      ],
      "execution_count": null,
      "outputs": []
    },
    {
      "cell_type": "code",
      "metadata": {
        "trusted": true,
        "id": "k_mmSvK5ltQi"
      },
      "source": [
        "label_quality = LabelEncoder()\n",
        "\n",
        "data['quality'] = label_quality.fit_transform(data['quality'])\n",
        "\n",
        "X = data.drop('quality', axis = 1)\n",
        "y = data['quality']\n"
      ],
      "execution_count": null,
      "outputs": []
    },
    {
      "cell_type": "markdown",
      "metadata": {
        "id": "_tfDcvA9ltQj"
      },
      "source": [
        "# Train test split"
      ]
    },
    {
      "cell_type": "code",
      "metadata": {
        "trusted": true,
        "id": "nt56410wltQj"
      },
      "source": [
        "X_train, X_test, y_train, y_test = train_test_split(X, y, test_size = 0.2, random_state = 42)"
      ],
      "execution_count": null,
      "outputs": []
    },
    {
      "cell_type": "code",
      "metadata": {
        "trusted": true,
        "id": "Se9RaU-EltQj"
      },
      "source": [
        ""
      ],
      "execution_count": null,
      "outputs": []
    },
    {
      "cell_type": "code",
      "metadata": {
        "trusted": true,
        "id": "ytHMoZ-SltQj"
      },
      "source": [
        "def split_vals(a,n): return a[:n], a[n:]\n",
        "n_valid = 200\n",
        "n_trn = len(data)-n_valid\n",
        "X_train, X_valid = split_vals(df_trn, n_trn)\n",
        "y_train, y_valid = split_vals(y_trn, n_trn)\n",
        "raw_train, raw_valid = split_vals(df_raw, n_trn)"
      ],
      "execution_count": null,
      "outputs": []
    },
    {
      "cell_type": "markdown",
      "metadata": {
        "id": "KLTARRNlltQk"
      },
      "source": [
        "**Out-of-bag score**"
      ]
    },
    {
      "cell_type": "code",
      "metadata": {
        "trusted": true,
        "id": "37OoIAQfltQk"
      },
      "source": [
        "\"\"\"y = data.quality\n",
        "X = data\n",
        "X_train,X_test,y_train,y_test = train_test_split(data.drop('quality',axis=1),data['quality'],test_size=0.25,random_state=42)\n",
        "\n",
        "\n",
        "m = RandomForestRegressor(n_estimators=40, n_jobs=-1, oob_score=True)\n",
        "m.fit(X_train, y_train)\n",
        "print_score(m)\"\"\""
      ],
      "execution_count": null,
      "outputs": []
    },
    {
      "cell_type": "code",
      "metadata": {
        "trusted": true,
        "id": "syn_mDy_ltQk"
      },
      "source": [
        "\"\"\"valid_fraction = 0.1\n",
        "valid_size = int(len(data) * valid_fraction)\n",
        "\n",
        "x_train = data[:-2 * valid_size]\n",
        "x_valid = data[-2 * valid_size:-valid_size]\n",
        "x_test = data[-valid_size:]\n",
        "\"\"\""
      ],
      "execution_count": null,
      "outputs": []
    },
    {
      "cell_type": "code",
      "metadata": {
        "trusted": true,
        "id": "2O1lW6W9ltQk"
      },
      "source": [
        "X = data.drop('quality',axis=1)\n",
        "y = data['quality']\n",
        "\n",
        "X_train,X_test,y_train,y_test = train_test_split(X,y,test_size=0.2,random_state=42)"
      ],
      "execution_count": null,
      "outputs": []
    },
    {
      "cell_type": "markdown",
      "metadata": {
        "id": "s8wI8vgxltQk"
      },
      "source": [
        "# k-Nearest Neighbour"
      ]
    },
    {
      "cell_type": "code",
      "metadata": {
        "trusted": true,
        "id": "bmZoAIc4ltQl",
        "colab": {
          "base_uri": "https://localhost:8080/",
          "height": 222
        },
        "outputId": "fc92cc1c-e91c-423d-8dad-007fd486c27b"
      },
      "source": [
        "from sklearn.neighbors import KNeighborsClassifier\n",
        "\n",
        "from sklearn import metrics\n",
        "from sklearn.metrics import classification_report\n",
        "\n",
        "knn = KNeighborsClassifier()\n",
        "knn.fit(X_train, y_train)\n",
        "y_pred = knn.predict(X_test)\n",
        "\n",
        "print(classification_report(y_test,y_pred))\n",
        "\n",
        "\n",
        "\n",
        "\"\"\"neighbors = np.arange(1,9)\n",
        "train_accuracy =np.empty(len(neighbors))\n",
        "valid_accuracy = np.empty(len(neighbors))\n",
        "\n",
        "for i,k in enumerate(neighbors):\n",
        "    #Setup a knn classifier with k neighbors\n",
        "    knn = KNeighborsClassifier(n_neighbors=k)\n",
        "    \n",
        "    #Fit the model\n",
        "    knn.fit(X_train, y_test)\n",
        "    \n",
        "    #Compute accuracy on the training set\n",
        "    train_accuracy[i] = knn.score(X_train, y_train)\n",
        "    \n",
        "    #Compute accuracy on the test set\n",
        "    test_accuracy[i] = knn.score(X_test, y_test)   \"\"\""
      ],
      "execution_count": null,
      "outputs": [
        {
          "output_type": "stream",
          "text": [
            "              precision    recall  f1-score   support\n",
            "\n",
            "           0       0.88      0.97      0.92       273\n",
            "           1       0.53      0.21      0.30        47\n",
            "\n",
            "    accuracy                           0.86       320\n",
            "   macro avg       0.70      0.59      0.61       320\n",
            "weighted avg       0.83      0.86      0.83       320\n",
            "\n"
          ],
          "name": "stdout"
        },
        {
          "output_type": "execute_result",
          "data": {
            "application/vnd.google.colaboratory.intrinsic+json": {
              "type": "string"
            },
            "text/plain": [
              "'neighbors = np.arange(1,9)\\ntrain_accuracy =np.empty(len(neighbors))\\nvalid_accuracy = np.empty(len(neighbors))\\n\\nfor i,k in enumerate(neighbors):\\n    #Setup a knn classifier with k neighbors\\n    knn = KNeighborsClassifier(n_neighbors=k)\\n    \\n    #Fit the model\\n    knn.fit(X_train, y_test)\\n    \\n    #Compute accuracy on the training set\\n    train_accuracy[i] = knn.score(X_train, y_train)\\n    \\n    #Compute accuracy on the test set\\n    test_accuracy[i] = knn.score(X_test, y_test)   '"
            ]
          },
          "metadata": {
            "tags": []
          },
          "execution_count": 12
        }
      ]
    },
    {
      "cell_type": "code",
      "metadata": {
        "trusted": true,
        "id": "hTWvR-GgltQl"
      },
      "source": [
        "from sklearn.neighbors import KNeighborsClassifier\n",
        "from sklearn.model_selection import train_test_split\n",
        "from sklearn import metrics\n",
        "\n",
        "X = data.drop('quality',axis=1).values\n",
        "y = data['quality'].values\n",
        "\n",
        "x_train,x_test,y_train,y_test = train_test_split(X,y,test_size=0.2,random_state=42)\n",
        "\n",
        "\"\"\"neighbors = np.arange(1,9)\n",
        "train_accuracy =np.empty(len(neighbors))\n",
        "valid_accuracy = np.empty(len(neighbors))\n",
        "\n",
        "for i,k in enumerate(neighbors):\n",
        "    #Setup a knn classifier with k neighbors\n",
        "    knn = KNeighborsClassifier(n_neighbors=k)\n",
        "    \n",
        "    #Fit the model\n",
        "    knn.fit(x_train, y_test)\n",
        "    \n",
        "    #Compute accuracy on the training set\n",
        "    train_accuracy[i] = knn.score(x_train, y_train)\n",
        "    \n",
        "    #Compute accuracy on the test set\n",
        "    test_accuracy[i] = knn.score(x_test, y_test) \n",
        "    \n",
        "\n",
        "\n",
        "#X = data.data\n",
        "#y = data.target\n",
        "\n",
        "#y = data.quality\n",
        "#data_features = ['fixed acidity', 'volatile acidity', 'citric acid', 'residual sugar', 'total sulfur dioxide']\n",
        "#X = data[data_features]\n",
        "\n",
        "#x_train,x_test,y_train,y_test=train_test_split(data.drop('quality',axis=1),data['quality'],test_size=0.25,random_state=42)\n",
        "\n",
        "\n",
        "k = 1\n",
        "#Train Model and Predict  \n",
        "neigh = KNeighborsClassifier(n_neighbors = k).fit(x_train,y)\n",
        "\n",
        "yhat = neigh.predict(x_valid)\n",
        "yhat[0:5]\n",
        "\n",
        "# Jaccard index\n",
        "\n",
        "print(\"Train set Accuracy: \", metrics.accuracy_score(y_train, neigh.predict(x_train)))\n",
        "print(\"Test set Accuracy: \", metrics.accuracy_score(y_valid, yhat))\n",
        "\"\"\""
      ],
      "execution_count": null,
      "outputs": []
    },
    {
      "cell_type": "markdown",
      "metadata": {
        "id": "7xaOT39yltQm"
      },
      "source": [
        "# Decision Tree"
      ]
    },
    {
      "cell_type": "code",
      "metadata": {
        "trusted": true,
        "id": "8cOav0cOltQm"
      },
      "source": [
        "#from sklearn.model_selection import train_test_split\n",
        "from sklearn.tree import DecisionTreeRegressor\n",
        "from sklearn.metrics import mean_absolute_error\n",
        "\n",
        "\n",
        "y = data.quality\n",
        "wine_features = ['fixed acidity', 'volatile acidity', 'citric acid', 'residual sugar', 'total sulfur dioxide']\n",
        "X = data[wine_features]\n",
        "\n",
        "#train_X, val_X, train_y, val_y = train_test_split(X, y,random_state = 0)\n",
        "\n",
        "def get_mae(max_leaf_nodes, train_X, val_X, train_y, val_y):\n",
        "    model = DecisionTreeRegressor(max_leaf_nodes=max_leaf_nodes, random_state=0)\n",
        "    model.fit(train_X, train_y)\n",
        "    preds_val = model.predict(val_X)\n",
        "    mae = mean_absolute_error(val_y, preds_val)\n",
        "    return(mae)\n",
        "\n",
        "candidate_max_leaf_nodes = [5, 25, 50, 100, 250, 500]\n",
        "\n",
        "scores = {leaf_size: get_mae(leaf_size, train_X, val_X, train_y, val_y) for leaf_size in candidate_max_leaf_nodes}\n",
        "best_tree_size = min(scores, key=scores.get)\n",
        "\n",
        "final_model = DecisionTreeRegressor(max_leaf_nodes=best_tree_size, random_state=1)\n",
        "\n",
        "final_model.fit(X, y)\n",
        "\n",
        "\n",
        "\n",
        "\n",
        "val_predictions = final_model.predict(val_X)\n",
        "val_mae = mean_absolute_error(val_predictions, val_y)\n",
        "print(\"Validation MAE: {:,.0f}\".format(val_mae))"
      ],
      "execution_count": null,
      "outputs": []
    },
    {
      "cell_type": "markdown",
      "metadata": {
        "id": "CKJOOU_oltQm"
      },
      "source": [
        "# Random forest"
      ]
    },
    {
      "cell_type": "code",
      "metadata": {
        "trusted": true,
        "id": "0s0NV0iGltQn"
      },
      "source": [
        "rf = RandomForestClassifier()\n",
        "rf.fit(X_train, y_train)\n",
        "y_pred=rf.predict(X_test)\n",
        "\n",
        "print(classification_report(y_test,y_pred))"
      ],
      "execution_count": null,
      "outputs": []
    },
    {
      "cell_type": "markdown",
      "metadata": {
        "id": "r2mryMyQltQn"
      },
      "source": [
        "# Logistic regression"
      ]
    },
    {
      "cell_type": "code",
      "metadata": {
        "trusted": true,
        "id": "e7UbUbYPltQn"
      },
      "source": [
        "lr = LogisticRegression()\n",
        "lr.fit(X_train, y_train)\n",
        "lr_predict = lr.predict(X_test)\n",
        "\n",
        "print(classification_report(y_test,lr_predict))"
      ],
      "execution_count": null,
      "outputs": []
    },
    {
      "cell_type": "markdown",
      "metadata": {
        "id": "N07Mi4qxltQo"
      },
      "source": [
        "Requirements\n",
        "    Do exploratory data analysis.\n",
        "    Do feature engineering.\n",
        "    Do feature preprocessing.\n",
        "    Build a machine learning model.\n",
        "    Explore your model results.\n",
        "Bonus Points\n",
        "    Move your final model to a Python module.\n",
        "    Compare multiple machine learning models.\n",
        "    Do hyperparameter tuning.\n",
        "    Deploy the model on your own machine.\n",
        "    Deploy the model on external service."
      ]
    },
    {
      "cell_type": "markdown",
      "metadata": {
        "id": "giyEQD0ultQo"
      },
      "source": [
        "\n",
        " \n",
        "\n",
        "7. If missing values are present then how to impute them?\n",
        " \n",
        "\n",
        "For various scenarios, while dealing with data you will come across real-world data which will have missing values like nan values, -, blanks. The basic approach to deal with such a situation is to drop/ remove the entire row or column which contains missing values. But dropping is not advisable because there will be a loss of data as well which can result in important parts of the data being removed. So, to deal with such things there are different methods used to impute the missing values. \n",
        "\n",
        " \n",
        "\n",
        "There are two ways by which missing values can be imputed: first is called univariate imputation and the other one is multivariate imputation. \n",
        "\n",
        " \n",
        "\n",
        "Univariate imputation is a type of imputation which imputes missing values considering only the non-missing values in that feature dimension. (e.g. impute.SimpleImputer). \n",
        "\n",
        " \n",
        "\n",
        "On the other hand, a multivariate imputer imputes the missing values considering all available features dimension.(e.g. impute.IterativeImputer). You can read more about imputing missing values here.\n",
        "\n",
        " \n",
        "\n",
        " \n",
        "\n",
        "8. Encoding categorical features \n",
        " \n",
        "\n",
        "Often it is seen that we do not have continuous values in our features. There are sometimes categorical values. And the system cannot understand such values so there is a need to convert them to continuous numerical values. \n",
        "\n",
        " \n",
        "\n",
        "As seen in the below iris data frame we have classes as categorical features which are - ‘Iris-setosa’, ‘Iris-versicolor’, ‘Iris-virginica’.\n",
        "\n",
        " \n",
        "\n",
        "How to encode them?\n",
        " \n",
        " \n",
        "Unique values in class column of the iris data-set which contains categorical values.\n",
        "\n",
        " \n",
        "\n",
        "There are several different techniques which are used to encode categorical values which are stated below:\n",
        "\n",
        " \n",
        "\n",
        "a) LabelEncoder() - It is a function present in the scikit- learn library of python which is used to convert categorical values in numerical values.\n",
        "\n",
        " \n",
        "\n",
        "Hands-on implementation of encoding using LabelEncoder.\n",
        "\n",
        " \n",
        "\n",
        "Here we have imported LabelEncoder from sklearn.preprocessing followed by initialising of the object through which we will use the label encoder. We have made an object called “LE”. Then we have transformed our class column by using the LE.fit_transform function & printed the transformed class which is now [0,1,2]. It has given the values to Iris-setosa - 0, Iris-versicolor  - 1 , Iris-virginica - 2.\n",
        "\n",
        " \n",
        "\n",
        "b) get_dummies() - Converts categorical features into dummy variables. \n",
        "\n",
        " \n",
        "\n",
        "c) OneHotEncoder() - Array-like of integers or strings is the required input for this encoder. The features are encoded using a one-hot encoding scheme. The result is a binary column for each category and reverts a sparse matrix. \n",
        "\n",
        " \n",
        "\n",
        " \n",
        "\n",
        "9. Standardization of data \n",
        " \n",
        "\n",
        "Standardization of data is a major important step that is required for machine learning algorithms to give good results. There are different scaling functions present in the preprocessing module of sci-kit learn. If data is not scaled and is passed to the algorithm the result might be wrong due to wrongly distributed data.\n",
        "\n",
        " \n",
        "\n",
        "Why is it important to scale the data?\n",
        " \n",
        "\n",
        "It is usually seen that we ignore checking the shape of the distribution and change the data to be centered. That is done by removing the mean values of each column and then scaling it by dividing non-constant columns by their standard deviation.\n",
        "\n",
        " \n",
        "\n",
        "Different functions that are used by algorithms to learn to assume that all the desired features are centered as zero and also their variance is in the same structure. If any of the features have a higher proportion than all other features it may dominate the function for learning algorithm and does not allow learning from other features as required. \n",
        "\n",
        " \n",
        "\n",
        "a) Scale :  present in the pre-processing module gives a fast and effective way to do this operation on a single array-like data:\n",
        "\n",
        " \n",
        "\n",
        "Hand-on implementation of scaling using scale.\n",
        "\n",
        " \n",
        "\n",
        "X_scaled has now unit variance and zero mean as you can see in the below image.\n",
        "\n",
        " \n",
        "\n",
        "Scaled data has zero mean and unit variance.\n",
        "\n",
        " \n",
        "\n",
        "b) The pre-processing module also has different other classes like StandardScaler that are used in scaling the data that is converting the mean to be zero and standard deviation to be unit on training data which can be further used in test data as well. Such class can also be used in building pipelines also.\n",
        "\n",
        " \n",
        "\n",
        "The code implementation of standard scaler is shown below.\n",
        "\n",
        " \n",
        "\n",
        "Code implementation of Standard scaler.\n",
        "\n",
        " \n",
        "\n",
        "c) Scaling features to a range:  There are other methods also to scale data within a respective range that is a min values and max value. It mainly ranges between 0 and 1. You can use MinMaxScaler or MaxAbsScaler for scaling the data respectively.\n",
        "\n",
        " \n",
        "\n",
        "d) Scaling sparse data: Centering the scatter data would result in knock-down of sparsity structure of data thus it is not advisable to do. MinMaxScaler and MaxAbs scaler were introduced to scale the sparse data. Scalar often accepts both CSR (Compressed Sparse Rows) & also CSC (Compressed Sparse Columns). If there is any other different sparse input then it is converted to Compressed Sparse Rows. To take care of the memory it is advisable to convert it in CSR and CSC representation.\n",
        "\n",
        " \n",
        "\n",
        "e) Scaling data with presence of outliers : If the data has outliers in it then scaling that sort of data using mean and variance is not a good approach. You can use robust_scale & Robust_Scaler as drop in substitution.\n",
        "\n",
        " \n",
        "\n",
        "10. Normalization of data \n",
        " \n",
        "\n",
        "It is the process of scaling each sample to have a unit standard. These types of techniques are much more effective if you are computing the similarity between different pairs of samples or to use a quadratic form like a dot product.This is the base of models used in text classifications. \n",
        "\n",
        " \n",
        "\n",
        "There is a function in the pre-processing module that is normalized which provides a good way to execute such operations on single array-like data by using l1 or l2 standards. Implementation of normalizing data using normalize is shown in the below image.\n",
        "\n",
        " \n",
        "\n",
        "Code to normalize the data using Normalize function.\n",
        "\n",
        " \n",
        "\n",
        "Pre-processing module also has another class that is called a normalizer that executes the similar operations using the transformer API. This class can also be used in the initial stage of pipeline. Implementation of normalizer is shown below in the image.\n",
        "\n",
        " \n",
        "\n",
        "Code to normalize the data using normalizer function.\n",
        "\n",
        " \n",
        "\n",
        "If you want to look for code implementation of EDA discussed above you can refer to the GitHub link here. It contains a jupyter file and both the datasets which are used. \n"
      ]
    },
    {
      "cell_type": "markdown",
      "metadata": {
        "id": "4Esyp8kngi43"
      },
      "source": [
        "# XGBOOST"
      ]
    },
    {
      "cell_type": "code",
      "metadata": {
        "colab": {
          "base_uri": "https://localhost:8080/"
        },
        "id": "ez33XYl5gmoi",
        "outputId": "1a02d187-5962-486d-cae4-a9a03f110be6"
      },
      "source": [
        "xgb = XGBClassifier(max_depth=3,n_estimators=200,learning_rate=0.5)\r\n",
        "xgb.fit(X_train, y_train)\r\n",
        "y_pred = xgb.predict(X_test)\r\n",
        "# print(accuracy_score(y_test,y_pred))\r\n",
        "\r\n",
        "\r\n",
        "\r\n",
        "rf = RandomForestClassifier()\r\n",
        "rf.fit(X_train, y_train)\r\n",
        "y_pred=rf.predict(X_test)\r\n",
        "\r\n",
        "print(classification_report(y_test, y_pred))"
      ],
      "execution_count": null,
      "outputs": [
        {
          "output_type": "stream",
          "text": [
            "              precision    recall  f1-score   support\n",
            "\n",
            "           0       0.92      0.97      0.94       273\n",
            "           1       0.74      0.53      0.62        47\n",
            "\n",
            "    accuracy                           0.90       320\n",
            "   macro avg       0.83      0.75      0.78       320\n",
            "weighted avg       0.90      0.90      0.90       320\n",
            "\n"
          ],
          "name": "stdout"
        }
      ]
    },
    {
      "cell_type": "code",
      "metadata": {
        "id": "-chQ7Priol98"
      },
      "source": [
        "xgb.imp <- xgb.importance(colnames(train[, !colnames(valid) %in% c(\"quality\")]), model = xgb_model)\r\n",
        "\r\n",
        "xgb.ggplot.importance(importance_matrix = xgb.imp)"
      ],
      "execution_count": null,
      "outputs": []
    }
  ]
}