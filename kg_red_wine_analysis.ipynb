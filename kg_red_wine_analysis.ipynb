{
  "nbformat": 4,
  "nbformat_minor": 0,
  "metadata": {
    "kernelspec": {
      "name": "python3",
      "display_name": "Python 3",
      "language": "python"
    },
    "language_info": {
      "name": "python",
      "version": "3.7.6",
      "mimetype": "text/x-python",
      "codemirror_mode": {
        "name": "ipython",
        "version": 3
      },
      "pygments_lexer": "ipython3",
      "nbconvert_exporter": "python",
      "file_extension": ".py"
    },
    "colab": {
      "name": "kg-red-wine-analysis.ipynb",
      "provenance": [],
      "collapsed_sections": [
        "s8wI8vgxltQk",
        "7xaOT39yltQm",
        "CKJOOU_oltQm",
        "r2mryMyQltQn"
      ],
      "include_colab_link": true
    }
  },
  "cells": [
    {
      "cell_type": "markdown",
      "metadata": {
        "id": "view-in-github",
        "colab_type": "text"
      },
      "source": [
        "<a href=\"https://colab.research.google.com/github/GoKarolis/ML_training_project/blob/main/kg_red_wine_analysis.ipynb\" target=\"_parent\"><img src=\"https://colab.research.google.com/assets/colab-badge.svg\" alt=\"Open In Colab\"/></a>"
      ]
    },
    {
      "cell_type": "markdown",
      "metadata": {
        "id": "r4Kwcx1o-wNY"
      },
      "source": [
        "# Red Wine Quality \r\n",
        "\r\n",
        "\r\n",
        "---\r\n",
        "\r\n",
        "\r\n",
        "by GoKarolis\r\n",
        "\r\n",
        "\r\n",
        "\r\n",
        "\r\n"
      ]
    },
    {
      "cell_type": "markdown",
      "metadata": {
        "id": "8GwUQdJa_F_B"
      },
      "source": [
        "***Inspiration:***\r\n",
        "\r\n",
        "To use machine learning to determine which physiochemical properties make a wine 'good'!\r\n",
        "\r\n",
        "\r\n",
        "***Goals:***\r\n",
        "\r\n",
        "\r\n",
        "*   Create a ML model which finds out the quality of wine\r\n",
        "*   Find out what properties 'Good' wine must have\r\n",
        "* Find out what properties make wine 'Bad'\r\n",
        "\r\n",
        "\r\n",
        "\r\n",
        "\r\n",
        "\r\n",
        "***Raw dataset can be found here:***\r\n",
        "\r\n",
        "https://www.kaggle.com/uciml/red-wine-quality-cortez-et-al-2009"
      ]
    },
    {
      "cell_type": "markdown",
      "metadata": {
        "id": "UwgP3LLoBzS7"
      },
      "source": [
        "# Init"
      ]
    },
    {
      "cell_type": "code",
      "metadata": {
        "id": "ayuPXa_RCOew"
      },
      "source": [
        "%matplotlib inline"
      ],
      "execution_count": 101,
      "outputs": []
    },
    {
      "cell_type": "code",
      "metadata": {
        "id": "_XzQE4lICjIf"
      },
      "source": [
        "# ?display\r\n",
        "# ??display"
      ],
      "execution_count": 102,
      "outputs": []
    },
    {
      "cell_type": "code",
      "metadata": {
        "_uuid": "8f2839f25d086af736a60e9eeb907d3b93b6e0e5",
        "_cell_guid": "b1076dfc-b9ad-4769-8c92-a6c4dae69d19",
        "trusted": true,
        "id": "j9FCLJ73ltQV"
      },
      "source": [
        "import os\n",
        "import numpy as np\n",
        "import pandas as pd\n",
        "import matplotlib.pyplot as plt\n",
        "import seaborn as sns\n",
        "from xgboost import XGBClassifier\n",
        "from xgboost import plot_importance\n",
        "from sklearn.model_selection import train_test_split\n",
        "from sklearn.linear_model import LogisticRegression\n",
        "from sklearn.ensemble import RandomForestClassifier\n",
        "from sklearn.preprocessing import LabelEncoder\n",
        "from sklearn.neighbors import KNeighborsClassifier\n",
        "from sklearn.tree import DecisionTreeClassifier\n",
        "from sklearn.naive_bayes import GaussianNB\n",
        "from sklearn.discriminant_analysis import LinearDiscriminantAnalysis\n",
        "from sklearn.feature_selection import SelectFromModel\n",
        "from sklearn.svm import SVC\n",
        "from sklearn.model_selection import cross_val_score\n",
        "from sklearn.model_selection import StratifiedKFold\n",
        "from sklearn import metrics\n",
        "from sklearn.metrics import classification_report\n",
        "from sklearn.metrics import mean_absolute_error\n",
        "\n",
        "import warnings\n",
        "warnings.simplefilter(action='ignore', category=FutureWarning)"
      ],
      "execution_count": 103,
      "outputs": []
    },
    {
      "cell_type": "code",
      "metadata": {
        "id": "sXCn7nzf1XFE"
      },
      "source": [
        "# Set Seaborn colors\r\n",
        "sns.set_palette(\"Set2\")"
      ],
      "execution_count": 104,
      "outputs": []
    },
    {
      "cell_type": "code",
      "metadata": {
        "colab": {
          "base_uri": "https://localhost:8080/"
        },
        "id": "OvbG9t-vm549",
        "outputId": "1bcf7922-a3d0-4489-a6c1-31e689da5ffe"
      },
      "source": [
        "from google.colab import drive\n",
        "drive.mount('/content/drive')"
      ],
      "execution_count": 105,
      "outputs": [
        {
          "output_type": "stream",
          "text": [
            "Drive already mounted at /content/drive; to attempt to forcibly remount, call drive.mount(\"/content/drive\", force_remount=True).\n"
          ],
          "name": "stdout"
        }
      ]
    },
    {
      "cell_type": "code",
      "metadata": {
        "trusted": true,
        "id": "6XbaX4cnltQd",
        "colab": {
          "base_uri": "https://localhost:8080/"
        },
        "outputId": "70bd098e-f88a-4c20-82b1-15a7ee975e8e"
      },
      "source": [
        "# wine_data == data\n",
        "%time  data = pd.read_csv('/content/drive/MyDrive/Colab_Notebooks/winequality-red.csv')"
      ],
      "execution_count": 106,
      "outputs": [
        {
          "output_type": "stream",
          "text": [
            "CPU times: user 6.12 ms, sys: 0 ns, total: 6.12 ms\n",
            "Wall time: 9.12 ms\n"
          ],
          "name": "stdout"
        }
      ]
    },
    {
      "cell_type": "markdown",
      "metadata": {
        "id": "-aIEWsKwltQe"
      },
      "source": [
        "# **1. Exploratory data analysis**"
      ]
    },
    {
      "cell_type": "markdown",
      "metadata": {
        "id": "W4dYDNacltQe"
      },
      "source": [
        "# 1.1. Shape"
      ]
    },
    {
      "cell_type": "code",
      "metadata": {
        "trusted": true,
        "id": "E4UwS2AbltQe",
        "colab": {
          "base_uri": "https://localhost:8080/"
        },
        "outputId": "2f12a8b6-d7b6-4b1f-d775-597b6efa700f"
      },
      "source": [
        "data.shape"
      ],
      "execution_count": 107,
      "outputs": [
        {
          "output_type": "execute_result",
          "data": {
            "text/plain": [
              "(1599, 12)"
            ]
          },
          "metadata": {
            "tags": []
          },
          "execution_count": 107
        }
      ]
    },
    {
      "cell_type": "markdown",
      "metadata": {
        "id": "2NVKS3xCltQf"
      },
      "source": [
        "# 1.2. Descriptive statistics"
      ]
    },
    {
      "cell_type": "code",
      "metadata": {
        "trusted": true,
        "id": "KN8Zb2O1ltQg",
        "colab": {
          "base_uri": "https://localhost:8080/"
        },
        "outputId": "fabee665-09bf-4a3d-8342-9678a69e6b90"
      },
      "source": [
        "data.isnull().sum()\r\n",
        "\r\n",
        "#data.isna().sum() "
      ],
      "execution_count": 108,
      "outputs": [
        {
          "output_type": "execute_result",
          "data": {
            "text/plain": [
              "fixed acidity           0\n",
              "volatile acidity        0\n",
              "citric acid             0\n",
              "residual sugar          0\n",
              "chlorides               0\n",
              "free sulfur dioxide     0\n",
              "total sulfur dioxide    0\n",
              "density                 0\n",
              "pH                      0\n",
              "sulphates               0\n",
              "alcohol                 0\n",
              "quality                 0\n",
              "dtype: int64"
            ]
          },
          "metadata": {
            "tags": []
          },
          "execution_count": 108
        }
      ]
    },
    {
      "cell_type": "code",
      "metadata": {
        "trusted": true,
        "id": "cJDgaI_lltQf",
        "colab": {
          "base_uri": "https://localhost:8080/",
          "height": 669
        },
        "outputId": "a37cbc35-7829-4d60-8402-da38d7a4ab0e"
      },
      "source": [
        "data.head(20)"
      ],
      "execution_count": 109,
      "outputs": [
        {
          "output_type": "execute_result",
          "data": {
            "text/html": [
              "<div>\n",
              "<style scoped>\n",
              "    .dataframe tbody tr th:only-of-type {\n",
              "        vertical-align: middle;\n",
              "    }\n",
              "\n",
              "    .dataframe tbody tr th {\n",
              "        vertical-align: top;\n",
              "    }\n",
              "\n",
              "    .dataframe thead th {\n",
              "        text-align: right;\n",
              "    }\n",
              "</style>\n",
              "<table border=\"1\" class=\"dataframe\">\n",
              "  <thead>\n",
              "    <tr style=\"text-align: right;\">\n",
              "      <th></th>\n",
              "      <th>fixed acidity</th>\n",
              "      <th>volatile acidity</th>\n",
              "      <th>citric acid</th>\n",
              "      <th>residual sugar</th>\n",
              "      <th>chlorides</th>\n",
              "      <th>free sulfur dioxide</th>\n",
              "      <th>total sulfur dioxide</th>\n",
              "      <th>density</th>\n",
              "      <th>pH</th>\n",
              "      <th>sulphates</th>\n",
              "      <th>alcohol</th>\n",
              "      <th>quality</th>\n",
              "    </tr>\n",
              "  </thead>\n",
              "  <tbody>\n",
              "    <tr>\n",
              "      <th>0</th>\n",
              "      <td>7.4</td>\n",
              "      <td>0.700</td>\n",
              "      <td>0.00</td>\n",
              "      <td>1.9</td>\n",
              "      <td>0.076</td>\n",
              "      <td>11.0</td>\n",
              "      <td>34.0</td>\n",
              "      <td>0.9978</td>\n",
              "      <td>3.51</td>\n",
              "      <td>0.56</td>\n",
              "      <td>9.4</td>\n",
              "      <td>5</td>\n",
              "    </tr>\n",
              "    <tr>\n",
              "      <th>1</th>\n",
              "      <td>7.8</td>\n",
              "      <td>0.880</td>\n",
              "      <td>0.00</td>\n",
              "      <td>2.6</td>\n",
              "      <td>0.098</td>\n",
              "      <td>25.0</td>\n",
              "      <td>67.0</td>\n",
              "      <td>0.9968</td>\n",
              "      <td>3.20</td>\n",
              "      <td>0.68</td>\n",
              "      <td>9.8</td>\n",
              "      <td>5</td>\n",
              "    </tr>\n",
              "    <tr>\n",
              "      <th>2</th>\n",
              "      <td>7.8</td>\n",
              "      <td>0.760</td>\n",
              "      <td>0.04</td>\n",
              "      <td>2.3</td>\n",
              "      <td>0.092</td>\n",
              "      <td>15.0</td>\n",
              "      <td>54.0</td>\n",
              "      <td>0.9970</td>\n",
              "      <td>3.26</td>\n",
              "      <td>0.65</td>\n",
              "      <td>9.8</td>\n",
              "      <td>5</td>\n",
              "    </tr>\n",
              "    <tr>\n",
              "      <th>3</th>\n",
              "      <td>11.2</td>\n",
              "      <td>0.280</td>\n",
              "      <td>0.56</td>\n",
              "      <td>1.9</td>\n",
              "      <td>0.075</td>\n",
              "      <td>17.0</td>\n",
              "      <td>60.0</td>\n",
              "      <td>0.9980</td>\n",
              "      <td>3.16</td>\n",
              "      <td>0.58</td>\n",
              "      <td>9.8</td>\n",
              "      <td>6</td>\n",
              "    </tr>\n",
              "    <tr>\n",
              "      <th>4</th>\n",
              "      <td>7.4</td>\n",
              "      <td>0.700</td>\n",
              "      <td>0.00</td>\n",
              "      <td>1.9</td>\n",
              "      <td>0.076</td>\n",
              "      <td>11.0</td>\n",
              "      <td>34.0</td>\n",
              "      <td>0.9978</td>\n",
              "      <td>3.51</td>\n",
              "      <td>0.56</td>\n",
              "      <td>9.4</td>\n",
              "      <td>5</td>\n",
              "    </tr>\n",
              "    <tr>\n",
              "      <th>5</th>\n",
              "      <td>7.4</td>\n",
              "      <td>0.660</td>\n",
              "      <td>0.00</td>\n",
              "      <td>1.8</td>\n",
              "      <td>0.075</td>\n",
              "      <td>13.0</td>\n",
              "      <td>40.0</td>\n",
              "      <td>0.9978</td>\n",
              "      <td>3.51</td>\n",
              "      <td>0.56</td>\n",
              "      <td>9.4</td>\n",
              "      <td>5</td>\n",
              "    </tr>\n",
              "    <tr>\n",
              "      <th>6</th>\n",
              "      <td>7.9</td>\n",
              "      <td>0.600</td>\n",
              "      <td>0.06</td>\n",
              "      <td>1.6</td>\n",
              "      <td>0.069</td>\n",
              "      <td>15.0</td>\n",
              "      <td>59.0</td>\n",
              "      <td>0.9964</td>\n",
              "      <td>3.30</td>\n",
              "      <td>0.46</td>\n",
              "      <td>9.4</td>\n",
              "      <td>5</td>\n",
              "    </tr>\n",
              "    <tr>\n",
              "      <th>7</th>\n",
              "      <td>7.3</td>\n",
              "      <td>0.650</td>\n",
              "      <td>0.00</td>\n",
              "      <td>1.2</td>\n",
              "      <td>0.065</td>\n",
              "      <td>15.0</td>\n",
              "      <td>21.0</td>\n",
              "      <td>0.9946</td>\n",
              "      <td>3.39</td>\n",
              "      <td>0.47</td>\n",
              "      <td>10.0</td>\n",
              "      <td>7</td>\n",
              "    </tr>\n",
              "    <tr>\n",
              "      <th>8</th>\n",
              "      <td>7.8</td>\n",
              "      <td>0.580</td>\n",
              "      <td>0.02</td>\n",
              "      <td>2.0</td>\n",
              "      <td>0.073</td>\n",
              "      <td>9.0</td>\n",
              "      <td>18.0</td>\n",
              "      <td>0.9968</td>\n",
              "      <td>3.36</td>\n",
              "      <td>0.57</td>\n",
              "      <td>9.5</td>\n",
              "      <td>7</td>\n",
              "    </tr>\n",
              "    <tr>\n",
              "      <th>9</th>\n",
              "      <td>7.5</td>\n",
              "      <td>0.500</td>\n",
              "      <td>0.36</td>\n",
              "      <td>6.1</td>\n",
              "      <td>0.071</td>\n",
              "      <td>17.0</td>\n",
              "      <td>102.0</td>\n",
              "      <td>0.9978</td>\n",
              "      <td>3.35</td>\n",
              "      <td>0.80</td>\n",
              "      <td>10.5</td>\n",
              "      <td>5</td>\n",
              "    </tr>\n",
              "    <tr>\n",
              "      <th>10</th>\n",
              "      <td>6.7</td>\n",
              "      <td>0.580</td>\n",
              "      <td>0.08</td>\n",
              "      <td>1.8</td>\n",
              "      <td>0.097</td>\n",
              "      <td>15.0</td>\n",
              "      <td>65.0</td>\n",
              "      <td>0.9959</td>\n",
              "      <td>3.28</td>\n",
              "      <td>0.54</td>\n",
              "      <td>9.2</td>\n",
              "      <td>5</td>\n",
              "    </tr>\n",
              "    <tr>\n",
              "      <th>11</th>\n",
              "      <td>7.5</td>\n",
              "      <td>0.500</td>\n",
              "      <td>0.36</td>\n",
              "      <td>6.1</td>\n",
              "      <td>0.071</td>\n",
              "      <td>17.0</td>\n",
              "      <td>102.0</td>\n",
              "      <td>0.9978</td>\n",
              "      <td>3.35</td>\n",
              "      <td>0.80</td>\n",
              "      <td>10.5</td>\n",
              "      <td>5</td>\n",
              "    </tr>\n",
              "    <tr>\n",
              "      <th>12</th>\n",
              "      <td>5.6</td>\n",
              "      <td>0.615</td>\n",
              "      <td>0.00</td>\n",
              "      <td>1.6</td>\n",
              "      <td>0.089</td>\n",
              "      <td>16.0</td>\n",
              "      <td>59.0</td>\n",
              "      <td>0.9943</td>\n",
              "      <td>3.58</td>\n",
              "      <td>0.52</td>\n",
              "      <td>9.9</td>\n",
              "      <td>5</td>\n",
              "    </tr>\n",
              "    <tr>\n",
              "      <th>13</th>\n",
              "      <td>7.8</td>\n",
              "      <td>0.610</td>\n",
              "      <td>0.29</td>\n",
              "      <td>1.6</td>\n",
              "      <td>0.114</td>\n",
              "      <td>9.0</td>\n",
              "      <td>29.0</td>\n",
              "      <td>0.9974</td>\n",
              "      <td>3.26</td>\n",
              "      <td>1.56</td>\n",
              "      <td>9.1</td>\n",
              "      <td>5</td>\n",
              "    </tr>\n",
              "    <tr>\n",
              "      <th>14</th>\n",
              "      <td>8.9</td>\n",
              "      <td>0.620</td>\n",
              "      <td>0.18</td>\n",
              "      <td>3.8</td>\n",
              "      <td>0.176</td>\n",
              "      <td>52.0</td>\n",
              "      <td>145.0</td>\n",
              "      <td>0.9986</td>\n",
              "      <td>3.16</td>\n",
              "      <td>0.88</td>\n",
              "      <td>9.2</td>\n",
              "      <td>5</td>\n",
              "    </tr>\n",
              "    <tr>\n",
              "      <th>15</th>\n",
              "      <td>8.9</td>\n",
              "      <td>0.620</td>\n",
              "      <td>0.19</td>\n",
              "      <td>3.9</td>\n",
              "      <td>0.170</td>\n",
              "      <td>51.0</td>\n",
              "      <td>148.0</td>\n",
              "      <td>0.9986</td>\n",
              "      <td>3.17</td>\n",
              "      <td>0.93</td>\n",
              "      <td>9.2</td>\n",
              "      <td>5</td>\n",
              "    </tr>\n",
              "    <tr>\n",
              "      <th>16</th>\n",
              "      <td>8.5</td>\n",
              "      <td>0.280</td>\n",
              "      <td>0.56</td>\n",
              "      <td>1.8</td>\n",
              "      <td>0.092</td>\n",
              "      <td>35.0</td>\n",
              "      <td>103.0</td>\n",
              "      <td>0.9969</td>\n",
              "      <td>3.30</td>\n",
              "      <td>0.75</td>\n",
              "      <td>10.5</td>\n",
              "      <td>7</td>\n",
              "    </tr>\n",
              "    <tr>\n",
              "      <th>17</th>\n",
              "      <td>8.1</td>\n",
              "      <td>0.560</td>\n",
              "      <td>0.28</td>\n",
              "      <td>1.7</td>\n",
              "      <td>0.368</td>\n",
              "      <td>16.0</td>\n",
              "      <td>56.0</td>\n",
              "      <td>0.9968</td>\n",
              "      <td>3.11</td>\n",
              "      <td>1.28</td>\n",
              "      <td>9.3</td>\n",
              "      <td>5</td>\n",
              "    </tr>\n",
              "    <tr>\n",
              "      <th>18</th>\n",
              "      <td>7.4</td>\n",
              "      <td>0.590</td>\n",
              "      <td>0.08</td>\n",
              "      <td>4.4</td>\n",
              "      <td>0.086</td>\n",
              "      <td>6.0</td>\n",
              "      <td>29.0</td>\n",
              "      <td>0.9974</td>\n",
              "      <td>3.38</td>\n",
              "      <td>0.50</td>\n",
              "      <td>9.0</td>\n",
              "      <td>4</td>\n",
              "    </tr>\n",
              "    <tr>\n",
              "      <th>19</th>\n",
              "      <td>7.9</td>\n",
              "      <td>0.320</td>\n",
              "      <td>0.51</td>\n",
              "      <td>1.8</td>\n",
              "      <td>0.341</td>\n",
              "      <td>17.0</td>\n",
              "      <td>56.0</td>\n",
              "      <td>0.9969</td>\n",
              "      <td>3.04</td>\n",
              "      <td>1.08</td>\n",
              "      <td>9.2</td>\n",
              "      <td>6</td>\n",
              "    </tr>\n",
              "  </tbody>\n",
              "</table>\n",
              "</div>"
            ],
            "text/plain": [
              "    fixed acidity  volatile acidity  citric acid  ...  sulphates  alcohol  quality\n",
              "0             7.4             0.700         0.00  ...       0.56      9.4        5\n",
              "1             7.8             0.880         0.00  ...       0.68      9.8        5\n",
              "2             7.8             0.760         0.04  ...       0.65      9.8        5\n",
              "3            11.2             0.280         0.56  ...       0.58      9.8        6\n",
              "4             7.4             0.700         0.00  ...       0.56      9.4        5\n",
              "5             7.4             0.660         0.00  ...       0.56      9.4        5\n",
              "6             7.9             0.600         0.06  ...       0.46      9.4        5\n",
              "7             7.3             0.650         0.00  ...       0.47     10.0        7\n",
              "8             7.8             0.580         0.02  ...       0.57      9.5        7\n",
              "9             7.5             0.500         0.36  ...       0.80     10.5        5\n",
              "10            6.7             0.580         0.08  ...       0.54      9.2        5\n",
              "11            7.5             0.500         0.36  ...       0.80     10.5        5\n",
              "12            5.6             0.615         0.00  ...       0.52      9.9        5\n",
              "13            7.8             0.610         0.29  ...       1.56      9.1        5\n",
              "14            8.9             0.620         0.18  ...       0.88      9.2        5\n",
              "15            8.9             0.620         0.19  ...       0.93      9.2        5\n",
              "16            8.5             0.280         0.56  ...       0.75     10.5        7\n",
              "17            8.1             0.560         0.28  ...       1.28      9.3        5\n",
              "18            7.4             0.590         0.08  ...       0.50      9.0        4\n",
              "19            7.9             0.320         0.51  ...       1.08      9.2        6\n",
              "\n",
              "[20 rows x 12 columns]"
            ]
          },
          "metadata": {
            "tags": []
          },
          "execution_count": 109
        }
      ]
    },
    {
      "cell_type": "code",
      "metadata": {
        "trusted": true,
        "id": "2cijK8jAltQg",
        "colab": {
          "base_uri": "https://localhost:8080/",
          "height": 297
        },
        "outputId": "a51d3ee2-af53-4ebe-97f8-0ab4ba5539ac"
      },
      "source": [
        "data.describe()"
      ],
      "execution_count": 110,
      "outputs": [
        {
          "output_type": "execute_result",
          "data": {
            "text/html": [
              "<div>\n",
              "<style scoped>\n",
              "    .dataframe tbody tr th:only-of-type {\n",
              "        vertical-align: middle;\n",
              "    }\n",
              "\n",
              "    .dataframe tbody tr th {\n",
              "        vertical-align: top;\n",
              "    }\n",
              "\n",
              "    .dataframe thead th {\n",
              "        text-align: right;\n",
              "    }\n",
              "</style>\n",
              "<table border=\"1\" class=\"dataframe\">\n",
              "  <thead>\n",
              "    <tr style=\"text-align: right;\">\n",
              "      <th></th>\n",
              "      <th>fixed acidity</th>\n",
              "      <th>volatile acidity</th>\n",
              "      <th>citric acid</th>\n",
              "      <th>residual sugar</th>\n",
              "      <th>chlorides</th>\n",
              "      <th>free sulfur dioxide</th>\n",
              "      <th>total sulfur dioxide</th>\n",
              "      <th>density</th>\n",
              "      <th>pH</th>\n",
              "      <th>sulphates</th>\n",
              "      <th>alcohol</th>\n",
              "      <th>quality</th>\n",
              "    </tr>\n",
              "  </thead>\n",
              "  <tbody>\n",
              "    <tr>\n",
              "      <th>count</th>\n",
              "      <td>1599.000000</td>\n",
              "      <td>1599.000000</td>\n",
              "      <td>1599.000000</td>\n",
              "      <td>1599.000000</td>\n",
              "      <td>1599.000000</td>\n",
              "      <td>1599.000000</td>\n",
              "      <td>1599.000000</td>\n",
              "      <td>1599.000000</td>\n",
              "      <td>1599.000000</td>\n",
              "      <td>1599.000000</td>\n",
              "      <td>1599.000000</td>\n",
              "      <td>1599.000000</td>\n",
              "    </tr>\n",
              "    <tr>\n",
              "      <th>mean</th>\n",
              "      <td>8.319637</td>\n",
              "      <td>0.527821</td>\n",
              "      <td>0.270976</td>\n",
              "      <td>2.538806</td>\n",
              "      <td>0.087467</td>\n",
              "      <td>15.874922</td>\n",
              "      <td>46.467792</td>\n",
              "      <td>0.996747</td>\n",
              "      <td>3.311113</td>\n",
              "      <td>0.658149</td>\n",
              "      <td>10.422983</td>\n",
              "      <td>5.636023</td>\n",
              "    </tr>\n",
              "    <tr>\n",
              "      <th>std</th>\n",
              "      <td>1.741096</td>\n",
              "      <td>0.179060</td>\n",
              "      <td>0.194801</td>\n",
              "      <td>1.409928</td>\n",
              "      <td>0.047065</td>\n",
              "      <td>10.460157</td>\n",
              "      <td>32.895324</td>\n",
              "      <td>0.001887</td>\n",
              "      <td>0.154386</td>\n",
              "      <td>0.169507</td>\n",
              "      <td>1.065668</td>\n",
              "      <td>0.807569</td>\n",
              "    </tr>\n",
              "    <tr>\n",
              "      <th>min</th>\n",
              "      <td>4.600000</td>\n",
              "      <td>0.120000</td>\n",
              "      <td>0.000000</td>\n",
              "      <td>0.900000</td>\n",
              "      <td>0.012000</td>\n",
              "      <td>1.000000</td>\n",
              "      <td>6.000000</td>\n",
              "      <td>0.990070</td>\n",
              "      <td>2.740000</td>\n",
              "      <td>0.330000</td>\n",
              "      <td>8.400000</td>\n",
              "      <td>3.000000</td>\n",
              "    </tr>\n",
              "    <tr>\n",
              "      <th>25%</th>\n",
              "      <td>7.100000</td>\n",
              "      <td>0.390000</td>\n",
              "      <td>0.090000</td>\n",
              "      <td>1.900000</td>\n",
              "      <td>0.070000</td>\n",
              "      <td>7.000000</td>\n",
              "      <td>22.000000</td>\n",
              "      <td>0.995600</td>\n",
              "      <td>3.210000</td>\n",
              "      <td>0.550000</td>\n",
              "      <td>9.500000</td>\n",
              "      <td>5.000000</td>\n",
              "    </tr>\n",
              "    <tr>\n",
              "      <th>50%</th>\n",
              "      <td>7.900000</td>\n",
              "      <td>0.520000</td>\n",
              "      <td>0.260000</td>\n",
              "      <td>2.200000</td>\n",
              "      <td>0.079000</td>\n",
              "      <td>14.000000</td>\n",
              "      <td>38.000000</td>\n",
              "      <td>0.996750</td>\n",
              "      <td>3.310000</td>\n",
              "      <td>0.620000</td>\n",
              "      <td>10.200000</td>\n",
              "      <td>6.000000</td>\n",
              "    </tr>\n",
              "    <tr>\n",
              "      <th>75%</th>\n",
              "      <td>9.200000</td>\n",
              "      <td>0.640000</td>\n",
              "      <td>0.420000</td>\n",
              "      <td>2.600000</td>\n",
              "      <td>0.090000</td>\n",
              "      <td>21.000000</td>\n",
              "      <td>62.000000</td>\n",
              "      <td>0.997835</td>\n",
              "      <td>3.400000</td>\n",
              "      <td>0.730000</td>\n",
              "      <td>11.100000</td>\n",
              "      <td>6.000000</td>\n",
              "    </tr>\n",
              "    <tr>\n",
              "      <th>max</th>\n",
              "      <td>15.900000</td>\n",
              "      <td>1.580000</td>\n",
              "      <td>1.000000</td>\n",
              "      <td>15.500000</td>\n",
              "      <td>0.611000</td>\n",
              "      <td>72.000000</td>\n",
              "      <td>289.000000</td>\n",
              "      <td>1.003690</td>\n",
              "      <td>4.010000</td>\n",
              "      <td>2.000000</td>\n",
              "      <td>14.900000</td>\n",
              "      <td>8.000000</td>\n",
              "    </tr>\n",
              "  </tbody>\n",
              "</table>\n",
              "</div>"
            ],
            "text/plain": [
              "       fixed acidity  volatile acidity  ...      alcohol      quality\n",
              "count    1599.000000       1599.000000  ...  1599.000000  1599.000000\n",
              "mean        8.319637          0.527821  ...    10.422983     5.636023\n",
              "std         1.741096          0.179060  ...     1.065668     0.807569\n",
              "min         4.600000          0.120000  ...     8.400000     3.000000\n",
              "25%         7.100000          0.390000  ...     9.500000     5.000000\n",
              "50%         7.900000          0.520000  ...    10.200000     6.000000\n",
              "75%         9.200000          0.640000  ...    11.100000     6.000000\n",
              "max        15.900000          1.580000  ...    14.900000     8.000000\n",
              "\n",
              "[8 rows x 12 columns]"
            ]
          },
          "metadata": {
            "tags": []
          },
          "execution_count": 110
        }
      ]
    },
    {
      "cell_type": "code",
      "metadata": {
        "trusted": true,
        "id": "ts-dq81tltQh",
        "colab": {
          "base_uri": "https://localhost:8080/",
          "height": 35
        },
        "outputId": "7c577cb6-df51-4705-f566-4cbeb105f29e"
      },
      "source": [
        "\"\"\"\n",
        "def display_all(data):\n",
        "    with pd.option_context(\"display.max_rows\", 10000, \"display.max_columns\", 10000): \n",
        "        display(data)\n",
        "\n",
        "display_all(data.describe(include='all').T)\n",
        "\"\"\""
      ],
      "execution_count": 111,
      "outputs": [
        {
          "output_type": "execute_result",
          "data": {
            "application/vnd.google.colaboratory.intrinsic+json": {
              "type": "string"
            },
            "text/plain": [
              "'\\ndef display_all(data):\\n    with pd.option_context(\"display.max_rows\", 10000, \"display.max_columns\", 10000): \\n        display(data)\\n\\ndisplay_all(data.describe(include=\\'all\\').T)\\n'"
            ]
          },
          "metadata": {
            "tags": []
          },
          "execution_count": 111
        }
      ]
    },
    {
      "cell_type": "markdown",
      "metadata": {
        "id": "vKnWP6JZltQh"
      },
      "source": [
        "# 1.3. Data types and more information about the data"
      ]
    },
    {
      "cell_type": "code",
      "metadata": {
        "trusted": true,
        "id": "QO3meiwkltQh",
        "colab": {
          "base_uri": "https://localhost:8080/"
        },
        "outputId": "753235ef-f9ce-4c08-9f58-6b2aca19b42b"
      },
      "source": [
        "data.dtypes"
      ],
      "execution_count": 112,
      "outputs": [
        {
          "output_type": "execute_result",
          "data": {
            "text/plain": [
              "fixed acidity           float64\n",
              "volatile acidity        float64\n",
              "citric acid             float64\n",
              "residual sugar          float64\n",
              "chlorides               float64\n",
              "free sulfur dioxide     float64\n",
              "total sulfur dioxide    float64\n",
              "density                 float64\n",
              "pH                      float64\n",
              "sulphates               float64\n",
              "alcohol                 float64\n",
              "quality                   int64\n",
              "dtype: object"
            ]
          },
          "metadata": {
            "tags": []
          },
          "execution_count": 112
        }
      ]
    },
    {
      "cell_type": "code",
      "metadata": {
        "trusted": true,
        "id": "fDAmKuUSltQi",
        "colab": {
          "base_uri": "https://localhost:8080/"
        },
        "outputId": "d166a50c-cfab-46d7-b0b0-58bcf4223e13"
      },
      "source": [
        "data['quality'].value_counts().sort_index(ascending=False)"
      ],
      "execution_count": 113,
      "outputs": [
        {
          "output_type": "execute_result",
          "data": {
            "text/plain": [
              "8     18\n",
              "7    199\n",
              "6    638\n",
              "5    681\n",
              "4     53\n",
              "3     10\n",
              "Name: quality, dtype: int64"
            ]
          },
          "metadata": {
            "tags": []
          },
          "execution_count": 113
        }
      ]
    },
    {
      "cell_type": "code",
      "metadata": {
        "colab": {
          "base_uri": "https://localhost:8080/",
          "height": 295
        },
        "id": "IJX05GnLsb9y",
        "outputId": "797a35cb-355b-48b4-85e7-43501fee32f6"
      },
      "source": [
        "plt.title('Wines and their quality')\r\n",
        "sns.countplot(data['quality'])\r\n",
        "plt.show()\r\n"
      ],
      "execution_count": 114,
      "outputs": [
        {
          "output_type": "display_data",
          "data": {
            "image/png": "[encoded data removed]",
            "text/plain": [
              "<Figure size 432x288 with 1 Axes>"
            ]
          },
          "metadata": {
            "tags": [],
            "needs_background": "light"
          }
        }
      ]
    },
    {
      "cell_type": "markdown",
      "metadata": {
        "id": "uZI9CQg0St_K"
      },
      "source": [
        "# **2. Feature engineering**"
      ]
    },
    {
      "cell_type": "markdown",
      "metadata": {
        "id": "6CJKIoVyltQi"
      },
      "source": [
        "# **3. Feature pre-processing**"
      ]
    },
    {
      "cell_type": "code",
      "metadata": {
        "trusted": true,
        "id": "77ZZMAWBltQi"
      },
      "source": [
        "bins = (2, 6.5, 8)\n",
        "group_names = ['bad', 'good']\n",
        "data['quality'] = pd.cut(data['quality'], bins = bins, labels = group_names)"
      ],
      "execution_count": 115,
      "outputs": []
    },
    {
      "cell_type": "code",
      "metadata": {
        "colab": {
          "base_uri": "https://localhost:8080/",
          "height": 346
        },
        "id": "opNLb9BkQqIL",
        "outputId": "58b40e2a-4b70-4dc1-e69e-37ec1cfcce4d"
      },
      "source": [
        "plt.title('\\'Bad\\' wines and \\'Good\\' wines proportion')\r\n",
        "sns.countplot(data['quality'])\r\n",
        "plt.show()\r\n",
        "data['quality'].value_counts()"
      ],
      "execution_count": 116,
      "outputs": [
        {
          "output_type": "display_data",
          "data": {
            "image/png": "[encoded data removed]",
            "text/plain": [
              "<Figure size 432x288 with 1 Axes>"
            ]
          },
          "metadata": {
            "tags": [],
            "needs_background": "light"
          }
        },
        {
          "output_type": "execute_result",
          "data": {
            "text/plain": [
              "bad     1382\n",
              "good     217\n",
              "Name: quality, dtype: int64"
            ]
          },
          "metadata": {
            "tags": []
          },
          "execution_count": 116
        }
      ]
    },
    {
      "cell_type": "code",
      "metadata": {
        "trusted": true,
        "id": "k_mmSvK5ltQi"
      },
      "source": [
        "label_quality = LabelEncoder()\n",
        "\n",
        "data['quality'] = label_quality.fit_transform(data['quality'])\n",
        "\n",
        "X = data.drop('quality', axis = 1)\n",
        "y = data['quality']"
      ],
      "execution_count": 117,
      "outputs": []
    },
    {
      "cell_type": "markdown",
      "metadata": {
        "id": "_tfDcvA9ltQj"
      },
      "source": [
        "# Train test split"
      ]
    },
    {
      "cell_type": "code",
      "metadata": {
        "trusted": true,
        "id": "nt56410wltQj"
      },
      "source": [
        "X_train, X_test, y_train, y_test = train_test_split(X, y, test_size = 0.2, random_state = 42)"
      ],
      "execution_count": 118,
      "outputs": []
    },
    {
      "cell_type": "markdown",
      "metadata": {
        "id": "ZuHfWkeXT7Fq"
      },
      "source": [
        "# **4. Building machine learning model**"
      ]
    },
    {
      "cell_type": "markdown",
      "metadata": {
        "id": "tAV2DX0AX77e"
      },
      "source": [
        "4.1. Out of the box models performance comparison:"
      ]
    },
    {
      "cell_type": "code",
      "metadata": {
        "colab": {
          "base_uri": "https://localhost:8080/"
        },
        "id": "7F0Hz3y3YOTV",
        "outputId": "324f8911-8e84-48fd-b970-382ab52918b0"
      },
      "source": [
        "models = []\r\n",
        "models.append(('LR', LogisticRegression(solver='liblinear', multi_class='ovr')))\r\n",
        "models.append(('LDA', LinearDiscriminantAnalysis()))\r\n",
        "models.append(('KNN', KNeighborsClassifier()))\r\n",
        "models.append(('CART', DecisionTreeClassifier()))\r\n",
        "models.append(('NB', GaussianNB()))\r\n",
        "models.append(('SVM', SVC(gamma='auto')))\r\n",
        "models.append(('XGB', XGBClassifier()))\r\n",
        "\r\n",
        "results = []\r\n",
        "names = []\r\n",
        "for name, model in models:\r\n",
        "\tkfold = StratifiedKFold(n_splits=10, random_state=1, shuffle=True)\r\n",
        "\tcv_results = cross_val_score(model, X_train, y_train, cv=kfold, scoring='accuracy')\r\n",
        "\tresults.append(cv_results)\r\n",
        "\tnames.append(name)\r\n",
        "\tprint('%s: %f (%f)' % (name, cv_results.mean(), cv_results.std()))"
      ],
      "execution_count": 119,
      "outputs": [
        {
          "output_type": "stream",
          "text": [
            "LR: 0.877258 (0.023403)\n",
            "LDA: 0.881921 (0.026807)\n",
            "KNN: 0.866277 (0.020103)\n",
            "CART: 0.880352 (0.030780)\n",
            "NB: 0.835808 (0.034235)\n",
            "SVM: 0.887402 (0.012307)\n",
            "XGB: 0.894433 (0.021979)\n"
          ],
          "name": "stdout"
        }
      ]
    },
    {
      "cell_type": "code",
      "metadata": {
        "colab": {
          "base_uri": "https://localhost:8080/"
        },
        "id": "NIM7k4zA7iMq",
        "outputId": "5928e946-63cc-422f-901c-17b30687dccf"
      },
      "source": [
        "print(results)"
      ],
      "execution_count": 120,
      "outputs": [
        {
          "output_type": "stream",
          "text": [
            "[array([0.8515625 , 0.9140625 , 0.875     , 0.8359375 , 0.8671875 ,\n",
            "       0.875     , 0.8828125 , 0.8671875 , 0.9140625 , 0.88976378]), array([0.8515625 , 0.8984375 , 0.890625  , 0.8515625 , 0.875     ,\n",
            "       0.8984375 , 0.921875  , 0.8515625 , 0.921875  , 0.85826772]), array([0.8671875 , 0.8984375 , 0.859375  , 0.859375  , 0.8359375 ,\n",
            "       0.890625  , 0.8828125 , 0.859375  , 0.875     , 0.83464567]), array([0.8359375, 0.8828125, 0.875    , 0.8515625, 0.890625 , 0.9296875,\n",
            "       0.9296875, 0.859375 , 0.8984375, 0.8503937]), array([0.7421875 , 0.8515625 , 0.8671875 , 0.828125  , 0.8359375 ,\n",
            "       0.84375   , 0.828125  , 0.859375  , 0.8671875 , 0.83464567]), array([0.890625  , 0.90625   , 0.8671875 , 0.8828125 , 0.8828125 ,\n",
            "       0.8828125 , 0.8984375 , 0.8828125 , 0.90625   , 0.87401575]), array([0.8828125 , 0.8984375 , 0.9140625 , 0.890625  , 0.890625  ,\n",
            "       0.8984375 , 0.90625   , 0.8515625 , 0.9375    , 0.87401575])]\n"
          ],
          "name": "stdout"
        }
      ]
    },
    {
      "cell_type": "code",
      "metadata": {
        "colab": {
          "base_uri": "https://localhost:8080/",
          "height": 281
        },
        "id": "wabVMsEV4nAI",
        "outputId": "dd9d5252-cdad-4e15-b3df-6cb8feeb9419"
      },
      "source": [
        "#sns.boxplot(results, labels=names)\r\n",
        "#sns.title('Algorithm Comparison')\r\n",
        "#sns.show()\r\n",
        "\r\n",
        "plt.boxplot(results, labels=names)\r\n",
        "plt.title('Out of the box models performance comparison')\r\n",
        "plt.show()"
      ],
      "execution_count": 121,
      "outputs": [
        {
          "output_type": "display_data",
          "data": {
            "image/png": "[encoded data removed]",
            "text/plain": [
              "<Figure size 432x288 with 1 Axes>"
            ]
          },
          "metadata": {
            "tags": [],
            "needs_background": "light"
          }
        }
      ]
    },
    {
      "cell_type": "markdown",
      "metadata": {
        "id": "s8wI8vgxltQk"
      },
      "source": [
        "# k-Nearest Neighbour"
      ]
    },
    {
      "cell_type": "code",
      "metadata": {
        "trusted": true,
        "id": "bmZoAIc4ltQl",
        "colab": {
          "base_uri": "https://localhost:8080/"
        },
        "outputId": "893a4605-7c16-4737-b861-ba7b54d5b550"
      },
      "source": [
        "knn = KNeighborsClassifier()\n",
        "knn.fit(X_train, y_train)\n",
        "y_pred = knn.predict(X_test)\n",
        "\n",
        "print(classification_report(y_test,y_pred))"
      ],
      "execution_count": 122,
      "outputs": [
        {
          "output_type": "stream",
          "text": [
            "              precision    recall  f1-score   support\n",
            "\n",
            "           0       0.88      0.97      0.92       273\n",
            "           1       0.53      0.21      0.30        47\n",
            "\n",
            "    accuracy                           0.86       320\n",
            "   macro avg       0.70      0.59      0.61       320\n",
            "weighted avg       0.83      0.86      0.83       320\n",
            "\n"
          ],
          "name": "stdout"
        }
      ]
    },
    {
      "cell_type": "markdown",
      "metadata": {
        "id": "7xaOT39yltQm"
      },
      "source": [
        "# Decision Tree"
      ]
    },
    {
      "cell_type": "code",
      "metadata": {
        "trusted": true,
        "id": "8cOav0cOltQm",
        "colab": {
          "base_uri": "https://localhost:8080/"
        },
        "outputId": "db2324cf-6dfa-4442-d845-ca92778b0dad"
      },
      "source": [
        "dt = DecisionTreeClassifier()\n",
        "dt.fit(X_train,y_train)\n",
        "y_pred=dt.predict(X_test)\n",
        "\n",
        "print(classification_report(y_test,y_pred))"
      ],
      "execution_count": 123,
      "outputs": [
        {
          "output_type": "stream",
          "text": [
            "              precision    recall  f1-score   support\n",
            "\n",
            "           0       0.93      0.93      0.93       273\n",
            "           1       0.61      0.60      0.60        47\n",
            "\n",
            "    accuracy                           0.88       320\n",
            "   macro avg       0.77      0.76      0.77       320\n",
            "weighted avg       0.88      0.88      0.88       320\n",
            "\n"
          ],
          "name": "stdout"
        }
      ]
    },
    {
      "cell_type": "markdown",
      "metadata": {
        "id": "CKJOOU_oltQm"
      },
      "source": [
        "# Random forest"
      ]
    },
    {
      "cell_type": "code",
      "metadata": {
        "trusted": true,
        "id": "0s0NV0iGltQn",
        "colab": {
          "base_uri": "https://localhost:8080/"
        },
        "outputId": "ee47387c-567b-4e6e-c18e-06b55a0c9e7a"
      },
      "source": [
        "rf = RandomForestClassifier(n_jobs=-1)\n",
        "rf.fit(X_train, y_train)\n",
        "y_pred=rf.predict(X_test)\n",
        "\n",
        "print(classification_report(y_test,y_pred))"
      ],
      "execution_count": 124,
      "outputs": [
        {
          "output_type": "stream",
          "text": [
            "              precision    recall  f1-score   support\n",
            "\n",
            "           0       0.92      0.97      0.94       273\n",
            "           1       0.72      0.49      0.58        47\n",
            "\n",
            "    accuracy                           0.90       320\n",
            "   macro avg       0.82      0.73      0.76       320\n",
            "weighted avg       0.89      0.90      0.89       320\n",
            "\n"
          ],
          "name": "stdout"
        }
      ]
    },
    {
      "cell_type": "markdown",
      "metadata": {
        "id": "r2mryMyQltQn"
      },
      "source": [
        "# Logistic regression"
      ]
    },
    {
      "cell_type": "code",
      "metadata": {
        "trusted": true,
        "id": "e7UbUbYPltQn",
        "colab": {
          "base_uri": "https://localhost:8080/"
        },
        "outputId": "7c649394-9d97-4c6a-9d7d-2648a64d4fab"
      },
      "source": [
        "lr = LogisticRegression()\n",
        "lr.fit(X_train, y_train)\n",
        "lr_predict = lr.predict(X_test)\n",
        "\n",
        "print(classification_report(y_test,lr_predict))"
      ],
      "execution_count": 125,
      "outputs": [
        {
          "output_type": "stream",
          "text": [
            "              precision    recall  f1-score   support\n",
            "\n",
            "           0       0.88      0.98      0.93       273\n",
            "           1       0.62      0.21      0.32        47\n",
            "\n",
            "    accuracy                           0.87       320\n",
            "   macro avg       0.75      0.60      0.62       320\n",
            "weighted avg       0.84      0.87      0.84       320\n",
            "\n"
          ],
          "name": "stdout"
        },
        {
          "output_type": "stream",
          "text": [
            "/usr/local/lib/python3.6/dist-packages/sklearn/linear_model/_logistic.py:940: ConvergenceWarning: lbfgs failed to converge (status=1):\n",
            "STOP: TOTAL NO. of ITERATIONS REACHED LIMIT.\n",
            "\n",
            "Increase the number of iterations (max_iter) or scale the data as shown in:\n",
            "    https://scikit-learn.org/stable/modules/preprocessing.html\n",
            "Please also refer to the documentation for alternative solver options:\n",
            "    https://scikit-learn.org/stable/modules/linear_model.html#logistic-regression\n",
            "  extra_warning_msg=_LOGISTIC_SOLVER_CONVERGENCE_MSG)\n"
          ],
          "name": "stderr"
        }
      ]
    },
    {
      "cell_type": "markdown",
      "metadata": {
        "id": "4Esyp8kngi43"
      },
      "source": [
        "# XGBOOST"
      ]
    },
    {
      "cell_type": "markdown",
      "metadata": {
        "id": "N07Mi4qxltQo"
      },
      "source": [
        "Requirements\n",
        "    Do exploratory data analysis.\n",
        "    Do feature engineering.\n",
        "    Do feature preprocessing.\n",
        "    Build a machine learning model.\n",
        "    Explore your model results.\n",
        "Bonus Points\n",
        "    Move your final model to a Python module.\n",
        "    Compare multiple machine learning models.\n",
        "    Do hyperparameter tuning.\n",
        "    Deploy the model on your own machine.\n",
        "    Deploy the model on external service."
      ]
    },
    {
      "cell_type": "markdown",
      "metadata": {
        "id": "RxkE6fZD2W7s"
      },
      "source": [
        "standard deviation of absolute error (STD of AE)"
      ]
    },
    {
      "cell_type": "code",
      "metadata": {
        "id": "ez33XYl5gmoi",
        "colab": {
          "base_uri": "https://localhost:8080/"
        },
        "outputId": "bf9e6e49-ab44-47d2-a676-f2d8e775ee13"
      },
      "source": [
        "# https://www.kaggle.com/alexisbcook/xgboost\r\n",
        "\r\n",
        "xgb = XGBClassifier(n_estimators=1000, \r\n",
        "                    learning_rate=0.1,\r\n",
        "                    max_depth=4, \r\n",
        "                    early_stopping_rounds=5,\r\n",
        "                    subsample=0.8,\r\n",
        "                    #colsample_bytree = 0.4,\r\n",
        "                    #gamma=1\r\n",
        "                    )  \r\n",
        "xgb.fit(X_train, y_train)\r\n",
        "y_pred = xgb.predict(X_test)\r\n",
        "# print(accuracy_score(y_test,y_pred))\r\n",
        "\r\n",
        "print(classification_report(y_test, y_pred))"
      ],
      "execution_count": 160,
      "outputs": [
        {
          "output_type": "stream",
          "text": [
            "              precision    recall  f1-score   support\n",
            "\n",
            "           0       0.95      0.96      0.95       273\n",
            "           1       0.76      0.68      0.72        47\n",
            "\n",
            "    accuracy                           0.92       320\n",
            "   macro avg       0.85      0.82      0.84       320\n",
            "weighted avg       0.92      0.92      0.92       320\n",
            "\n"
          ],
          "name": "stdout"
        }
      ]
    },
    {
      "cell_type": "code",
      "metadata": {
        "id": "5mVsVMLu3NIj",
        "colab": {
          "base_uri": "https://localhost:8080/"
        },
        "outputId": "6b4d4f0b-8bac-44d7-8fca-650e36384acd"
      },
      "source": [
        "print(xgb.feature_importances_)"
      ],
      "execution_count": 128,
      "outputs": [
        {
          "output_type": "stream",
          "text": [
            "[0.06549377 0.11755836 0.08418163 0.06082711 0.06564374 0.06041238\n",
            " 0.0831816  0.07685087 0.0564259  0.13178563 0.19763905]\n"
          ],
          "name": "stdout"
        }
      ]
    },
    {
      "cell_type": "code",
      "metadata": {
        "id": "09NOWhJD3XC4",
        "colab": {
          "base_uri": "https://localhost:8080/",
          "height": 265
        },
        "outputId": "e884561a-9aed-4a2f-d645-75d81a514cb3"
      },
      "source": [
        "# plot\r\n",
        "plt.bar(range(len(xgb.feature_importances_)), xgb.feature_importances_)\r\n",
        "plt.show()"
      ],
      "execution_count": 129,
      "outputs": [
        {
          "output_type": "display_data",
          "data": {
            "image/png": "[encoded data removed]",
            "text/plain": [
              "<Figure size 432x288 with 1 Axes>"
            ]
          },
          "metadata": {
            "tags": [],
            "needs_background": "light"
          }
        }
      ]
    },
    {
      "cell_type": "code",
      "metadata": {
        "id": "MLHeigT13dCj",
        "colab": {
          "base_uri": "https://localhost:8080/",
          "height": 295
        },
        "outputId": "550fec1c-6014-46a0-d165-2099d2c99d4b"
      },
      "source": [
        "plot_importance(xgb)\r\n",
        "plt.show()"
      ],
      "execution_count": 130,
      "outputs": [
        {
          "output_type": "display_data",
          "data": {
            "image/png": "[encoded data removed]",
            "text/plain": [
              "<Figure size 432x288 with 1 Axes>"
            ]
          },
          "metadata": {
            "tags": [],
            "needs_background": "light"
          }
        }
      ]
    },
    {
      "cell_type": "code",
      "metadata": {
        "id": "lBzWP6YYzF7D",
        "colab": {
          "base_uri": "https://localhost:8080/"
        },
        "outputId": "41bba7d3-0800-4f15-92df-8b38fbccb30b"
      },
      "source": [
        "# use feature importance for feature selection\r\n",
        "from numpy import loadtxt\r\n",
        "from numpy import sort\r\n",
        "from sklearn.metrics import accuracy_score\r\n",
        "from sklearn.feature_selection import SelectFromModel\r\n",
        "\r\n",
        "\r\n",
        "predictions = [round(value) for value in y_pred]\r\n",
        "accuracy = accuracy_score(y_test, predictions)\r\n",
        "print(\"Accuracy: %.2f%%\" % (accuracy * 100.0))\r\n",
        "# Fit model using each importance as a threshold\r\n",
        "thresholds = sort(xgb.feature_importances_)\r\n",
        "for thresh in thresholds:\r\n",
        "\t# select features using threshold\r\n",
        "\tselection = SelectFromModel(xgb, threshold=thresh, prefit=True)\r\n",
        "\tselect_X_train = selection.transform(X_train)\r\n",
        "\t# train model\r\n",
        "\tselection_model = XGBClassifier()\r\n",
        "\tselection_model.fit(select_X_train, y_train)\r\n",
        "\t# eval model\r\n",
        "\tselect_X_test = selection.transform(X_test)\r\n",
        "\ty_pred = selection_model.predict(select_X_test)\r\n",
        "\tpredictions = [round(value) for value in y_pred]\r\n",
        "\taccuracy = accuracy_score(y_test, predictions)\r\n",
        "\tprint(\"Thresh=%.3f, n=%d, Accuracy: %.2f%%\" % (thresh, select_X_train.shape[1], accuracy*100.0))"
      ],
      "execution_count": 131,
      "outputs": [
        {
          "output_type": "stream",
          "text": [
            "Accuracy: 87.19%\n",
            "Thresh=0.056, n=11, Accuracy: 86.88%\n",
            "Thresh=0.060, n=10, Accuracy: 87.19%\n",
            "Thresh=0.061, n=9, Accuracy: 87.81%\n",
            "Thresh=0.065, n=8, Accuracy: 86.88%\n",
            "Thresh=0.066, n=7, Accuracy: 87.81%\n",
            "Thresh=0.077, n=6, Accuracy: 87.81%\n",
            "Thresh=0.083, n=5, Accuracy: 86.56%\n",
            "Thresh=0.084, n=4, Accuracy: 85.62%\n",
            "Thresh=0.118, n=3, Accuracy: 86.25%\n",
            "Thresh=0.132, n=2, Accuracy: 86.25%\n",
            "Thresh=0.198, n=1, Accuracy: 83.44%\n"
          ],
          "name": "stdout"
        }
      ]
    },
    {
      "cell_type": "markdown",
      "metadata": {
        "id": "d5ALcs7UE0Y3"
      },
      "source": [
        "# Conclusion. What characteristics make the wine 'good'?"
      ]
    },
    {
      "cell_type": "markdown",
      "metadata": {
        "id": "QhyCGZWnFC9o"
      },
      "source": [
        ""
      ]
    },
    {
      "cell_type": "markdown",
      "metadata": {
        "id": "JEKRp-0KROjN"
      },
      "source": [
        "# Notes:"
      ]
    },
    {
      "cell_type": "markdown",
      "metadata": {
        "id": "IplKd0wIRUqM"
      },
      "source": [
        "\r\n",
        "\r\n",
        "1.   classification accuracy\r\n",
        "2.   give splits using important features\r\n",
        "3. boosted stumps\r\n",
        "4. find noise producing features\r\n",
        "\r\n"
      ]
    }
  ]
}