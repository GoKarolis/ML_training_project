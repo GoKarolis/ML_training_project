{
  "nbformat": 4,
  "nbformat_minor": 0,
  "metadata": {
    "kernelspec": {
      "name": "python3",
      "display_name": "Python 3",
      "language": "python"
    },
    "language_info": {
      "name": "python",
      "version": "3.7.6",
      "mimetype": "text/x-python",
      "codemirror_mode": {
        "name": "ipython",
        "version": 3
      },
      "pygments_lexer": "ipython3",
      "nbconvert_exporter": "python",
      "file_extension": ".py"
    },
    "colab": {
      "name": "kg-red-wine-analysis.ipynb",
      "provenance": [],
      "collapsed_sections": [
        "W4dYDNacltQe",
        "vKnWP6JZltQh"
      ],
      "include_colab_link": true
    }
  },
  "cells": [
    {
      "cell_type": "markdown",
      "metadata": {
        "id": "view-in-github",
        "colab_type": "text"
      },
      "source": [
        "<a href=\"https://colab.research.google.com/github/GoKarolis/ML_training_project/blob/main/kg_red_wine_analysis.ipynb\" target=\"_parent\"><img src=\"https://colab.research.google.com/assets/colab-badge.svg\" alt=\"Open In Colab\"/></a>"
      ]
    },
    {
      "cell_type": "markdown",
      "metadata": {
        "id": "r4Kwcx1o-wNY"
      },
      "source": [
        "# Red Wine Quality \r\n",
        "\r\n",
        "\r\n",
        "---\r\n",
        "\r\n",
        "\r\n",
        "by GoKarolis\r\n",
        "\r\n",
        "\r\n",
        "\r\n",
        "\r\n"
      ]
    },
    {
      "cell_type": "markdown",
      "metadata": {
        "id": "8GwUQdJa_F_B"
      },
      "source": [
        "***Inspiration:***\r\n",
        "\r\n",
        "To use machine learning to determine which physiochemical properties make a wine 'good'!\r\n",
        "\r\n",
        "\r\n",
        "***Goals:***\r\n",
        "\r\n",
        "\r\n",
        "*   Create a ML model which finds out the quality of wine\r\n",
        "*   Find out what properties 'Good' wine must have\r\n",
        "* Find out what properties make wine 'Bad'\r\n",
        "\r\n",
        "\r\n",
        "\r\n",
        "\r\n",
        "\r\n",
        "***Raw dataset can be found here:***\r\n",
        "\r\n",
        "https://www.kaggle.com/uciml/red-wine-quality-cortez-et-al-2009"
      ]
    },
    {
      "cell_type": "markdown",
      "metadata": {
        "id": "UwgP3LLoBzS7"
      },
      "source": [
        "# Init"
      ]
    },
    {
      "cell_type": "code",
      "metadata": {
        "id": "ayuPXa_RCOew"
      },
      "source": [
        "%matplotlib inline"
      ],
      "execution_count": 268,
      "outputs": []
    },
    {
      "cell_type": "code",
      "metadata": {
        "id": "_XzQE4lICjIf"
      },
      "source": [
        "# ?display\r\n",
        "# ??display"
      ],
      "execution_count": 269,
      "outputs": []
    },
    {
      "cell_type": "code",
      "metadata": {
        "colab": {
          "base_uri": "https://localhost:8080/"
        },
        "id": "jof7nxE1Ov2I",
        "outputId": "9460b352-cf4a-4ff4-b503-5071a00599a0"
      },
      "source": [
        "!pip install shap\r\n",
        "!pip install eli5"
      ],
      "execution_count": 270,
      "outputs": [
        {
          "output_type": "stream",
          "text": [
            "Requirement already satisfied: shap in /usr/local/lib/python3.6/dist-packages (0.37.0)\n",
            "Requirement already satisfied: pandas in /usr/local/lib/python3.6/dist-packages (from shap) (1.1.5)\n",
            "Requirement already satisfied: numba in /usr/local/lib/python3.6/dist-packages (from shap) (0.48.0)\n",
            "Requirement already satisfied: scipy in /usr/local/lib/python3.6/dist-packages (from shap) (1.4.1)\n",
            "Requirement already satisfied: scikit-learn in /usr/local/lib/python3.6/dist-packages (from shap) (0.22.2.post1)\n",
            "Requirement already satisfied: numpy in /usr/local/lib/python3.6/dist-packages (from shap) (1.19.5)\n",
            "Requirement already satisfied: tqdm>4.25.0 in /usr/local/lib/python3.6/dist-packages (from shap) (4.41.1)\n",
            "Requirement already satisfied: slicer==0.0.3 in /usr/local/lib/python3.6/dist-packages (from shap) (0.0.3)\n",
            "Requirement already satisfied: python-dateutil>=2.7.3 in /usr/local/lib/python3.6/dist-packages (from pandas->shap) (2.8.1)\n",
            "Requirement already satisfied: pytz>=2017.2 in /usr/local/lib/python3.6/dist-packages (from pandas->shap) (2018.9)\n",
            "Requirement already satisfied: llvmlite<0.32.0,>=0.31.0dev0 in /usr/local/lib/python3.6/dist-packages (from numba->shap) (0.31.0)\n",
            "Requirement already satisfied: setuptools in /usr/local/lib/python3.6/dist-packages (from numba->shap) (51.1.1)\n",
            "Requirement already satisfied: joblib>=0.11 in /usr/local/lib/python3.6/dist-packages (from scikit-learn->shap) (1.0.0)\n",
            "Requirement already satisfied: six>=1.5 in /usr/local/lib/python3.6/dist-packages (from python-dateutil>=2.7.3->pandas->shap) (1.15.0)\n",
            "Requirement already satisfied: eli5 in /usr/local/lib/python3.6/dist-packages (0.10.1)\n",
            "Requirement already satisfied: scikit-learn>=0.18 in /usr/local/lib/python3.6/dist-packages (from eli5) (0.22.2.post1)\n",
            "Requirement already satisfied: six in /usr/local/lib/python3.6/dist-packages (from eli5) (1.15.0)\n",
            "Requirement already satisfied: graphviz in /usr/local/lib/python3.6/dist-packages (from eli5) (0.10.1)\n",
            "Requirement already satisfied: attrs>16.0.0 in /usr/local/lib/python3.6/dist-packages (from eli5) (20.3.0)\n",
            "Requirement already satisfied: scipy in /usr/local/lib/python3.6/dist-packages (from eli5) (1.4.1)\n",
            "Requirement already satisfied: numpy>=1.9.0 in /usr/local/lib/python3.6/dist-packages (from eli5) (1.19.5)\n",
            "Requirement already satisfied: jinja2 in /usr/local/lib/python3.6/dist-packages (from eli5) (2.11.2)\n",
            "Requirement already satisfied: tabulate>=0.7.7 in /usr/local/lib/python3.6/dist-packages (from eli5) (0.8.7)\n",
            "Requirement already satisfied: joblib>=0.11 in /usr/local/lib/python3.6/dist-packages (from scikit-learn>=0.18->eli5) (1.0.0)\n",
            "Requirement already satisfied: MarkupSafe>=0.23 in /usr/local/lib/python3.6/dist-packages (from jinja2->eli5) (1.1.1)\n"
          ],
          "name": "stdout"
        }
      ]
    },
    {
      "cell_type": "code",
      "metadata": {
        "_uuid": "8f2839f25d086af736a60e9eeb907d3b93b6e0e5",
        "_cell_guid": "b1076dfc-b9ad-4769-8c92-a6c4dae69d19",
        "trusted": true,
        "id": "j9FCLJ73ltQV"
      },
      "source": [
        "import os\n",
        "import numpy as np\n",
        "import pandas as pd\n",
        "from pandas import DataFrame\n",
        "import matplotlib.pyplot as plt\n",
        "import seaborn as sns\n",
        "from xgboost import XGBClassifier\n",
        "from xgboost import plot_importance\n",
        "from sklearn.model_selection import train_test_split\n",
        "from sklearn.linear_model import LogisticRegression\n",
        "from sklearn.ensemble import RandomForestClassifier\n",
        "from sklearn.preprocessing import LabelEncoder\n",
        "from sklearn.neighbors import KNeighborsClassifier\n",
        "from sklearn.tree import DecisionTreeClassifier\n",
        "from sklearn.naive_bayes import GaussianNB\n",
        "from sklearn.discriminant_analysis import LinearDiscriminantAnalysis\n",
        "from sklearn.feature_selection import SelectFromModel\n",
        "from sklearn.svm import SVC\n",
        "from sklearn.model_selection import cross_val_score\n",
        "from sklearn.model_selection import StratifiedKFold\n",
        "from sklearn.model_selection import GridSearchCV\n",
        "from sklearn import metrics\n",
        "from sklearn.metrics import classification_report\n",
        "from sklearn.metrics import mean_absolute_error\n",
        "from sklearn.preprocessing import MinMaxScaler\n",
        "from sklearn.preprocessing import StandardScaler\n",
        "from sklearn.preprocessing import PolynomialFeatures\n",
        "from sklearn.metrics import f1_score\n",
        "import eli5\n",
        "from eli5.sklearn import PermutationImportance\n",
        "from numpy import mean\n",
        "from sklearn.datasets import make_classification\n",
        "from sklearn.model_selection import RepeatedStratifiedKFold\n",
        "from imblearn.pipeline import Pipeline\n",
        "from imblearn.over_sampling import SMOTE\n",
        "import warnings\n",
        "warnings.simplefilter(action='ignore', category=FutureWarning)"
      ],
      "execution_count": 271,
      "outputs": []
    },
    {
      "cell_type": "code",
      "metadata": {
        "id": "sXCn7nzf1XFE"
      },
      "source": [
        "# Set Seaborn colors\r\n",
        "sns.set_palette(\"Set2\")"
      ],
      "execution_count": 272,
      "outputs": []
    },
    {
      "cell_type": "code",
      "metadata": {
        "colab": {
          "base_uri": "https://localhost:8080/"
        },
        "id": "OvbG9t-vm549",
        "outputId": "c18f0d3d-13a0-4018-f7b4-d09be9d2c291"
      },
      "source": [
        "from google.colab import drive\n",
        "drive.mount('/content/drive')"
      ],
      "execution_count": 273,
      "outputs": [
        {
          "output_type": "stream",
          "text": [
            "Drive already mounted at /content/drive; to attempt to forcibly remount, call drive.mount(\"/content/drive\", force_remount=True).\n"
          ],
          "name": "stdout"
        }
      ]
    },
    {
      "cell_type": "code",
      "metadata": {
        "trusted": true,
        "id": "6XbaX4cnltQd",
        "colab": {
          "base_uri": "https://localhost:8080/"
        },
        "outputId": "6ae621dd-675c-4773-fc51-3aa6f5c69580"
      },
      "source": [
        "# wine_data == data\n",
        "%time  data = pd.read_csv('/content/drive/MyDrive/Colab_Notebooks/winequality-red.csv')"
      ],
      "execution_count": 274,
      "outputs": [
        {
          "output_type": "stream",
          "text": [
            "CPU times: user 8.94 ms, sys: 1.07 ms, total: 10 ms\n",
            "Wall time: 11.6 ms\n"
          ],
          "name": "stdout"
        }
      ]
    },
    {
      "cell_type": "markdown",
      "metadata": {
        "id": "-aIEWsKwltQe"
      },
      "source": [
        "# **1. Exploratory data analysis**"
      ]
    },
    {
      "cell_type": "markdown",
      "metadata": {
        "id": "W4dYDNacltQe"
      },
      "source": [
        "# 1.1. Shape"
      ]
    },
    {
      "cell_type": "code",
      "metadata": {
        "trusted": true,
        "id": "E4UwS2AbltQe",
        "colab": {
          "base_uri": "https://localhost:8080/"
        },
        "outputId": "31ceadce-baa7-44c0-cc21-2db7f28629b9"
      },
      "source": [
        "data.shape"
      ],
      "execution_count": 275,
      "outputs": [
        {
          "output_type": "execute_result",
          "data": {
            "text/plain": [
              "(1599, 12)"
            ]
          },
          "metadata": {
            "tags": []
          },
          "execution_count": 275
        }
      ]
    },
    {
      "cell_type": "markdown",
      "metadata": {
        "id": "2NVKS3xCltQf"
      },
      "source": [
        "# 1.2. Descriptive statistics"
      ]
    },
    {
      "cell_type": "code",
      "metadata": {
        "trusted": true,
        "id": "KN8Zb2O1ltQg",
        "colab": {
          "base_uri": "https://localhost:8080/"
        },
        "outputId": "d937f9f9-48dc-4759-8c4b-1e97dc388143"
      },
      "source": [
        "data.isnull().sum()\r\n",
        "#data.isna().sum() "
      ],
      "execution_count": 276,
      "outputs": [
        {
          "output_type": "execute_result",
          "data": {
            "text/plain": [
              "fixed acidity           0\n",
              "volatile acidity        0\n",
              "citric acid             0\n",
              "residual sugar          0\n",
              "chlorides               0\n",
              "free sulfur dioxide     0\n",
              "total sulfur dioxide    0\n",
              "density                 0\n",
              "pH                      0\n",
              "sulphates               0\n",
              "alcohol                 0\n",
              "quality                 0\n",
              "dtype: int64"
            ]
          },
          "metadata": {
            "tags": []
          },
          "execution_count": 276
        }
      ]
    },
    {
      "cell_type": "code",
      "metadata": {
        "trusted": true,
        "id": "cJDgaI_lltQf",
        "colab": {
          "base_uri": "https://localhost:8080/",
          "height": 0
        },
        "outputId": "f4042303-8a0f-4093-82a1-74092bacbb9a"
      },
      "source": [
        "data.head(10)"
      ],
      "execution_count": 277,
      "outputs": [
        {
          "output_type": "execute_result",
          "data": {
            "text/html": [
              "<div>\n",
              "<style scoped>\n",
              "    .dataframe tbody tr th:only-of-type {\n",
              "        vertical-align: middle;\n",
              "    }\n",
              "\n",
              "    .dataframe tbody tr th {\n",
              "        vertical-align: top;\n",
              "    }\n",
              "\n",
              "    .dataframe thead th {\n",
              "        text-align: right;\n",
              "    }\n",
              "</style>\n",
              "<table border=\"1\" class=\"dataframe\">\n",
              "  <thead>\n",
              "    <tr style=\"text-align: right;\">\n",
              "      <th></th>\n",
              "      <th>fixed acidity</th>\n",
              "      <th>volatile acidity</th>\n",
              "      <th>citric acid</th>\n",
              "      <th>residual sugar</th>\n",
              "      <th>chlorides</th>\n",
              "      <th>free sulfur dioxide</th>\n",
              "      <th>total sulfur dioxide</th>\n",
              "      <th>density</th>\n",
              "      <th>pH</th>\n",
              "      <th>sulphates</th>\n",
              "      <th>alcohol</th>\n",
              "      <th>quality</th>\n",
              "    </tr>\n",
              "  </thead>\n",
              "  <tbody>\n",
              "    <tr>\n",
              "      <th>0</th>\n",
              "      <td>7.4</td>\n",
              "      <td>0.70</td>\n",
              "      <td>0.00</td>\n",
              "      <td>1.9</td>\n",
              "      <td>0.076</td>\n",
              "      <td>11.0</td>\n",
              "      <td>34.0</td>\n",
              "      <td>0.9978</td>\n",
              "      <td>3.51</td>\n",
              "      <td>0.56</td>\n",
              "      <td>9.4</td>\n",
              "      <td>5</td>\n",
              "    </tr>\n",
              "    <tr>\n",
              "      <th>1</th>\n",
              "      <td>7.8</td>\n",
              "      <td>0.88</td>\n",
              "      <td>0.00</td>\n",
              "      <td>2.6</td>\n",
              "      <td>0.098</td>\n",
              "      <td>25.0</td>\n",
              "      <td>67.0</td>\n",
              "      <td>0.9968</td>\n",
              "      <td>3.20</td>\n",
              "      <td>0.68</td>\n",
              "      <td>9.8</td>\n",
              "      <td>5</td>\n",
              "    </tr>\n",
              "    <tr>\n",
              "      <th>2</th>\n",
              "      <td>7.8</td>\n",
              "      <td>0.76</td>\n",
              "      <td>0.04</td>\n",
              "      <td>2.3</td>\n",
              "      <td>0.092</td>\n",
              "      <td>15.0</td>\n",
              "      <td>54.0</td>\n",
              "      <td>0.9970</td>\n",
              "      <td>3.26</td>\n",
              "      <td>0.65</td>\n",
              "      <td>9.8</td>\n",
              "      <td>5</td>\n",
              "    </tr>\n",
              "    <tr>\n",
              "      <th>3</th>\n",
              "      <td>11.2</td>\n",
              "      <td>0.28</td>\n",
              "      <td>0.56</td>\n",
              "      <td>1.9</td>\n",
              "      <td>0.075</td>\n",
              "      <td>17.0</td>\n",
              "      <td>60.0</td>\n",
              "      <td>0.9980</td>\n",
              "      <td>3.16</td>\n",
              "      <td>0.58</td>\n",
              "      <td>9.8</td>\n",
              "      <td>6</td>\n",
              "    </tr>\n",
              "    <tr>\n",
              "      <th>4</th>\n",
              "      <td>7.4</td>\n",
              "      <td>0.70</td>\n",
              "      <td>0.00</td>\n",
              "      <td>1.9</td>\n",
              "      <td>0.076</td>\n",
              "      <td>11.0</td>\n",
              "      <td>34.0</td>\n",
              "      <td>0.9978</td>\n",
              "      <td>3.51</td>\n",
              "      <td>0.56</td>\n",
              "      <td>9.4</td>\n",
              "      <td>5</td>\n",
              "    </tr>\n",
              "    <tr>\n",
              "      <th>5</th>\n",
              "      <td>7.4</td>\n",
              "      <td>0.66</td>\n",
              "      <td>0.00</td>\n",
              "      <td>1.8</td>\n",
              "      <td>0.075</td>\n",
              "      <td>13.0</td>\n",
              "      <td>40.0</td>\n",
              "      <td>0.9978</td>\n",
              "      <td>3.51</td>\n",
              "      <td>0.56</td>\n",
              "      <td>9.4</td>\n",
              "      <td>5</td>\n",
              "    </tr>\n",
              "    <tr>\n",
              "      <th>6</th>\n",
              "      <td>7.9</td>\n",
              "      <td>0.60</td>\n",
              "      <td>0.06</td>\n",
              "      <td>1.6</td>\n",
              "      <td>0.069</td>\n",
              "      <td>15.0</td>\n",
              "      <td>59.0</td>\n",
              "      <td>0.9964</td>\n",
              "      <td>3.30</td>\n",
              "      <td>0.46</td>\n",
              "      <td>9.4</td>\n",
              "      <td>5</td>\n",
              "    </tr>\n",
              "    <tr>\n",
              "      <th>7</th>\n",
              "      <td>7.3</td>\n",
              "      <td>0.65</td>\n",
              "      <td>0.00</td>\n",
              "      <td>1.2</td>\n",
              "      <td>0.065</td>\n",
              "      <td>15.0</td>\n",
              "      <td>21.0</td>\n",
              "      <td>0.9946</td>\n",
              "      <td>3.39</td>\n",
              "      <td>0.47</td>\n",
              "      <td>10.0</td>\n",
              "      <td>7</td>\n",
              "    </tr>\n",
              "    <tr>\n",
              "      <th>8</th>\n",
              "      <td>7.8</td>\n",
              "      <td>0.58</td>\n",
              "      <td>0.02</td>\n",
              "      <td>2.0</td>\n",
              "      <td>0.073</td>\n",
              "      <td>9.0</td>\n",
              "      <td>18.0</td>\n",
              "      <td>0.9968</td>\n",
              "      <td>3.36</td>\n",
              "      <td>0.57</td>\n",
              "      <td>9.5</td>\n",
              "      <td>7</td>\n",
              "    </tr>\n",
              "    <tr>\n",
              "      <th>9</th>\n",
              "      <td>7.5</td>\n",
              "      <td>0.50</td>\n",
              "      <td>0.36</td>\n",
              "      <td>6.1</td>\n",
              "      <td>0.071</td>\n",
              "      <td>17.0</td>\n",
              "      <td>102.0</td>\n",
              "      <td>0.9978</td>\n",
              "      <td>3.35</td>\n",
              "      <td>0.80</td>\n",
              "      <td>10.5</td>\n",
              "      <td>5</td>\n",
              "    </tr>\n",
              "  </tbody>\n",
              "</table>\n",
              "</div>"
            ],
            "text/plain": [
              "   fixed acidity  volatile acidity  citric acid  ...  sulphates  alcohol  quality\n",
              "0            7.4              0.70         0.00  ...       0.56      9.4        5\n",
              "1            7.8              0.88         0.00  ...       0.68      9.8        5\n",
              "2            7.8              0.76         0.04  ...       0.65      9.8        5\n",
              "3           11.2              0.28         0.56  ...       0.58      9.8        6\n",
              "4            7.4              0.70         0.00  ...       0.56      9.4        5\n",
              "5            7.4              0.66         0.00  ...       0.56      9.4        5\n",
              "6            7.9              0.60         0.06  ...       0.46      9.4        5\n",
              "7            7.3              0.65         0.00  ...       0.47     10.0        7\n",
              "8            7.8              0.58         0.02  ...       0.57      9.5        7\n",
              "9            7.5              0.50         0.36  ...       0.80     10.5        5\n",
              "\n",
              "[10 rows x 12 columns]"
            ]
          },
          "metadata": {
            "tags": []
          },
          "execution_count": 277
        }
      ]
    },
    {
      "cell_type": "code",
      "metadata": {
        "trusted": true,
        "id": "2cijK8jAltQg",
        "colab": {
          "base_uri": "https://localhost:8080/",
          "height": 0
        },
        "outputId": "7c7d1fff-c1af-4108-92c7-390a7a35960a"
      },
      "source": [
        "data.describe()"
      ],
      "execution_count": 278,
      "outputs": [
        {
          "output_type": "execute_result",
          "data": {
            "text/html": [
              "<div>\n",
              "<style scoped>\n",
              "    .dataframe tbody tr th:only-of-type {\n",
              "        vertical-align: middle;\n",
              "    }\n",
              "\n",
              "    .dataframe tbody tr th {\n",
              "        vertical-align: top;\n",
              "    }\n",
              "\n",
              "    .dataframe thead th {\n",
              "        text-align: right;\n",
              "    }\n",
              "</style>\n",
              "<table border=\"1\" class=\"dataframe\">\n",
              "  <thead>\n",
              "    <tr style=\"text-align: right;\">\n",
              "      <th></th>\n",
              "      <th>fixed acidity</th>\n",
              "      <th>volatile acidity</th>\n",
              "      <th>citric acid</th>\n",
              "      <th>residual sugar</th>\n",
              "      <th>chlorides</th>\n",
              "      <th>free sulfur dioxide</th>\n",
              "      <th>total sulfur dioxide</th>\n",
              "      <th>density</th>\n",
              "      <th>pH</th>\n",
              "      <th>sulphates</th>\n",
              "      <th>alcohol</th>\n",
              "      <th>quality</th>\n",
              "    </tr>\n",
              "  </thead>\n",
              "  <tbody>\n",
              "    <tr>\n",
              "      <th>count</th>\n",
              "      <td>1599.000000</td>\n",
              "      <td>1599.000000</td>\n",
              "      <td>1599.000000</td>\n",
              "      <td>1599.000000</td>\n",
              "      <td>1599.000000</td>\n",
              "      <td>1599.000000</td>\n",
              "      <td>1599.000000</td>\n",
              "      <td>1599.000000</td>\n",
              "      <td>1599.000000</td>\n",
              "      <td>1599.000000</td>\n",
              "      <td>1599.000000</td>\n",
              "      <td>1599.000000</td>\n",
              "    </tr>\n",
              "    <tr>\n",
              "      <th>mean</th>\n",
              "      <td>8.319637</td>\n",
              "      <td>0.527821</td>\n",
              "      <td>0.270976</td>\n",
              "      <td>2.538806</td>\n",
              "      <td>0.087467</td>\n",
              "      <td>15.874922</td>\n",
              "      <td>46.467792</td>\n",
              "      <td>0.996747</td>\n",
              "      <td>3.311113</td>\n",
              "      <td>0.658149</td>\n",
              "      <td>10.422983</td>\n",
              "      <td>5.636023</td>\n",
              "    </tr>\n",
              "    <tr>\n",
              "      <th>std</th>\n",
              "      <td>1.741096</td>\n",
              "      <td>0.179060</td>\n",
              "      <td>0.194801</td>\n",
              "      <td>1.409928</td>\n",
              "      <td>0.047065</td>\n",
              "      <td>10.460157</td>\n",
              "      <td>32.895324</td>\n",
              "      <td>0.001887</td>\n",
              "      <td>0.154386</td>\n",
              "      <td>0.169507</td>\n",
              "      <td>1.065668</td>\n",
              "      <td>0.807569</td>\n",
              "    </tr>\n",
              "    <tr>\n",
              "      <th>min</th>\n",
              "      <td>4.600000</td>\n",
              "      <td>0.120000</td>\n",
              "      <td>0.000000</td>\n",
              "      <td>0.900000</td>\n",
              "      <td>0.012000</td>\n",
              "      <td>1.000000</td>\n",
              "      <td>6.000000</td>\n",
              "      <td>0.990070</td>\n",
              "      <td>2.740000</td>\n",
              "      <td>0.330000</td>\n",
              "      <td>8.400000</td>\n",
              "      <td>3.000000</td>\n",
              "    </tr>\n",
              "    <tr>\n",
              "      <th>25%</th>\n",
              "      <td>7.100000</td>\n",
              "      <td>0.390000</td>\n",
              "      <td>0.090000</td>\n",
              "      <td>1.900000</td>\n",
              "      <td>0.070000</td>\n",
              "      <td>7.000000</td>\n",
              "      <td>22.000000</td>\n",
              "      <td>0.995600</td>\n",
              "      <td>3.210000</td>\n",
              "      <td>0.550000</td>\n",
              "      <td>9.500000</td>\n",
              "      <td>5.000000</td>\n",
              "    </tr>\n",
              "    <tr>\n",
              "      <th>50%</th>\n",
              "      <td>7.900000</td>\n",
              "      <td>0.520000</td>\n",
              "      <td>0.260000</td>\n",
              "      <td>2.200000</td>\n",
              "      <td>0.079000</td>\n",
              "      <td>14.000000</td>\n",
              "      <td>38.000000</td>\n",
              "      <td>0.996750</td>\n",
              "      <td>3.310000</td>\n",
              "      <td>0.620000</td>\n",
              "      <td>10.200000</td>\n",
              "      <td>6.000000</td>\n",
              "    </tr>\n",
              "    <tr>\n",
              "      <th>75%</th>\n",
              "      <td>9.200000</td>\n",
              "      <td>0.640000</td>\n",
              "      <td>0.420000</td>\n",
              "      <td>2.600000</td>\n",
              "      <td>0.090000</td>\n",
              "      <td>21.000000</td>\n",
              "      <td>62.000000</td>\n",
              "      <td>0.997835</td>\n",
              "      <td>3.400000</td>\n",
              "      <td>0.730000</td>\n",
              "      <td>11.100000</td>\n",
              "      <td>6.000000</td>\n",
              "    </tr>\n",
              "    <tr>\n",
              "      <th>max</th>\n",
              "      <td>15.900000</td>\n",
              "      <td>1.580000</td>\n",
              "      <td>1.000000</td>\n",
              "      <td>15.500000</td>\n",
              "      <td>0.611000</td>\n",
              "      <td>72.000000</td>\n",
              "      <td>289.000000</td>\n",
              "      <td>1.003690</td>\n",
              "      <td>4.010000</td>\n",
              "      <td>2.000000</td>\n",
              "      <td>14.900000</td>\n",
              "      <td>8.000000</td>\n",
              "    </tr>\n",
              "  </tbody>\n",
              "</table>\n",
              "</div>"
            ],
            "text/plain": [
              "       fixed acidity  volatile acidity  ...      alcohol      quality\n",
              "count    1599.000000       1599.000000  ...  1599.000000  1599.000000\n",
              "mean        8.319637          0.527821  ...    10.422983     5.636023\n",
              "std         1.741096          0.179060  ...     1.065668     0.807569\n",
              "min         4.600000          0.120000  ...     8.400000     3.000000\n",
              "25%         7.100000          0.390000  ...     9.500000     5.000000\n",
              "50%         7.900000          0.520000  ...    10.200000     6.000000\n",
              "75%         9.200000          0.640000  ...    11.100000     6.000000\n",
              "max        15.900000          1.580000  ...    14.900000     8.000000\n",
              "\n",
              "[8 rows x 12 columns]"
            ]
          },
          "metadata": {
            "tags": []
          },
          "execution_count": 278
        }
      ]
    },
    {
      "cell_type": "markdown",
      "metadata": {
        "id": "vKnWP6JZltQh"
      },
      "source": [
        "# 1.3. Data types and more information about the data"
      ]
    },
    {
      "cell_type": "code",
      "metadata": {
        "trusted": true,
        "id": "QO3meiwkltQh",
        "colab": {
          "base_uri": "https://localhost:8080/"
        },
        "outputId": "fecc788c-bab9-483f-e700-465e63a9ed51"
      },
      "source": [
        "data.dtypes"
      ],
      "execution_count": 279,
      "outputs": [
        {
          "output_type": "execute_result",
          "data": {
            "text/plain": [
              "fixed acidity           float64\n",
              "volatile acidity        float64\n",
              "citric acid             float64\n",
              "residual sugar          float64\n",
              "chlorides               float64\n",
              "free sulfur dioxide     float64\n",
              "total sulfur dioxide    float64\n",
              "density                 float64\n",
              "pH                      float64\n",
              "sulphates               float64\n",
              "alcohol                 float64\n",
              "quality                   int64\n",
              "dtype: object"
            ]
          },
          "metadata": {
            "tags": []
          },
          "execution_count": 279
        }
      ]
    },
    {
      "cell_type": "code",
      "metadata": {
        "trusted": true,
        "id": "fDAmKuUSltQi",
        "colab": {
          "base_uri": "https://localhost:8080/"
        },
        "outputId": "c64e4805-28a1-4453-f4a0-35c1c12d1e89"
      },
      "source": [
        "data['quality'].value_counts().sort_index(ascending=False)"
      ],
      "execution_count": 280,
      "outputs": [
        {
          "output_type": "execute_result",
          "data": {
            "text/plain": [
              "8     18\n",
              "7    199\n",
              "6    638\n",
              "5    681\n",
              "4     53\n",
              "3     10\n",
              "Name: quality, dtype: int64"
            ]
          },
          "metadata": {
            "tags": []
          },
          "execution_count": 280
        }
      ]
    },
    {
      "cell_type": "code",
      "metadata": {
        "colab": {
          "base_uri": "https://localhost:8080/",
          "height": 0
        },
        "id": "IJX05GnLsb9y",
        "outputId": "e59704c5-5c97-4ee4-c4c8-0b1f45c7f4ae"
      },
      "source": [
        "plt.title('Wines and their quality')\r\n",
        "sns.countplot(data['quality'])\r\n",
        "plt.show()\r\n"
      ],
      "execution_count": 281,
      "outputs": [
        {
          "output_type": "display_data",
          "data": {
            "image/png": "[encoded data removed]",
            "text/plain": [
              "<Figure size 432x288 with 1 Axes>"
            ]
          },
          "metadata": {
            "tags": [],
            "needs_background": "light"
          }
        }
      ]
    },
    {
      "cell_type": "markdown",
      "metadata": {
        "id": "uZI9CQg0St_K"
      },
      "source": [
        "# **2. Feature engineering**"
      ]
    },
    {
      "cell_type": "code",
      "metadata": {
        "id": "CHLgi77LcJ4S"
      },
      "source": [
        "# data = data.drop(['free sulfur dioxide', 'pH', 'fixed acidity'], axis=1)"
      ],
      "execution_count": 282,
      "outputs": []
    },
    {
      "cell_type": "markdown",
      "metadata": {
        "id": "6CJKIoVyltQi"
      },
      "source": [
        "# **3. Feature pre-processing**"
      ]
    },
    {
      "cell_type": "code",
      "metadata": {
        "trusted": true,
        "id": "77ZZMAWBltQi"
      },
      "source": [
        "bins = (2, 6.5, 8)\n",
        "group_names = ['bad', 'good']\n",
        "data['quality'] = pd.cut(data['quality'], bins = bins, labels = group_names)"
      ],
      "execution_count": 283,
      "outputs": []
    },
    {
      "cell_type": "code",
      "metadata": {
        "id": "opNLb9BkQqIL",
        "colab": {
          "base_uri": "https://localhost:8080/",
          "height": 0
        },
        "outputId": "efc0d4e4-2d3c-403d-ee20-5153c25dd460"
      },
      "source": [
        "plt.title('\\'Bad\\' wines and \\'Good\\' wines proportion')\r\n",
        "sns.countplot(data['quality'])\r\n",
        "plt.show()\r\n",
        "data['quality'].value_counts()"
      ],
      "execution_count": 284,
      "outputs": [
        {
          "output_type": "display_data",
          "data": {
            "image/png": "[encoded data removed]",
            "text/plain": [
              "<Figure size 432x288 with 1 Axes>"
            ]
          },
          "metadata": {
            "tags": [],
            "needs_background": "light"
          }
        },
        {
          "output_type": "execute_result",
          "data": {
            "text/plain": [
              "bad     1382\n",
              "good     217\n",
              "Name: quality, dtype: int64"
            ]
          },
          "metadata": {
            "tags": []
          },
          "execution_count": 284
        }
      ]
    },
    {
      "cell_type": "code",
      "metadata": {
        "trusted": true,
        "id": "k_mmSvK5ltQi"
      },
      "source": [
        "label_quality = LabelEncoder()\n",
        "\n",
        "data['quality'] = label_quality.fit_transform(data['quality'])\n",
        "\n",
        "X = data.drop('quality', axis = 1)\n",
        "y = data['quality']"
      ],
      "execution_count": 285,
      "outputs": []
    },
    {
      "cell_type": "markdown",
      "metadata": {
        "id": "UuGvqNScpRR7"
      },
      "source": [
        "\r\n",
        "\r\n",
        "---\r\n",
        "\r\n",
        "\r\n",
        "Permutation importance "
      ]
    },
    {
      "cell_type": "code",
      "metadata": {
        "id": "7n5jAJIG4RLe"
      },
      "source": [
        "#Permutation importance \r\n",
        "#Why not RF FI https://explained.ai/rf-importance/\r\n",
        "#Alternative: rfpimp\r\n",
        "\r\n",
        "\r\n",
        "PI_data = data.copy()\r\n",
        "PI_y = (PI_data['quality'] == \"good\")\r\n",
        "feature_names = [i for i in PI_data.columns if PI_data[i].dtype in [np.int64]]\r\n",
        "PI_X = data[feature_names]\r\n",
        "PI_train_X, PI_val_X, PI_train_y, PI_val_y = train_test_split(X, y, random_state=1)\r\n",
        "my_model = RandomForestClassifier(n_estimators=1000,\r\n",
        "                                  random_state=0).fit(PI_train_X, PI_train_y)"
      ],
      "execution_count": 286,
      "outputs": []
    },
    {
      "cell_type": "code",
      "metadata": {
        "colab": {
          "base_uri": "https://localhost:8080/",
          "height": 0
        },
        "id": "B6sYVRuk_N2B",
        "outputId": "83b3bd73-b354-4564-8591-96d20f33f02e"
      },
      "source": [
        "perm = PermutationImportance(my_model, random_state=1).fit(PI_val_X,PI_val_y)\r\n",
        "eli5.show_weights(perm, feature_names = PI_val_X.columns.tolist())"
      ],
      "execution_count": 287,
      "outputs": [
        {
          "output_type": "execute_result",
          "data": {
            "text/html": [
              "\n",
              "    <style>\n",
              "    table.eli5-weights tr:hover {\n",
              "        filter: brightness(85%);\n",
              "    }\n",
              "</style>\n",
              "\n",
              "\n",
              "\n",
              "    \n",
              "\n",
              "    \n",
              "\n",
              "    \n",
              "\n",
              "    \n",
              "\n",
              "    \n",
              "\n",
              "    \n",
              "\n",
              "\n",
              "    \n",
              "\n",
              "    \n",
              "\n",
              "    \n",
              "\n",
              "    \n",
              "\n",
              "    \n",
              "\n",
              "    \n",
              "\n",
              "\n",
              "    \n",
              "\n",
              "    \n",
              "\n",
              "    \n",
              "\n",
              "    \n",
              "\n",
              "    \n",
              "        <table class=\"eli5-weights eli5-feature-importances\" style=\"border-collapse: collapse; border: none; margin-top: 0em; table-layout: auto;\">\n",
              "    <thead>\n",
              "    <tr style=\"border: none;\">\n",
              "        <th style=\"padding: 0 1em 0 0.5em; text-align: right; border: none;\">Weight</th>\n",
              "        <th style=\"padding: 0 0.5em 0 0.5em; text-align: left; border: none;\">Feature</th>\n",
              "    </tr>\n",
              "    </thead>\n",
              "    <tbody>\n",
              "    \n",
              "        <tr style=\"background-color: hsl(120, 100.00%, 80.00%); border: none;\">\n",
              "            <td style=\"padding: 0 1em 0 0.5em; text-align: right; border: none;\">\n",
              "                0.0290\n",
              "                \n",
              "                    &plusmn; 0.0108\n",
              "                \n",
              "            </td>\n",
              "            <td style=\"padding: 0 0.5em 0 0.5em; text-align: left; border: none;\">\n",
              "                sulphates\n",
              "            </td>\n",
              "        </tr>\n",
              "    \n",
              "        <tr style=\"background-color: hsl(120, 100.00%, 81.72%); border: none;\">\n",
              "            <td style=\"padding: 0 1em 0 0.5em; text-align: right; border: none;\">\n",
              "                0.0255\n",
              "                \n",
              "                    &plusmn; 0.0150\n",
              "                \n",
              "            </td>\n",
              "            <td style=\"padding: 0 0.5em 0 0.5em; text-align: left; border: none;\">\n",
              "                alcohol\n",
              "            </td>\n",
              "        </tr>\n",
              "    \n",
              "        <tr style=\"background-color: hsl(120, 100.00%, 92.24%); border: none;\">\n",
              "            <td style=\"padding: 0 1em 0 0.5em; text-align: right; border: none;\">\n",
              "                0.0075\n",
              "                \n",
              "                    &plusmn; 0.0089\n",
              "                \n",
              "            </td>\n",
              "            <td style=\"padding: 0 0.5em 0 0.5em; text-align: left; border: none;\">\n",
              "                volatile acidity\n",
              "            </td>\n",
              "        </tr>\n",
              "    \n",
              "        <tr style=\"background-color: hsl(120, 100.00%, 94.16%); border: none;\">\n",
              "            <td style=\"padding: 0 1em 0 0.5em; text-align: right; border: none;\">\n",
              "                0.0050\n",
              "                \n",
              "                    &plusmn; 0.0089\n",
              "                \n",
              "            </td>\n",
              "            <td style=\"padding: 0 0.5em 0 0.5em; text-align: left; border: none;\">\n",
              "                density\n",
              "            </td>\n",
              "        </tr>\n",
              "    \n",
              "        <tr style=\"background-color: hsl(120, 100.00%, 94.57%); border: none;\">\n",
              "            <td style=\"padding: 0 1em 0 0.5em; text-align: right; border: none;\">\n",
              "                0.0045\n",
              "                \n",
              "                    &plusmn; 0.0139\n",
              "                \n",
              "            </td>\n",
              "            <td style=\"padding: 0 0.5em 0 0.5em; text-align: left; border: none;\">\n",
              "                chlorides\n",
              "            </td>\n",
              "        </tr>\n",
              "    \n",
              "        <tr style=\"background-color: hsl(120, 100.00%, 96.92%); border: none;\">\n",
              "            <td style=\"padding: 0 1em 0 0.5em; text-align: right; border: none;\">\n",
              "                0.0020\n",
              "                \n",
              "                    &plusmn; 0.0066\n",
              "                \n",
              "            </td>\n",
              "            <td style=\"padding: 0 0.5em 0 0.5em; text-align: left; border: none;\">\n",
              "                citric acid\n",
              "            </td>\n",
              "        </tr>\n",
              "    \n",
              "        <tr style=\"background-color: hsl(120, 100.00%, 98.83%); border: none;\">\n",
              "            <td style=\"padding: 0 1em 0 0.5em; text-align: right; border: none;\">\n",
              "                0.0005\n",
              "                \n",
              "                    &plusmn; 0.0049\n",
              "                \n",
              "            </td>\n",
              "            <td style=\"padding: 0 0.5em 0 0.5em; text-align: left; border: none;\">\n",
              "                residual sugar\n",
              "            </td>\n",
              "        </tr>\n",
              "    \n",
              "        <tr style=\"background-color: hsl(0, 100.00%, 100.00%); border: none;\">\n",
              "            <td style=\"padding: 0 1em 0 0.5em; text-align: right; border: none;\">\n",
              "                -0.0000\n",
              "                \n",
              "                    &plusmn; 0.0114\n",
              "                \n",
              "            </td>\n",
              "            <td style=\"padding: 0 0.5em 0 0.5em; text-align: left; border: none;\">\n",
              "                total sulfur dioxide\n",
              "            </td>\n",
              "        </tr>\n",
              "    \n",
              "        <tr style=\"background-color: hsl(0, 100.00%, 98.83%); border: none;\">\n",
              "            <td style=\"padding: 0 1em 0 0.5em; text-align: right; border: none;\">\n",
              "                -0.0005\n",
              "                \n",
              "                    &plusmn; 0.0097\n",
              "                \n",
              "            </td>\n",
              "            <td style=\"padding: 0 0.5em 0 0.5em; text-align: left; border: none;\">\n",
              "                pH\n",
              "            </td>\n",
              "        </tr>\n",
              "    \n",
              "        <tr style=\"background-color: hsl(0, 100.00%, 98.83%); border: none;\">\n",
              "            <td style=\"padding: 0 1em 0 0.5em; text-align: right; border: none;\">\n",
              "                -0.0005\n",
              "                \n",
              "                    &plusmn; 0.0097\n",
              "                \n",
              "            </td>\n",
              "            <td style=\"padding: 0 0.5em 0 0.5em; text-align: left; border: none;\">\n",
              "                fixed acidity\n",
              "            </td>\n",
              "        </tr>\n",
              "    \n",
              "        <tr style=\"background-color: hsl(0, 100.00%, 94.57%); border: none;\">\n",
              "            <td style=\"padding: 0 1em 0 0.5em; text-align: right; border: none;\">\n",
              "                -0.0045\n",
              "                \n",
              "                    &plusmn; 0.0086\n",
              "                \n",
              "            </td>\n",
              "            <td style=\"padding: 0 0.5em 0 0.5em; text-align: left; border: none;\">\n",
              "                free sulfur dioxide\n",
              "            </td>\n",
              "        </tr>\n",
              "    \n",
              "    \n",
              "    </tbody>\n",
              "</table>\n",
              "    \n",
              "\n",
              "    \n",
              "\n",
              "\n",
              "    \n",
              "\n",
              "    \n",
              "\n",
              "    \n",
              "\n",
              "    \n",
              "\n",
              "    \n",
              "\n",
              "    \n",
              "\n",
              "\n",
              "\n"
            ],
            "text/plain": [
              "<IPython.core.display.HTML object>"
            ]
          },
          "metadata": {
            "tags": []
          },
          "execution_count": 287
        }
      ]
    },
    {
      "cell_type": "markdown",
      "metadata": {
        "id": "_tfDcvA9ltQj"
      },
      "source": [
        "\r\n",
        "\r\n",
        "---\r\n",
        "\r\n",
        "\r\n",
        "Train test split"
      ]
    },
    {
      "cell_type": "code",
      "metadata": {
        "trusted": true,
        "id": "nt56410wltQj"
      },
      "source": [
        "X_train, X_test, y_train, y_test = train_test_split(X, y, test_size = 0.2, random_state = 42)"
      ],
      "execution_count": 288,
      "outputs": []
    },
    {
      "cell_type": "markdown",
      "metadata": {
        "id": "dpOzGf33gldK"
      },
      "source": [
        "\r\n",
        "\r\n",
        "---\r\n",
        "\r\n",
        "\r\n",
        "Data normalization"
      ]
    },
    {
      "cell_type": "markdown",
      "metadata": {
        "id": "fQHH7WbdyBTE"
      },
      "source": [
        "https://www.analyticsvidhya.com/blog/2020/04/feature-scaling-machine-learning-normalization-standardization/"
      ]
    },
    {
      "cell_type": "code",
      "metadata": {
        "id": "yMk7hiYhnkcr"
      },
      "source": [
        "trans = MinMaxScaler()\r\n",
        "X_train_norm = trans.fit_transform(X_train)\r\n",
        "X_train_norm = DataFrame(X_train_norm)"
      ],
      "execution_count": 289,
      "outputs": []
    },
    {
      "cell_type": "code",
      "metadata": {
        "colab": {
          "base_uri": "https://localhost:8080/",
          "height": 0
        },
        "id": "PnYVkyDizeVa",
        "outputId": "26f41568-ab86-4e3e-e6ae-37d243641a98"
      },
      "source": [
        "X_train_norm.describe()"
      ],
      "execution_count": 290,
      "outputs": [
        {
          "output_type": "execute_result",
          "data": {
            "text/html": [
              "<div>\n",
              "<style scoped>\n",
              "    .dataframe tbody tr th:only-of-type {\n",
              "        vertical-align: middle;\n",
              "    }\n",
              "\n",
              "    .dataframe tbody tr th {\n",
              "        vertical-align: top;\n",
              "    }\n",
              "\n",
              "    .dataframe thead th {\n",
              "        text-align: right;\n",
              "    }\n",
              "</style>\n",
              "<table border=\"1\" class=\"dataframe\">\n",
              "  <thead>\n",
              "    <tr style=\"text-align: right;\">\n",
              "      <th></th>\n",
              "      <th>0</th>\n",
              "      <th>1</th>\n",
              "      <th>2</th>\n",
              "      <th>3</th>\n",
              "      <th>4</th>\n",
              "      <th>5</th>\n",
              "      <th>6</th>\n",
              "      <th>7</th>\n",
              "      <th>8</th>\n",
              "      <th>9</th>\n",
              "      <th>10</th>\n",
              "    </tr>\n",
              "  </thead>\n",
              "  <tbody>\n",
              "    <tr>\n",
              "      <th>count</th>\n",
              "      <td>1279.000000</td>\n",
              "      <td>1279.000000</td>\n",
              "      <td>1279.000000</td>\n",
              "      <td>1279.000000</td>\n",
              "      <td>1279.000000</td>\n",
              "      <td>1279.000000</td>\n",
              "      <td>1279.000000</td>\n",
              "      <td>1279.000000</td>\n",
              "      <td>1279.000000</td>\n",
              "      <td>1279.000000</td>\n",
              "      <td>1279.000000</td>\n",
              "    </tr>\n",
              "    <tr>\n",
              "      <th>mean</th>\n",
              "      <td>0.329530</td>\n",
              "      <td>0.281205</td>\n",
              "      <td>0.272471</td>\n",
              "      <td>0.113389</td>\n",
              "      <td>0.127626</td>\n",
              "      <td>0.222031</td>\n",
              "      <td>0.143665</td>\n",
              "      <td>0.492216</td>\n",
              "      <td>0.450118</td>\n",
              "      <td>0.177929</td>\n",
              "      <td>0.310477</td>\n",
              "    </tr>\n",
              "    <tr>\n",
              "      <th>std</th>\n",
              "      <td>0.152588</td>\n",
              "      <td>0.122791</td>\n",
              "      <td>0.195448</td>\n",
              "      <td>0.098342</td>\n",
              "      <td>0.082358</td>\n",
              "      <td>0.153933</td>\n",
              "      <td>0.116403</td>\n",
              "      <td>0.136266</td>\n",
              "      <td>0.121272</td>\n",
              "      <td>0.107119</td>\n",
              "      <td>0.161953</td>\n",
              "    </tr>\n",
              "    <tr>\n",
              "      <th>min</th>\n",
              "      <td>0.000000</td>\n",
              "      <td>0.000000</td>\n",
              "      <td>0.000000</td>\n",
              "      <td>0.000000</td>\n",
              "      <td>0.000000</td>\n",
              "      <td>0.000000</td>\n",
              "      <td>0.000000</td>\n",
              "      <td>0.000000</td>\n",
              "      <td>0.000000</td>\n",
              "      <td>0.000000</td>\n",
              "      <td>0.000000</td>\n",
              "    </tr>\n",
              "    <tr>\n",
              "      <th>25%</th>\n",
              "      <td>0.221239</td>\n",
              "      <td>0.191781</td>\n",
              "      <td>0.100000</td>\n",
              "      <td>0.068493</td>\n",
              "      <td>0.098497</td>\n",
              "      <td>0.089552</td>\n",
              "      <td>0.056537</td>\n",
              "      <td>0.410059</td>\n",
              "      <td>0.370079</td>\n",
              "      <td>0.110429</td>\n",
              "      <td>0.169231</td>\n",
              "    </tr>\n",
              "    <tr>\n",
              "      <th>50%</th>\n",
              "      <td>0.292035</td>\n",
              "      <td>0.273973</td>\n",
              "      <td>0.260000</td>\n",
              "      <td>0.089041</td>\n",
              "      <td>0.113523</td>\n",
              "      <td>0.194030</td>\n",
              "      <td>0.113074</td>\n",
              "      <td>0.494126</td>\n",
              "      <td>0.448819</td>\n",
              "      <td>0.153374</td>\n",
              "      <td>0.276923</td>\n",
              "    </tr>\n",
              "    <tr>\n",
              "      <th>75%</th>\n",
              "      <td>0.407080</td>\n",
              "      <td>0.356164</td>\n",
              "      <td>0.430000</td>\n",
              "      <td>0.116438</td>\n",
              "      <td>0.131886</td>\n",
              "      <td>0.298507</td>\n",
              "      <td>0.201413</td>\n",
              "      <td>0.570852</td>\n",
              "      <td>0.519685</td>\n",
              "      <td>0.220859</td>\n",
              "      <td>0.415385</td>\n",
              "    </tr>\n",
              "    <tr>\n",
              "      <th>max</th>\n",
              "      <td>1.000000</td>\n",
              "      <td>1.000000</td>\n",
              "      <td>1.000000</td>\n",
              "      <td>1.000000</td>\n",
              "      <td>1.000000</td>\n",
              "      <td>1.000000</td>\n",
              "      <td>1.000000</td>\n",
              "      <td>1.000000</td>\n",
              "      <td>1.000000</td>\n",
              "      <td>1.000000</td>\n",
              "      <td>1.000000</td>\n",
              "    </tr>\n",
              "  </tbody>\n",
              "</table>\n",
              "</div>"
            ],
            "text/plain": [
              "                0            1   ...           9            10\n",
              "count  1279.000000  1279.000000  ...  1279.000000  1279.000000\n",
              "mean      0.329530     0.281205  ...     0.177929     0.310477\n",
              "std       0.152588     0.122791  ...     0.107119     0.161953\n",
              "min       0.000000     0.000000  ...     0.000000     0.000000\n",
              "25%       0.221239     0.191781  ...     0.110429     0.169231\n",
              "50%       0.292035     0.273973  ...     0.153374     0.276923\n",
              "75%       0.407080     0.356164  ...     0.220859     0.415385\n",
              "max       1.000000     1.000000  ...     1.000000     1.000000\n",
              "\n",
              "[8 rows x 11 columns]"
            ]
          },
          "metadata": {
            "tags": []
          },
          "execution_count": 290
        }
      ]
    },
    {
      "cell_type": "markdown",
      "metadata": {
        "id": "Lp5ZAbQGyKxL"
      },
      "source": [
        "\r\n",
        "\r\n",
        "---\r\n",
        "\r\n",
        "\r\n",
        "Data standardization:"
      ]
    },
    {
      "cell_type": "code",
      "metadata": {
        "id": "XmgYI6e_yOzT"
      },
      "source": [
        "X_train_stand = X_train.copy()\r\n",
        "X_test_stand = X_test.copy()\r\n",
        "\r\n",
        "num_cols = X_train_stand.columns.values.tolist()\r\n",
        "\r\n",
        "for i in num_cols:\r\n",
        "    \r\n",
        "    # fit on training data column\r\n",
        "    scale = StandardScaler().fit(X_train_stand[[i]])\r\n",
        "\r\n",
        "    X_train_stand[i] = scale.transform(X_train_stand[[i]])\r\n",
        "   \r\n",
        "    X_test_stand[i] = scale.transform(X_test_stand[[i]])"
      ],
      "execution_count": 291,
      "outputs": []
    },
    {
      "cell_type": "code",
      "metadata": {
        "id": "IlO_6thhz2r1",
        "colab": {
          "base_uri": "https://localhost:8080/",
          "height": 0
        },
        "outputId": "23553682-2a3d-4d75-9609-71569d3e378f"
      },
      "source": [
        "X_train_stand.describe()"
      ],
      "execution_count": 292,
      "outputs": [
        {
          "output_type": "execute_result",
          "data": {
            "text/html": [
              "<div>\n",
              "<style scoped>\n",
              "    .dataframe tbody tr th:only-of-type {\n",
              "        vertical-align: middle;\n",
              "    }\n",
              "\n",
              "    .dataframe tbody tr th {\n",
              "        vertical-align: top;\n",
              "    }\n",
              "\n",
              "    .dataframe thead th {\n",
              "        text-align: right;\n",
              "    }\n",
              "</style>\n",
              "<table border=\"1\" class=\"dataframe\">\n",
              "  <thead>\n",
              "    <tr style=\"text-align: right;\">\n",
              "      <th></th>\n",
              "      <th>fixed acidity</th>\n",
              "      <th>volatile acidity</th>\n",
              "      <th>citric acid</th>\n",
              "      <th>residual sugar</th>\n",
              "      <th>chlorides</th>\n",
              "      <th>free sulfur dioxide</th>\n",
              "      <th>total sulfur dioxide</th>\n",
              "      <th>density</th>\n",
              "      <th>pH</th>\n",
              "      <th>sulphates</th>\n",
              "      <th>alcohol</th>\n",
              "    </tr>\n",
              "  </thead>\n",
              "  <tbody>\n",
              "    <tr>\n",
              "      <th>count</th>\n",
              "      <td>1.279000e+03</td>\n",
              "      <td>1.279000e+03</td>\n",
              "      <td>1.279000e+03</td>\n",
              "      <td>1.279000e+03</td>\n",
              "      <td>1.279000e+03</td>\n",
              "      <td>1.279000e+03</td>\n",
              "      <td>1.279000e+03</td>\n",
              "      <td>1.279000e+03</td>\n",
              "      <td>1.279000e+03</td>\n",
              "      <td>1.279000e+03</td>\n",
              "      <td>1.279000e+03</td>\n",
              "    </tr>\n",
              "    <tr>\n",
              "      <th>mean</th>\n",
              "      <td>-1.239561e-16</td>\n",
              "      <td>4.180480e-16</td>\n",
              "      <td>1.266904e-16</td>\n",
              "      <td>1.736080e-17</td>\n",
              "      <td>-1.854133e-16</td>\n",
              "      <td>-9.478996e-17</td>\n",
              "      <td>-8.038049e-17</td>\n",
              "      <td>2.558044e-14</td>\n",
              "      <td>-1.375149e-15</td>\n",
              "      <td>4.398358e-16</td>\n",
              "      <td>5.815867e-16</td>\n",
              "    </tr>\n",
              "    <tr>\n",
              "      <th>std</th>\n",
              "      <td>1.000391e+00</td>\n",
              "      <td>1.000391e+00</td>\n",
              "      <td>1.000391e+00</td>\n",
              "      <td>1.000391e+00</td>\n",
              "      <td>1.000391e+00</td>\n",
              "      <td>1.000391e+00</td>\n",
              "      <td>1.000391e+00</td>\n",
              "      <td>1.000391e+00</td>\n",
              "      <td>1.000391e+00</td>\n",
              "      <td>1.000391e+00</td>\n",
              "      <td>1.000391e+00</td>\n",
              "    </tr>\n",
              "    <tr>\n",
              "      <th>min</th>\n",
              "      <td>-2.160453e+00</td>\n",
              "      <td>-2.291000e+00</td>\n",
              "      <td>-1.394630e+00</td>\n",
              "      <td>-1.153456e+00</td>\n",
              "      <td>-1.550257e+00</td>\n",
              "      <td>-1.442950e+00</td>\n",
              "      <td>-1.234688e+00</td>\n",
              "      <td>-3.613585e+00</td>\n",
              "      <td>-3.713085e+00</td>\n",
              "      <td>-1.661679e+00</td>\n",
              "      <td>-1.917831e+00</td>\n",
              "    </tr>\n",
              "    <tr>\n",
              "      <th>25%</th>\n",
              "      <td>-7.099747e-01</td>\n",
              "      <td>-7.285451e-01</td>\n",
              "      <td>-8.827838e-01</td>\n",
              "      <td>-4.567030e-01</td>\n",
              "      <td>-3.538207e-01</td>\n",
              "      <td>-8.609621e-01</td>\n",
              "      <td>-7.487957e-01</td>\n",
              "      <td>-6.031534e-01</td>\n",
              "      <td>-6.602541e-01</td>\n",
              "      <td>-6.303756e-01</td>\n",
              "      <td>-8.724843e-01</td>\n",
              "    </tr>\n",
              "    <tr>\n",
              "      <th>50%</th>\n",
              "      <td>-2.458216e-01</td>\n",
              "      <td>-5.892147e-02</td>\n",
              "      <td>-6.383064e-02</td>\n",
              "      <td>-2.476770e-01</td>\n",
              "      <td>-1.713135e-01</td>\n",
              "      <td>-1.819756e-01</td>\n",
              "      <td>-2.629030e-01</td>\n",
              "      <td>1.402550e-02</td>\n",
              "      <td>-1.071561e-02</td>\n",
              "      <td>-2.293130e-01</td>\n",
              "      <td>-2.072638e-01</td>\n",
              "    </tr>\n",
              "    <tr>\n",
              "      <th>75%</th>\n",
              "      <td>5.084274e-01</td>\n",
              "      <td>6.107022e-01</td>\n",
              "      <td>8.063071e-01</td>\n",
              "      <td>3.102432e-02</td>\n",
              "      <td>5.175080e-02</td>\n",
              "      <td>4.970108e-01</td>\n",
              "      <td>4.963043e-01</td>\n",
              "      <td>5.773023e-01</td>\n",
              "      <td>5.738691e-01</td>\n",
              "      <td>4.009282e-01</td>\n",
              "      <td>6.480197e-01</td>\n",
              "    </tr>\n",
              "    <tr>\n",
              "      <th>max</th>\n",
              "      <td>4.395710e+00</td>\n",
              "      <td>5.856087e+00</td>\n",
              "      <td>3.723828e+00</td>\n",
              "      <td>9.019142e+00</td>\n",
              "      <td>1.059661e+01</td>\n",
              "      <td>5.055920e+00</td>\n",
              "      <td>7.359539e+00</td>\n",
              "      <td>3.727879e+00</td>\n",
              "      <td>4.536054e+00</td>\n",
              "      <td>7.677349e+00</td>\n",
              "      <td>4.259217e+00</td>\n",
              "    </tr>\n",
              "  </tbody>\n",
              "</table>\n",
              "</div>"
            ],
            "text/plain": [
              "       fixed acidity  volatile acidity  ...     sulphates       alcohol\n",
              "count   1.279000e+03      1.279000e+03  ...  1.279000e+03  1.279000e+03\n",
              "mean   -1.239561e-16      4.180480e-16  ...  4.398358e-16  5.815867e-16\n",
              "std     1.000391e+00      1.000391e+00  ...  1.000391e+00  1.000391e+00\n",
              "min    -2.160453e+00     -2.291000e+00  ... -1.661679e+00 -1.917831e+00\n",
              "25%    -7.099747e-01     -7.285451e-01  ... -6.303756e-01 -8.724843e-01\n",
              "50%    -2.458216e-01     -5.892147e-02  ... -2.293130e-01 -2.072638e-01\n",
              "75%     5.084274e-01      6.107022e-01  ...  4.009282e-01  6.480197e-01\n",
              "max     4.395710e+00      5.856087e+00  ...  7.677349e+00  4.259217e+00\n",
              "\n",
              "[8 rows x 11 columns]"
            ]
          },
          "metadata": {
            "tags": []
          },
          "execution_count": 292
        }
      ]
    },
    {
      "cell_type": "markdown",
      "metadata": {
        "id": "1MuadRpyt280"
      },
      "source": [
        "\r\n",
        "\r\n",
        "---\r\n",
        "\r\n",
        "\r\n",
        "SMOTE"
      ]
    },
    {
      "cell_type": "code",
      "metadata": {
        "colab": {
          "base_uri": "https://localhost:8080/"
        },
        "id": "tzw3ADEnCrUZ",
        "outputId": "74c6af92-fee5-4423-8fcc-63d3b840d48e"
      },
      "source": [
        "sm = SMOTE(random_state=2)\r\n",
        "X_train_SM, y_train_SM = sm.fit_sample(X_train, y_train.ravel())\r\n",
        "\r\n",
        "print('After OverSampling, the shape of train_X: {}'.format(X_train_SM.shape))\r\n",
        "print('After OverSampling, the shape of train_y: {} \\n'.format(y_train_SM.shape))\r\n",
        "\r\n",
        "print(\"After OverSampling, counts of label '1': {}\".format(sum(y_train_SM==1)))\r\n",
        "print(\"After OverSampling, counts of label '0': {}\".format(sum(y_train_SM==0)))"
      ],
      "execution_count": 293,
      "outputs": [
        {
          "output_type": "stream",
          "text": [
            "After OverSampling, the shape of train_X: (2218, 11)\n",
            "After OverSampling, the shape of train_y: (2218,) \n",
            "\n",
            "After OverSampling, counts of label '1': 1109\n",
            "After OverSampling, counts of label '0': 1109\n"
          ],
          "name": "stdout"
        }
      ]
    },
    {
      "cell_type": "code",
      "metadata": {
        "colab": {
          "base_uri": "https://localhost:8080/"
        },
        "id": "j4EbvFKiud4t",
        "outputId": "a77912b3-5e24-4a30-b8a5-0dffe6952d43"
      },
      "source": [
        "X_train_SM = DataFrame(X_train_norm)\r\n",
        "X_train_SM.info"
      ],
      "execution_count": 294,
      "outputs": [
        {
          "output_type": "execute_result",
          "data": {
            "text/plain": [
              "<bound method DataFrame.info of             0         1     2   ...        8         9         10\n",
              "0     0.362832  0.390411  0.31  ...  0.582677  0.226994  0.492308\n",
              "1     0.132743  0.061644  0.40  ...  0.401575  0.134969  0.538462\n",
              "2     0.557522  0.184932  0.47  ...  0.440945  0.233129  0.215385\n",
              "3     0.371681  0.386986  0.26  ...  0.456693  0.061350  0.153846\n",
              "4     0.336283  0.626712  0.15  ...  0.496063  0.073620  0.230769\n",
              "...        ...       ...   ...  ...       ...       ...       ...\n",
              "1274  0.398230  0.328767  0.00  ...  0.346457  0.159509  0.307692\n",
              "1275  0.318584  0.352740  0.10  ...  0.433071  0.233129  0.384615\n",
              "1276  0.230088  0.342466  0.06  ...  0.606299  0.104294  0.169231\n",
              "1277  0.292035  0.054795  0.35  ...  0.456693  0.263804  0.538462\n",
              "1278  0.106195  0.116438  0.26  ...  0.511811  0.104294  0.784615\n",
              "\n",
              "[1279 rows x 11 columns]>"
            ]
          },
          "metadata": {
            "tags": []
          },
          "execution_count": 294
        }
      ]
    },
    {
      "cell_type": "markdown",
      "metadata": {
        "id": "ZuHfWkeXT7Fq"
      },
      "source": [
        "# **4. Building machine learning model**"
      ]
    },
    {
      "cell_type": "markdown",
      "metadata": {
        "id": "tAV2DX0AX77e"
      },
      "source": [
        "4.1. Out of the box models performance comparison:"
      ]
    },
    {
      "cell_type": "code",
      "metadata": {
        "id": "7F0Hz3y3YOTV",
        "colab": {
          "base_uri": "https://localhost:8080/",
          "height": 0
        },
        "outputId": "69da9fdb-3083-4794-b968-b899d7e9937a"
      },
      "source": [
        "models = [('LR', LogisticRegression(solver='liblinear', multi_class='ovr')),\r\n",
        "          ('LDA', LinearDiscriminantAnalysis()),\r\n",
        "          ('KNN', KNeighborsClassifier()),\r\n",
        "          ('SVM', SVC(gamma='auto')),\r\n",
        "          ('CART', DecisionTreeClassifier()),\r\n",
        "          ('NB', GaussianNB()),\r\n",
        "          ('RF', RandomForestClassifier()),\r\n",
        "          ('XGB', XGBClassifier())]\r\n",
        "\r\n",
        "results = []\r\n",
        "names = []\r\n",
        "for name, model in models:\r\n",
        "\tkfold = StratifiedKFold(n_splits=10, random_state=42, shuffle=True)\r\n",
        "\tcv_results = cross_val_score(model, X_train, y_train, cv=kfold, scoring='f1')\r\n",
        "\tresults.append(cv_results)\r\n",
        "\tnames.append(name)\r\n",
        "\tprint('%s: %f (%f)' % (name, cv_results.mean(), cv_results.std()))\r\n",
        " \r\n",
        "print(\"...................................................\")\r\n",
        "plt.boxplot(results, labels=names)\r\n",
        "plt.title('Out of the box models performance comparison')\r\n",
        "plt.show()"
      ],
      "execution_count": 295,
      "outputs": [
        {
          "output_type": "stream",
          "text": [
            "LR: 0.340278 (0.098479)\n",
            "LDA: 0.446129 (0.145735)\n",
            "KNN: 0.302628 (0.083967)\n",
            "SVM: 0.342558 (0.099954)\n",
            "CART: 0.554743 (0.076590)\n",
            "NB: 0.515006 (0.061597)\n",
            "RF: 0.595161 (0.092896)\n",
            "XGB: 0.517705 (0.096076)\n",
            "...................................................\n"
          ],
          "name": "stdout"
        },
        {
          "output_type": "display_data",
          "data": {
            "image/png": "[encoded data removed]",
            "text/plain": [
              "<Figure size 432x288 with 1 Axes>"
            ]
          },
          "metadata": {
            "tags": [],
            "needs_background": "light"
          }
        }
      ]
    },
    {
      "cell_type": "code",
      "metadata": {
        "id": "NIM7k4zA7iMq"
      },
      "source": [
        "# print(results)"
      ],
      "execution_count": 296,
      "outputs": []
    },
    {
      "cell_type": "markdown",
      "metadata": {
        "id": "3PKOG_fvtHto"
      },
      "source": [
        "4.2 Out of the box models performance comparison **with data standartization**:"
      ]
    },
    {
      "cell_type": "code",
      "metadata": {
        "colab": {
          "base_uri": "https://localhost:8080/",
          "height": 0
        },
        "id": "KIOQ1rbFtiHg",
        "outputId": "619b532c-61f4-49ba-f3cc-b757cb745629"
      },
      "source": [
        "results = []\r\n",
        "names = []\r\n",
        "for name, model in models:\r\n",
        "\tkfold = StratifiedKFold(n_splits=10, random_state=42, shuffle=True)\r\n",
        "\tcv_results = cross_val_score(model, X_train_stand, y_train, cv=kfold, scoring='f1')\r\n",
        "\tresults.append(cv_results)\r\n",
        "\tnames.append(name)\r\n",
        "\tprint('%s: %f (%f)' % (name, cv_results.mean(), cv_results.std()))\r\n",
        " \r\n",
        "print(\"...................................................\")\r\n",
        "plt.boxplot(results, labels=names)\r\n",
        "plt.title('Out of the box models performance comparison')\r\n",
        "plt.show()"
      ],
      "execution_count": 297,
      "outputs": [
        {
          "output_type": "stream",
          "text": [
            "LR: 0.392074 (0.108304)\n",
            "LDA: 0.446129 (0.145735)\n",
            "KNN: 0.473660 (0.091131)\n",
            "SVM: 0.386748 (0.113406)\n",
            "CART: 0.576083 (0.082509)\n",
            "NB: 0.523567 (0.058323)\n",
            "RF: 0.603268 (0.102271)\n",
            "XGB: 0.523244 (0.099876)\n",
            "...................................................\n"
          ],
          "name": "stdout"
        },
        {
          "output_type": "display_data",
          "data": {
            "image/png": "[encoded data removed]",
            "text/plain": [
              "<Figure size 432x288 with 1 Axes>"
            ]
          },
          "metadata": {
            "tags": [],
            "needs_background": "light"
          }
        }
      ]
    },
    {
      "cell_type": "markdown",
      "metadata": {
        "id": "ixlXrKdPv-nv"
      },
      "source": [
        "4.3 Out of the box models performance comparison **with data normalization**:"
      ]
    },
    {
      "cell_type": "code",
      "metadata": {
        "colab": {
          "base_uri": "https://localhost:8080/",
          "height": 0
        },
        "id": "2d504bajv9ng",
        "outputId": "e3db97eb-295a-4d64-f09d-877ef2577cdf"
      },
      "source": [
        "results = []\r\n",
        "names = []\r\n",
        "for name, model in models:\r\n",
        "\tkfold = StratifiedKFold(n_splits=10, random_state=42, shuffle=True)\r\n",
        "\tcv_results = cross_val_score(model, X_train_norm, y_train, cv=kfold, scoring='f1')\r\n",
        "\tresults.append(cv_results)\r\n",
        "\tnames.append(name)\r\n",
        "\tprint('%s: %f (%f)' % (name, cv_results.mean(), cv_results.std()))\r\n",
        " \r\n",
        "print(\"...................................................\")\r\n",
        "plt.boxplot(results, labels=names)\r\n",
        "plt.title('Out of the box models performance comparison')\r\n",
        "plt.show()"
      ],
      "execution_count": 298,
      "outputs": [
        {
          "output_type": "stream",
          "text": [
            "LR: 0.276363 (0.099218)\n",
            "LDA: 0.446129 (0.145735)\n",
            "KNN: 0.483611 (0.064785)\n",
            "SVM: 0.000000 (0.000000)\n",
            "CART: 0.559290 (0.082155)\n",
            "NB: 0.523567 (0.058323)\n",
            "RF: 0.599831 (0.094726)\n",
            "XGB: 0.517705 (0.096076)\n",
            "...................................................\n"
          ],
          "name": "stdout"
        },
        {
          "output_type": "display_data",
          "data": {
            "image/png": "[encoded data removed]",
            "text/plain": [
              "<Figure size 432x288 with 1 Axes>"
            ]
          },
          "metadata": {
            "tags": [],
            "needs_background": "light"
          }
        }
      ]
    },
    {
      "cell_type": "markdown",
      "metadata": {
        "id": "1SQUAOd7eRSx"
      },
      "source": [
        "4.4 Out of the box models performance comparison **with SMOTE**:"
      ]
    },
    {
      "cell_type": "code",
      "metadata": {
        "colab": {
          "base_uri": "https://localhost:8080/",
          "height": 0
        },
        "id": "SwLnIPNXeX-b",
        "outputId": "770da5c7-c3f0-461a-aca9-de84d190704b"
      },
      "source": [
        "results = []\r\n",
        "names = []\r\n",
        "for name, model in models:\r\n",
        "\tkfold = StratifiedKFold(n_splits=10, random_state=42, shuffle=True)\r\n",
        "\tcv_results = cross_val_score(model, X_train_SM, y_train, cv=kfold, scoring='f1')\r\n",
        "\tresults.append(cv_results)\r\n",
        "\tnames.append(name)\r\n",
        "\tprint('%s: %f (%f)' % (name, cv_results.mean(), cv_results.std()))\r\n",
        " \r\n",
        "print(\"...................................................\")\r\n",
        "plt.boxplot(results, labels=names)\r\n",
        "plt.title('Out of the box models performance comparison')\r\n",
        "plt.show()"
      ],
      "execution_count": 299,
      "outputs": [
        {
          "output_type": "stream",
          "text": [
            "LR: 0.276363 (0.099218)\n",
            "LDA: 0.446129 (0.145735)\n",
            "KNN: 0.483611 (0.064785)\n",
            "SVM: 0.000000 (0.000000)\n",
            "CART: 0.556497 (0.079224)\n",
            "NB: 0.523567 (0.058323)\n",
            "RF: 0.602339 (0.106041)\n",
            "XGB: 0.517705 (0.096076)\n",
            "...................................................\n"
          ],
          "name": "stdout"
        },
        {
          "output_type": "display_data",
          "data": {
            "image/png": "[encoded data removed]",
            "text/plain": [
              "<Figure size 432x288 with 1 Axes>"
            ]
          },
          "metadata": {
            "tags": [],
            "needs_background": "light"
          }
        }
      ]
    },
    {
      "cell_type": "markdown",
      "metadata": {
        "id": "OfuxSURfM8qK"
      },
      "source": [
        "4.5 Models performance comparison **after hyperparameter tuning**:"
      ]
    },
    {
      "cell_type": "code",
      "metadata": {
        "colab": {
          "base_uri": "https://localhost:8080/",
          "height": 0
        },
        "id": "ORN4ADP3M90J",
        "outputId": "e86f9e7a-77d7-4667-b6e2-32db076c88cc"
      },
      "source": [
        "models = [('LR', LogisticRegression(solver='liblinear', multi_class='ovr')),\r\n",
        "          ('LDA', LinearDiscriminantAnalysis()),\r\n",
        "          ('KNN', KNeighborsClassifier(n_neighbors=1)),\r\n",
        "          ('SVM', SVC(gamma='auto')),\r\n",
        "          ('CART', DecisionTreeClassifier()),\r\n",
        "          ('NB', GaussianNB()),\r\n",
        "          ('RF', RandomForestClassifier(max_features=4,n_estimators=250)),\r\n",
        "          ('XGB', XGBClassifier(n_estimators=1000,learning_rate=0.1,max_depth=4,early_stopping_rounds=5,subsample=0.8))]\r\n",
        "\r\n",
        "results = []\r\n",
        "names = []\r\n",
        "for name, model in models:\r\n",
        "\tkfold = StratifiedKFold(n_splits=10, random_state=42, shuffle=True)\r\n",
        "\tcv_results = cross_val_score(model, X_train, y_train, cv=kfold, scoring='f1')\r\n",
        "\tresults.append(cv_results)\r\n",
        "\tnames.append(name)\r\n",
        "\tprint('%s: %f (%f)' % (name, cv_results.mean(), cv_results.std()))\r\n",
        " \r\n",
        "print(\"...................................................\")\r\n",
        "plt.boxplot(results, labels=names)\r\n",
        "plt.title('Out of the box models performance comparison')\r\n",
        "plt.show()"
      ],
      "execution_count": 300,
      "outputs": [
        {
          "output_type": "stream",
          "text": [
            "LR: 0.340278 (0.098479)\n",
            "LDA: 0.446129 (0.145735)\n",
            "KNN: 0.536420 (0.051816)\n",
            "SVM: 0.342558 (0.099954)\n",
            "CART: 0.570262 (0.089775)\n",
            "NB: 0.515006 (0.061597)\n",
            "RF: 0.620038 (0.103713)\n",
            "XGB: 0.599934 (0.111658)\n",
            "...................................................\n"
          ],
          "name": "stdout"
        },
        {
          "output_type": "display_data",
          "data": {
            "image/png": "[encoded data removed]",
            "text/plain": [
              "<Figure size 432x288 with 1 Axes>"
            ]
          },
          "metadata": {
            "tags": [],
            "needs_background": "light"
          }
        }
      ]
    },
    {
      "cell_type": "markdown",
      "metadata": {
        "id": "Wf95Jn8wc6XB"
      },
      "source": [
        "\r\n",
        "\r\n",
        "---\r\n",
        "\r\n",
        "\r\n",
        "# **Drafts:**"
      ]
    },
    {
      "cell_type": "markdown",
      "metadata": {
        "id": "s8wI8vgxltQk"
      },
      "source": [
        "# k-Nearest Neighbour"
      ]
    },
    {
      "cell_type": "code",
      "metadata": {
        "trusted": true,
        "id": "bmZoAIc4ltQl",
        "colab": {
          "base_uri": "https://localhost:8080/"
        },
        "outputId": "af452aa1-0681-4450-beeb-e1d763240c1b"
      },
      "source": [
        "knn = KNeighborsClassifier()\n",
        "knn.fit(X_train, y_train)\n",
        "y_pred = knn.predict(X_test)\n",
        "\n",
        "print(classification_report(y_test,y_pred))"
      ],
      "execution_count": 301,
      "outputs": [
        {
          "output_type": "stream",
          "text": [
            "              precision    recall  f1-score   support\n",
            "\n",
            "           0       0.88      0.97      0.92       273\n",
            "           1       0.53      0.21      0.30        47\n",
            "\n",
            "    accuracy                           0.86       320\n",
            "   macro avg       0.70      0.59      0.61       320\n",
            "weighted avg       0.83      0.86      0.83       320\n",
            "\n"
          ],
          "name": "stdout"
        }
      ]
    },
    {
      "cell_type": "code",
      "metadata": {
        "colab": {
          "base_uri": "https://localhost:8080/"
        },
        "id": "PJ1Sif02G4di",
        "outputId": "b03a9423-a859-41d3-f845-ef3cd01cdd48"
      },
      "source": [
        "f1 = f1_score(y_test, y_pred)\r\n",
        "print('F1 score: %f' % f1)"
      ],
      "execution_count": 302,
      "outputs": [
        {
          "output_type": "stream",
          "text": [
            "F1 score: 0.303030\n"
          ],
          "name": "stdout"
        }
      ]
    },
    {
      "cell_type": "code",
      "metadata": {
        "id": "gY2qvU1mpjY7"
      },
      "source": [
        "# from sklearn.preprocessing import PolynomialFeatures\r\n",
        "\r\n",
        "\r\n",
        "# # calculate change in number of features\r\n",
        "# num_features = list()\r\n",
        "# degrees = [i for i in range(1, 6)]\r\n",
        "# for d in degrees:\r\n",
        "# \t# create transform\r\n",
        "# \ttrans = PolynomialFeatures(degree=d)\r\n",
        "# \t# fit and transform\r\n",
        "# \tdata = trans.fit_transform(X)\r\n",
        "# \t# record number of features\r\n",
        "# \tnum_features.append(data.shape[1])\r\n",
        "# \t# summarize\r\n",
        "# \tprint('Degree: %d, Features: %d' % (d, data.shape[1]))\r\n",
        "# # plot degree vs number of features\r\n",
        "# plt.plot(degrees, num_features)\r\n",
        "# plt.show()"
      ],
      "execution_count": 303,
      "outputs": []
    },
    {
      "cell_type": "code",
      "metadata": {
        "id": "sRhS6wCSs_Dn"
      },
      "source": [
        "# # polynomial features transform\r\n",
        "\r\n",
        "\r\n",
        "# def get_models():\r\n",
        "# \tmodels = dict()\r\n",
        "# \tfor d in range(1,5):\r\n",
        "# \t\t# define the pipeline\r\n",
        "# \t\ttrans = PolynomialFeatures(degree=d)\r\n",
        "# \t\tmodel = KNeighborsClassifier()\r\n",
        "# \t\tmodels[str(d)] = Pipeline(steps=[('t', trans), ('m', model)])\r\n",
        "# \treturn models\r\n",
        "\r\n",
        "# # evaluate a give model using cross-validation\r\n",
        "# def evaluate_model(model, X, y):\r\n",
        "# \tcv = RepeatedStratifiedKFold(n_splits=10, n_repeats=3, random_state=1)\r\n",
        "# \tscores = cross_val_score(model, X, y, scoring='f1', cv=cv, n_jobs=-1, error_score='raise')\r\n",
        "# \treturn scores\r\n",
        "\r\n",
        "\r\n",
        "# # get the models to evaluate\r\n",
        "# models = get_models()\r\n",
        "# # evaluate the models and store results\r\n",
        "# results, names = list(), list()\r\n",
        "# for name, model in models.items():\r\n",
        "# \tscores = evaluate_model(model, X, y)\r\n",
        "# \tresults.append(scores)\r\n",
        "# \tnames.append(name)\r\n",
        "# \tprint('>%s %.3f (%.3f)' % (name, mean(scores), std(scores)))\r\n",
        "# # plot model performance for comparison\r\n",
        "# plt.boxplot(results, labels=names, showmeans=True)\r\n",
        "# plt.show()"
      ],
      "execution_count": 304,
      "outputs": []
    },
    {
      "cell_type": "markdown",
      "metadata": {
        "id": "7xaOT39yltQm"
      },
      "source": [
        "# Decision Tree"
      ]
    },
    {
      "cell_type": "code",
      "metadata": {
        "trusted": true,
        "id": "8cOav0cOltQm",
        "colab": {
          "base_uri": "https://localhost:8080/"
        },
        "outputId": "0d622eae-e989-453b-f2cc-1b4abaff65a5"
      },
      "source": [
        "dt = DecisionTreeClassifier()\n",
        "dt.fit(X_train,y_train)\n",
        "y_pred=dt.predict(X_test)\n",
        "\n",
        "print(classification_report(y_test,y_pred))"
      ],
      "execution_count": 305,
      "outputs": [
        {
          "output_type": "stream",
          "text": [
            "              precision    recall  f1-score   support\n",
            "\n",
            "           0       0.93      0.92      0.92       273\n",
            "           1       0.55      0.57      0.56        47\n",
            "\n",
            "    accuracy                           0.87       320\n",
            "   macro avg       0.74      0.75      0.74       320\n",
            "weighted avg       0.87      0.87      0.87       320\n",
            "\n"
          ],
          "name": "stdout"
        }
      ]
    },
    {
      "cell_type": "code",
      "metadata": {
        "colab": {
          "base_uri": "https://localhost:8080/"
        },
        "id": "GoQcoIklB6pp",
        "outputId": "eb23f361-f578-4bab-f1a6-b1e9e6612630"
      },
      "source": [
        "f1 = f1_score(y_test, y_pred)\r\n",
        "print('F1 score: %f' % f1)"
      ],
      "execution_count": 306,
      "outputs": [
        {
          "output_type": "stream",
          "text": [
            "F1 score: 0.562500\n"
          ],
          "name": "stdout"
        }
      ]
    },
    {
      "cell_type": "code",
      "metadata": {
        "colab": {
          "base_uri": "https://localhost:8080/",
          "height": 0
        },
        "id": "WvM63T2g0xEI",
        "outputId": "c5e6c2e0-c3a8-4c3b-c15f-15fab71a28ad"
      },
      "source": [
        "\"\"\"\r\n",
        "# define pipeline\r\n",
        "model = DecisionTreeClassifier()\r\n",
        "over = SMOTE(sampling_strategy=0.5)\r\n",
        "under = RandomUnderSampler(sampling_strategy=0.1)\r\n",
        "steps = [('over', over), ('under', under), ('model', model)]\r\n",
        "pipeline = Pipeline(steps=steps)\r\n",
        "\"\"\""
      ],
      "execution_count": 307,
      "outputs": [
        {
          "output_type": "execute_result",
          "data": {
            "application/vnd.google.colaboratory.intrinsic+json": {
              "type": "string"
            },
            "text/plain": [
              "\"\\n# define pipeline\\nmodel = DecisionTreeClassifier()\\nover = SMOTE(sampling_strategy=0.5)\\nunder = RandomUnderSampler(sampling_strategy=0.1)\\nsteps = [('over', over), ('under', under), ('model', model)]\\npipeline = Pipeline(steps=steps)\\n\""
            ]
          },
          "metadata": {
            "tags": []
          },
          "execution_count": 307
        }
      ]
    },
    {
      "cell_type": "code",
      "metadata": {
        "colab": {
          "base_uri": "https://localhost:8080/",
          "height": 0
        },
        "id": "vDmA2B-33V4g",
        "outputId": "983fdbaa-5ae7-474b-84d5-ed71864c13e1"
      },
      "source": [
        "\"\"\"\r\n",
        "# decision tree  on imbalanced dataset with SMOTE oversampling and random undersampling\r\n",
        "from numpy import mean\r\n",
        "from sklearn.datasets import make_classification\r\n",
        "from sklearn.model_selection import cross_val_score\r\n",
        "from sklearn.model_selection import RepeatedStratifiedKFold\r\n",
        "from sklearn.tree import DecisionTreeClassifier\r\n",
        "from imblearn.pipeline import Pipeline\r\n",
        "from imblearn.over_sampling import SMOTE\r\n",
        "from imblearn.under_sampling import RandomUnderSampler\r\n",
        "# define dataset\r\n",
        "X, y = make_classification(n_samples=1000, n_features=11, n_redundant=1,\r\n",
        "\tn_clusters_per_class=1, weights=[0.99], flip_y=0, random_state=1)\r\n",
        "# define pipeline\r\n",
        "model = DecisionTreeClassifier()\r\n",
        "over = SMOTE(sampling_strategy=0.1)\r\n",
        "under = RandomUnderSampler(sampling_strategy=0.5)\r\n",
        "steps = [('over', over), ('under', under), ('model', model)]\r\n",
        "pipeline = Pipeline(steps=steps)\r\n",
        "# evaluate pipeline\r\n",
        "cv = RepeatedStratifiedKFold(n_splits=10, n_repeats=3, random_state=1)\r\n",
        "scores = cross_val_score(pipeline, X, y, scoring='f1', cv=cv, n_jobs=-1)\r\n",
        "print('Mean f1 score: %.3f' % mean(scores))\r\n",
        "\"\"\""
      ],
      "execution_count": 308,
      "outputs": [
        {
          "output_type": "execute_result",
          "data": {
            "application/vnd.google.colaboratory.intrinsic+json": {
              "type": "string"
            },
            "text/plain": [
              "\"\\n# decision tree  on imbalanced dataset with SMOTE oversampling and random undersampling\\nfrom numpy import mean\\nfrom sklearn.datasets import make_classification\\nfrom sklearn.model_selection import cross_val_score\\nfrom sklearn.model_selection import RepeatedStratifiedKFold\\nfrom sklearn.tree import DecisionTreeClassifier\\nfrom imblearn.pipeline import Pipeline\\nfrom imblearn.over_sampling import SMOTE\\nfrom imblearn.under_sampling import RandomUnderSampler\\n# define dataset\\nX, y = make_classification(n_samples=1000, n_features=11, n_redundant=1,\\n\\tn_clusters_per_class=1, weights=[0.99], flip_y=0, random_state=1)\\n# define pipeline\\nmodel = DecisionTreeClassifier()\\nover = SMOTE(sampling_strategy=0.1)\\nunder = RandomUnderSampler(sampling_strategy=0.5)\\nsteps = [('over', over), ('under', under), ('model', model)]\\npipeline = Pipeline(steps=steps)\\n# evaluate pipeline\\ncv = RepeatedStratifiedKFold(n_splits=10, n_repeats=3, random_state=1)\\nscores = cross_val_score(pipeline, X, y, scoring='f1', cv=cv, n_jobs=-1)\\nprint('Mean f1 score: %.3f' % mean(scores))\\n\""
            ]
          },
          "metadata": {
            "tags": []
          },
          "execution_count": 308
        }
      ]
    },
    {
      "cell_type": "code",
      "metadata": {
        "id": "EzHALYDKt6wu"
      },
      "source": [
        "# #Smote Decision tree\r\n",
        "\r\n",
        "# X, y = make_classification(n_samples=1000, n_features=2, n_redundant=0,\r\n",
        "# \tn_clusters_per_class=1, weights=[0.99], flip_y=0, random_state=1)\r\n",
        "\r\n",
        "# steps = [('over', SMOTE()), ('model', DecisionTreeClassifier())]\r\n",
        "# pipeline = Pipeline(steps=steps)\r\n",
        "\r\n",
        "# cv = RepeatedStratifiedKFold(n_splits=10, n_repeats=3, random_state=1)\r\n",
        "# scores = cross_val_score(pipeline, X, y, scoring='f1', cv=cv, n_jobs=-1)\r\n",
        "# print('Mean f1 score: %.3f' % mean(scores))"
      ],
      "execution_count": 309,
      "outputs": []
    },
    {
      "cell_type": "markdown",
      "metadata": {
        "id": "r2mryMyQltQn"
      },
      "source": [
        "# Logistic regression"
      ]
    },
    {
      "cell_type": "code",
      "metadata": {
        "trusted": true,
        "id": "e7UbUbYPltQn",
        "colab": {
          "base_uri": "https://localhost:8080/"
        },
        "outputId": "b41167a0-c50c-4fe4-f399-6772b336483d"
      },
      "source": [
        "lr = LogisticRegression()\n",
        "lr.fit(X_train, y_train)\n",
        "lr_predict = lr.predict(X_test)\n",
        "\n",
        "print(classification_report(y_test,lr_predict))"
      ],
      "execution_count": 310,
      "outputs": [
        {
          "output_type": "stream",
          "text": [
            "              precision    recall  f1-score   support\n",
            "\n",
            "           0       0.88      0.98      0.93       273\n",
            "           1       0.62      0.21      0.32        47\n",
            "\n",
            "    accuracy                           0.87       320\n",
            "   macro avg       0.75      0.60      0.62       320\n",
            "weighted avg       0.84      0.87      0.84       320\n",
            "\n"
          ],
          "name": "stdout"
        },
        {
          "output_type": "stream",
          "text": [
            "lbfgs failed to converge (status=1):\n",
            "STOP: TOTAL NO. of ITERATIONS REACHED LIMIT.\n",
            "\n",
            "Increase the number of iterations (max_iter) or scale the data as shown in:\n",
            "    https://scikit-learn.org/stable/modules/preprocessing.html\n",
            "Please also refer to the documentation for alternative solver options:\n",
            "    https://scikit-learn.org/stable/modules/linear_model.html#logistic-regression\n"
          ],
          "name": "stderr"
        }
      ]
    },
    {
      "cell_type": "markdown",
      "metadata": {
        "id": "WHHCVw0xYHau"
      },
      "source": [
        "# GaussianNB"
      ]
    },
    {
      "cell_type": "code",
      "metadata": {
        "id": "KD8MfblPYGbE"
      },
      "source": [
        "# nb_classifier = GaussianNB()\r\n",
        "\r\n",
        "# params_NB = {'var_smoothing': np.logspace(0,-9, num=100)}\r\n",
        "# gs_NB = GridSearchCV(estimator=nb_classifier, \r\n",
        "#                  param_grid=params_NB, \r\n",
        "#                  cv=cv_method,   # use any cross validation technique \r\n",
        "#                  verbose=1, \r\n",
        "#                  scoring='f1') \r\n",
        "# gs_NB.fit(X_train, y_train)\r\n",
        "\r\n",
        "# gs_NB.best_params_"
      ],
      "execution_count": 311,
      "outputs": []
    },
    {
      "cell_type": "markdown",
      "metadata": {
        "id": "CKJOOU_oltQm"
      },
      "source": [
        "# Random forest"
      ]
    },
    {
      "cell_type": "code",
      "metadata": {
        "trusted": true,
        "id": "0s0NV0iGltQn",
        "colab": {
          "base_uri": "https://localhost:8080/"
        },
        "outputId": "dac7e948-248c-4460-c474-2048dd3233b0"
      },
      "source": [
        "rf = RandomForestClassifier(n_jobs=-1)\n",
        "rf.fit(X_train, y_train)\n",
        "y_pred=rf.predict(X_test)\n",
        "\n",
        "print(classification_report(y_test,y_pred))"
      ],
      "execution_count": 312,
      "outputs": [
        {
          "output_type": "stream",
          "text": [
            "              precision    recall  f1-score   support\n",
            "\n",
            "           0       0.93      0.96      0.94       273\n",
            "           1       0.72      0.55      0.63        47\n",
            "\n",
            "    accuracy                           0.90       320\n",
            "   macro avg       0.82      0.76      0.79       320\n",
            "weighted avg       0.90      0.90      0.90       320\n",
            "\n"
          ],
          "name": "stdout"
        }
      ]
    },
    {
      "cell_type": "code",
      "metadata": {
        "colab": {
          "base_uri": "https://localhost:8080/"
        },
        "id": "nO0yntZgMzUU",
        "outputId": "e00ac3ca-a5ef-4f47-87b8-fcdd0cf02d46"
      },
      "source": [
        "score = f1_score(y_test, y_pred, average='binary')\r\n",
        "print('F-Measure: %.3f' % score)"
      ],
      "execution_count": 313,
      "outputs": [
        {
          "output_type": "stream",
          "text": [
            "F-Measure: 0.627\n"
          ],
          "name": "stdout"
        }
      ]
    },
    {
      "cell_type": "code",
      "metadata": {
        "colab": {
          "base_uri": "https://localhost:8080/",
          "height": 386
        },
        "id": "damRUKkLEFLP",
        "outputId": "fd5a8d4c-4a23-4a82-8104-49de618567b1"
      },
      "source": [
        "import shap\r\n",
        "\r\n",
        "explainer = shap.TreeExplainer(rf)\r\n",
        "shap_values = explainer.shap_values(X)\r\n",
        "\r\n",
        "\r\n",
        "shap.summary_plot(shap_values, X)"
      ],
      "execution_count": 314,
      "outputs": [
        {
          "output_type": "display_data",
          "data": {
            "image/png": "[encoded data removed]",
            "text/plain": [
              "<Figure size 576x424.8 with 1 Axes>"
            ]
          },
          "metadata": {
            "tags": [],
            "needs_background": "light"
          }
        }
      ]
    },
    {
      "cell_type": "code",
      "metadata": {
        "id": "kAl5wlyyK_ep"
      },
      "source": [
        "# shap.dependence_plot('alcohol', shap_values, X)"
      ],
      "execution_count": 315,
      "outputs": []
    },
    {
      "cell_type": "markdown",
      "metadata": {
        "id": "4Esyp8kngi43"
      },
      "source": [
        "# XGBOOST"
      ]
    },
    {
      "cell_type": "markdown",
      "metadata": {
        "id": "RxkE6fZD2W7s"
      },
      "source": [
        "standard deviation of absolute error (STD of AE)"
      ]
    },
    {
      "cell_type": "code",
      "metadata": {
        "id": "ez33XYl5gmoi",
        "colab": {
          "base_uri": "https://localhost:8080/"
        },
        "outputId": "41e9e442-b845-4510-c285-8b7f4675518d"
      },
      "source": [
        "# https://www.kaggle.com/alexisbcook/xgboost\r\n",
        "\r\n",
        "xgb = XGBClassifier(n_estimators=1000, \r\n",
        "                    learning_rate=0.1,\r\n",
        "                    max_depth=4, \r\n",
        "                    early_stopping_rounds=5,\r\n",
        "                    subsample=0.8,\r\n",
        "                    #colsample_bytree = 0.4,\r\n",
        "                    #gamma=1\r\n",
        "                    )  \r\n",
        "xgb.fit(X_train, y_train)\r\n",
        "y_pred = xgb.predict(X_test)\r\n",
        "# print(accuracy_score(y_test,y_pred))\r\n",
        "\r\n",
        "print(classification_report(y_test, y_pred))"
      ],
      "execution_count": 316,
      "outputs": [
        {
          "output_type": "stream",
          "text": [
            "              precision    recall  f1-score   support\n",
            "\n",
            "           0       0.95      0.96      0.95       273\n",
            "           1       0.76      0.68      0.72        47\n",
            "\n",
            "    accuracy                           0.92       320\n",
            "   macro avg       0.85      0.82      0.84       320\n",
            "weighted avg       0.92      0.92      0.92       320\n",
            "\n"
          ],
          "name": "stdout"
        }
      ]
    },
    {
      "cell_type": "code",
      "metadata": {
        "colab": {
          "base_uri": "https://localhost:8080/"
        },
        "id": "-_KeGYmmHZPB",
        "outputId": "a7501b08-26c4-41d7-fc95-bed9853f6b53"
      },
      "source": [
        "f1 = f1_score(y_test, y_pred)\r\n",
        "print('F1 score: %f' % f1)"
      ],
      "execution_count": 317,
      "outputs": [
        {
          "output_type": "stream",
          "text": [
            "F1 score: 0.719101\n"
          ],
          "name": "stdout"
        }
      ]
    },
    {
      "cell_type": "code",
      "metadata": {
        "id": "5mVsVMLu3NIj",
        "colab": {
          "base_uri": "https://localhost:8080/"
        },
        "outputId": "01982ad0-330f-4bcc-d83d-523e88b2ae9e"
      },
      "source": [
        "print(xgb.feature_importances_)"
      ],
      "execution_count": 318,
      "outputs": [
        {
          "output_type": "stream",
          "text": [
            "[0.07431623 0.09620414 0.07065256 0.0680801  0.07144342 0.08602658\n",
            " 0.08729184 0.05966264 0.0660698  0.12157638 0.19867633]\n"
          ],
          "name": "stdout"
        }
      ]
    },
    {
      "cell_type": "code",
      "metadata": {
        "id": "09NOWhJD3XC4",
        "colab": {
          "base_uri": "https://localhost:8080/",
          "height": 0
        },
        "outputId": "29a9a570-bc52-423b-9384-8dcf7d49a512"
      },
      "source": [
        "# plot\r\n",
        "plt.bar(range(len(xgb.feature_importances_)), xgb.feature_importances_)\r\n",
        "plt.show()"
      ],
      "execution_count": 319,
      "outputs": [
        {
          "output_type": "display_data",
          "data": {
            "image/png": "[encoded data removed]",
            "text/plain": [
              "<Figure size 432x288 with 1 Axes>"
            ]
          },
          "metadata": {
            "tags": [],
            "needs_background": "light"
          }
        }
      ]
    },
    {
      "cell_type": "code",
      "metadata": {
        "id": "MLHeigT13dCj"
      },
      "source": [
        "# plot_importance(xgb)\r\n",
        "# plt.show()"
      ],
      "execution_count": 320,
      "outputs": []
    },
    {
      "cell_type": "code",
      "metadata": {
        "id": "lBzWP6YYzF7D"
      },
      "source": [
        "# # use feature importance for feature selection\r\n",
        "# from numpy import loadtxt\r\n",
        "# from numpy import sort\r\n",
        "# from sklearn.metrics import accuracy_score\r\n",
        "# from sklearn.feature_selection import SelectFromModel\r\n",
        "\r\n",
        "\r\n",
        "# predictions = [round(value) for value in y_pred]\r\n",
        "# accuracy = accuracy_score(y_test, predictions)\r\n",
        "# print(\"Accuracy: %.2f%%\" % (accuracy * 100.0))\r\n",
        "# # Fit model using each importance as a threshold\r\n",
        "# thresholds = sort(xgb.feature_importances_)\r\n",
        "# for thresh in thresholds:\r\n",
        "# \t# select features using threshold\r\n",
        "# \tselection = SelectFromModel(xgb, threshold=thresh, prefit=True)\r\n",
        "# \tselect_X_train = selection.transform(X_train)\r\n",
        "# \t# train model\r\n",
        "# \tselection_model = XGBClassifier()\r\n",
        "# \tselection_model.fit(select_X_train, y_train)\r\n",
        "# \t# eval model\r\n",
        "# \tselect_X_test = selection.transform(X_test)\r\n",
        "# \ty_pred = selection_model.predict(select_X_test)\r\n",
        "# \tpredictions = [round(value) for value in y_pred]\r\n",
        "# \taccuracy = accuracy_score(y_test, predictions)\r\n",
        "# \tprint(\"Thresh=%.3f, n=%d, Accuracy: %.2f%%\" % (thresh, select_X_train.shape[1], accuracy*100.0))"
      ],
      "execution_count": 321,
      "outputs": []
    },
    {
      "cell_type": "markdown",
      "metadata": {
        "id": "d5ALcs7UE0Y3"
      },
      "source": [
        "# Conclusion. What characteristics make the wine 'good'?"
      ]
    },
    {
      "cell_type": "markdown",
      "metadata": {
        "id": "QhyCGZWnFC9o"
      },
      "source": [
        ""
      ]
    },
    {
      "cell_type": "markdown",
      "metadata": {
        "id": "JEKRp-0KROjN"
      },
      "source": [
        "# Notes:"
      ]
    },
    {
      "cell_type": "markdown",
      "metadata": {
        "id": "IplKd0wIRUqM"
      },
      "source": [
        "boosted stumps\r\n",
        "Hyperparameter tuning visiems\r\n",
        "Models append: listą pasirašyti\r\n",
        "Balansuoti: pasverti, oversamplinti, smote\r\n",
        "Sunormalizuoti data: 0 vidurkis, 1 deviation\r\n",
        "Pagamint polinomial interactions: polinomial proprocessor\r\n",
        "Feature importance: Shap values\r\n",
        "Pradžioj pasižiūrėti feature importance su RF\r\n",
        "F1 score - to go.\r\n",
        "Parodyti rezultatų gerėjimą.\r\n",
        "\r\n",
        "\r\n",
        "To do:\r\n",
        "Run all models on Standardized, Normalized and Raw data\r\n",
        "\r\n",
        "https://machinelearningmastery.com/\r\n",
        "\r\n"
      ]
    },
    {
      "cell_type": "markdown",
      "metadata": {
        "id": "N07Mi4qxltQo"
      },
      "source": [
        "Requirements\n",
        "    Do exploratory data analysis.\n",
        "    Do feature engineering.\n",
        "    Do feature preprocessing.\n",
        "    Build a machine learning model.\n",
        "    Explore your model results.\n",
        "Bonus Points\n",
        "    Move your final model to a Python module.\n",
        "    Compare multiple machine learning models.\n",
        "    Do hyperparameter tuning.\n",
        "    Deploy the model on your own machine.\n",
        "    Deploy the model on external service."
      ]
    }
  ]
}