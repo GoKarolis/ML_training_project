{
  "nbformat": 4,
  "nbformat_minor": 0,
  "metadata": {
    "kernelspec": {
      "name": "python3",
      "display_name": "Python 3",
      "language": "python"
    },
    "language_info": {
      "name": "python",
      "version": "3.7.6",
      "mimetype": "text/x-python",
      "codemirror_mode": {
        "name": "ipython",
        "version": 3
      },
      "pygments_lexer": "ipython3",
      "nbconvert_exporter": "python",
      "file_extension": ".py"
    },
    "colab": {
      "name": "kg-red-wine-analysis.ipynb",
      "provenance": [],
      "collapsed_sections": [
        "W4dYDNacltQe"
      ],
      "include_colab_link": true
    }
  },
  "cells": [
    {
      "cell_type": "markdown",
      "metadata": {
        "id": "view-in-github",
        "colab_type": "text"
      },
      "source": [
        "<a href=\"https://colab.research.google.com/github/GoKarolis/ML_training_project/blob/main/kg_red_wine_analysis.ipynb\" target=\"_parent\"><img src=\"https://colab.research.google.com/assets/colab-badge.svg\" alt=\"Open In Colab\"/></a>"
      ]
    },
    {
      "cell_type": "markdown",
      "metadata": {
        "id": "r4Kwcx1o-wNY"
      },
      "source": [
        "# Red Wine Quality \r\n",
        "\r\n",
        "\r\n",
        "---\r\n",
        "\r\n",
        "\r\n",
        "by GoKarolis\r\n",
        "\r\n",
        "\r\n",
        "\r\n",
        "\r\n"
      ]
    },
    {
      "cell_type": "markdown",
      "metadata": {
        "id": "8GwUQdJa_F_B"
      },
      "source": [
        "***Inspiration:***\r\n",
        "\r\n",
        "All wines are different, but physiochemical properties data and machine learning can help to determine a 'good' wine!\r\n",
        "\r\n",
        "\r\n",
        "***Goal:***\r\n",
        "\r\n",
        "\r\n",
        "*   Create a ML model which finds out the quality of wine\r\n",
        "\r\n",
        "\r\n",
        "***Raw dataset can be found here:***\r\n",
        "\r\n",
        "https://www.kaggle.com/uciml/red-wine-quality-cortez-et-al-2009"
      ]
    },
    {
      "cell_type": "markdown",
      "metadata": {
        "id": "UwgP3LLoBzS7"
      },
      "source": [
        "# Init"
      ]
    },
    {
      "cell_type": "code",
      "metadata": {
        "id": "ayuPXa_RCOew"
      },
      "source": [
        "%matplotlib inline"
      ],
      "execution_count": 1,
      "outputs": []
    },
    {
      "cell_type": "code",
      "metadata": {
        "colab": {
          "base_uri": "https://localhost:8080/"
        },
        "id": "jof7nxE1Ov2I",
        "outputId": "eb2a5e32-b8d2-49c6-8585-aa9c9a9026b3"
      },
      "source": [
        "!pip install shap\r\n",
        "!pip install eli5"
      ],
      "execution_count": 2,
      "outputs": [
        {
          "output_type": "stream",
          "text": [
            "Requirement already satisfied: shap in /usr/local/lib/python3.6/dist-packages (0.38.1)\n",
            "Requirement already satisfied: numba in /usr/local/lib/python3.6/dist-packages (from shap) (0.48.0)\n",
            "Requirement already satisfied: slicer==0.0.7 in /usr/local/lib/python3.6/dist-packages (from shap) (0.0.7)\n",
            "Requirement already satisfied: pandas in /usr/local/lib/python3.6/dist-packages (from shap) (1.1.5)\n",
            "Requirement already satisfied: cloudpickle in /usr/local/lib/python3.6/dist-packages (from shap) (1.3.0)\n",
            "Requirement already satisfied: tqdm>4.25.0 in /usr/local/lib/python3.6/dist-packages (from shap) (4.41.1)\n",
            "Requirement already satisfied: scikit-learn in /usr/local/lib/python3.6/dist-packages (from shap) (0.22.2.post1)\n",
            "Requirement already satisfied: scipy in /usr/local/lib/python3.6/dist-packages (from shap) (1.4.1)\n",
            "Requirement already satisfied: numpy in /usr/local/lib/python3.6/dist-packages (from shap) (1.19.5)\n",
            "Requirement already satisfied: llvmlite<0.32.0,>=0.31.0dev0 in /usr/local/lib/python3.6/dist-packages (from numba->shap) (0.31.0)\n",
            "Requirement already satisfied: setuptools in /usr/local/lib/python3.6/dist-packages (from numba->shap) (51.3.3)\n",
            "Requirement already satisfied: pytz>=2017.2 in /usr/local/lib/python3.6/dist-packages (from pandas->shap) (2018.9)\n",
            "Requirement already satisfied: python-dateutil>=2.7.3 in /usr/local/lib/python3.6/dist-packages (from pandas->shap) (2.8.1)\n",
            "Requirement already satisfied: joblib>=0.11 in /usr/local/lib/python3.6/dist-packages (from scikit-learn->shap) (1.0.0)\n",
            "Requirement already satisfied: six>=1.5 in /usr/local/lib/python3.6/dist-packages (from python-dateutil>=2.7.3->pandas->shap) (1.15.0)\n",
            "Requirement already satisfied: eli5 in /usr/local/lib/python3.6/dist-packages (0.10.1)\n",
            "Requirement already satisfied: six in /usr/local/lib/python3.6/dist-packages (from eli5) (1.15.0)\n",
            "Requirement already satisfied: scipy in /usr/local/lib/python3.6/dist-packages (from eli5) (1.4.1)\n",
            "Requirement already satisfied: tabulate>=0.7.7 in /usr/local/lib/python3.6/dist-packages (from eli5) (0.8.7)\n",
            "Requirement already satisfied: scikit-learn>=0.18 in /usr/local/lib/python3.6/dist-packages (from eli5) (0.22.2.post1)\n",
            "Requirement already satisfied: jinja2 in /usr/local/lib/python3.6/dist-packages (from eli5) (2.11.2)\n",
            "Requirement already satisfied: graphviz in /usr/local/lib/python3.6/dist-packages (from eli5) (0.10.1)\n",
            "Requirement already satisfied: attrs>16.0.0 in /usr/local/lib/python3.6/dist-packages (from eli5) (20.3.0)\n",
            "Requirement already satisfied: numpy>=1.9.0 in /usr/local/lib/python3.6/dist-packages (from eli5) (1.19.5)\n",
            "Requirement already satisfied: joblib>=0.11 in /usr/local/lib/python3.6/dist-packages (from scikit-learn>=0.18->eli5) (1.0.0)\n",
            "Requirement already satisfied: MarkupSafe>=0.23 in /usr/local/lib/python3.6/dist-packages (from jinja2->eli5) (1.1.1)\n"
          ],
          "name": "stdout"
        }
      ]
    },
    {
      "cell_type": "code",
      "metadata": {
        "_uuid": "8f2839f25d086af736a60e9eeb907d3b93b6e0e5",
        "_cell_guid": "b1076dfc-b9ad-4769-8c92-a6c4dae69d19",
        "trusted": true,
        "id": "j9FCLJ73ltQV",
        "colab": {
          "base_uri": "https://localhost:8080/"
        },
        "outputId": "2cd5b5bf-8d68-4734-d921-04963efaf928"
      },
      "source": [
        "import os\n",
        "import numpy as np\n",
        "import pandas as pd\n",
        "from pandas import DataFrame\n",
        "import matplotlib.pyplot as plt\n",
        "import seaborn as sns\n",
        "from xgboost import XGBClassifier\n",
        "from xgboost import plot_importance\n",
        "from sklearn.model_selection import train_test_split\n",
        "from sklearn.linear_model import LogisticRegression\n",
        "from sklearn.ensemble import RandomForestClassifier\n",
        "from sklearn.preprocessing import LabelEncoder\n",
        "from sklearn.neighbors import KNeighborsClassifier\n",
        "from sklearn.tree import DecisionTreeClassifier\n",
        "from sklearn.naive_bayes import GaussianNB\n",
        "from sklearn.discriminant_analysis import LinearDiscriminantAnalysis\n",
        "from sklearn.feature_selection import SelectFromModel\n",
        "from sklearn.svm import SVC\n",
        "from sklearn.model_selection import cross_val_score\n",
        "from sklearn.model_selection import StratifiedKFold\n",
        "from sklearn.model_selection import GridSearchCV\n",
        "from sklearn import metrics\n",
        "from sklearn.metrics import classification_report\n",
        "from sklearn.metrics import mean_absolute_error\n",
        "from sklearn.preprocessing import MinMaxScaler\n",
        "from sklearn.preprocessing import StandardScaler\n",
        "from sklearn.preprocessing import PolynomialFeatures\n",
        "from sklearn.metrics import f1_score\n",
        "import eli5\n",
        "from eli5.sklearn import PermutationImportance\n",
        "from numpy import mean\n",
        "from sklearn.datasets import make_classification\n",
        "from sklearn.model_selection import RepeatedStratifiedKFold\n",
        "from imblearn.pipeline import Pipeline\n",
        "from imblearn.over_sampling import SMOTE\n",
        "import warnings\n",
        "warnings.simplefilter(action='ignore', category=FutureWarning)"
      ],
      "execution_count": 3,
      "outputs": [
        {
          "output_type": "stream",
          "text": [
            "/usr/local/lib/python3.6/dist-packages/sklearn/utils/deprecation.py:144: FutureWarning: The sklearn.metrics.scorer module is  deprecated in version 0.22 and will be removed in version 0.24. The corresponding classes / functions should instead be imported from sklearn.metrics. Anything that cannot be imported from sklearn.metrics is now part of the private API.\n",
            "  warnings.warn(message, FutureWarning)\n",
            "/usr/local/lib/python3.6/dist-packages/sklearn/utils/deprecation.py:144: FutureWarning: The sklearn.feature_selection.base module is  deprecated in version 0.22 and will be removed in version 0.24. The corresponding classes / functions should instead be imported from sklearn.feature_selection. Anything that cannot be imported from sklearn.feature_selection is now part of the private API.\n",
            "  warnings.warn(message, FutureWarning)\n",
            "/usr/local/lib/python3.6/dist-packages/sklearn/externals/six.py:31: FutureWarning: The module is deprecated in version 0.21 and will be removed in version 0.23 since we've dropped support for Python 2.7. Please rely on the official version of six (https://pypi.org/project/six/).\n",
            "  \"(https://pypi.org/project/six/).\", FutureWarning)\n",
            "/usr/local/lib/python3.6/dist-packages/sklearn/utils/deprecation.py:144: FutureWarning: The sklearn.neighbors.base module is  deprecated in version 0.22 and will be removed in version 0.24. The corresponding classes / functions should instead be imported from sklearn.neighbors. Anything that cannot be imported from sklearn.neighbors is now part of the private API.\n",
            "  warnings.warn(message, FutureWarning)\n"
          ],
          "name": "stderr"
        }
      ]
    },
    {
      "cell_type": "code",
      "metadata": {
        "id": "sXCn7nzf1XFE"
      },
      "source": [
        "# Set Seaborn colors\r\n",
        "sns.set_palette(\"Set2\")"
      ],
      "execution_count": 4,
      "outputs": []
    },
    {
      "cell_type": "code",
      "metadata": {
        "colab": {
          "base_uri": "https://localhost:8080/"
        },
        "id": "OvbG9t-vm549",
        "outputId": "f26bc8ba-e915-4e13-f803-31c1ffdb7f80"
      },
      "source": [
        "from google.colab import drive\n",
        "drive.mount('/content/drive')"
      ],
      "execution_count": 5,
      "outputs": [
        {
          "output_type": "stream",
          "text": [
            "Drive already mounted at /content/drive; to attempt to forcibly remount, call drive.mount(\"/content/drive\", force_remount=True).\n"
          ],
          "name": "stdout"
        }
      ]
    },
    {
      "cell_type": "code",
      "metadata": {
        "trusted": true,
        "id": "6XbaX4cnltQd",
        "colab": {
          "base_uri": "https://localhost:8080/"
        },
        "outputId": "98af96b0-3d2e-4cc6-b642-a271a1020933"
      },
      "source": [
        "# wine_data == data\n",
        "%time  data = pd.read_csv('/content/drive/MyDrive/Colab_Notebooks/winequality-red.csv')"
      ],
      "execution_count": 6,
      "outputs": [
        {
          "output_type": "stream",
          "text": [
            "CPU times: user 15.1 ms, sys: 1.65 ms, total: 16.8 ms\n",
            "Wall time: 19 ms\n"
          ],
          "name": "stdout"
        }
      ]
    },
    {
      "cell_type": "markdown",
      "metadata": {
        "id": "-aIEWsKwltQe"
      },
      "source": [
        "# **1. Exploratory data analysis**"
      ]
    },
    {
      "cell_type": "markdown",
      "metadata": {
        "id": "W4dYDNacltQe"
      },
      "source": [
        "# 1.1. Shape"
      ]
    },
    {
      "cell_type": "code",
      "metadata": {
        "trusted": true,
        "id": "E4UwS2AbltQe",
        "colab": {
          "base_uri": "https://localhost:8080/"
        },
        "outputId": "ecfca149-e169-49ca-baad-b93123a0c9fc"
      },
      "source": [
        "data.shape"
      ],
      "execution_count": 7,
      "outputs": [
        {
          "output_type": "execute_result",
          "data": {
            "text/plain": [
              "(1599, 12)"
            ]
          },
          "metadata": {
            "tags": []
          },
          "execution_count": 7
        }
      ]
    },
    {
      "cell_type": "markdown",
      "metadata": {
        "id": "2NVKS3xCltQf"
      },
      "source": [
        "# 1.2. Descriptive statistics"
      ]
    },
    {
      "cell_type": "code",
      "metadata": {
        "trusted": true,
        "id": "KN8Zb2O1ltQg",
        "colab": {
          "base_uri": "https://localhost:8080/"
        },
        "outputId": "25d744f7-1bb5-467d-a9ff-9175bb08a5fa"
      },
      "source": [
        "data.isnull().sum()\r\n",
        "#data.isna().sum() "
      ],
      "execution_count": 8,
      "outputs": [
        {
          "output_type": "execute_result",
          "data": {
            "text/plain": [
              "fixed acidity           0\n",
              "volatile acidity        0\n",
              "citric acid             0\n",
              "residual sugar          0\n",
              "chlorides               0\n",
              "free sulfur dioxide     0\n",
              "total sulfur dioxide    0\n",
              "density                 0\n",
              "pH                      0\n",
              "sulphates               0\n",
              "alcohol                 0\n",
              "quality                 0\n",
              "dtype: int64"
            ]
          },
          "metadata": {
            "tags": []
          },
          "execution_count": 8
        }
      ]
    },
    {
      "cell_type": "code",
      "metadata": {
        "trusted": true,
        "id": "cJDgaI_lltQf",
        "colab": {
          "base_uri": "https://localhost:8080/",
          "height": 347
        },
        "outputId": "360e804a-2a71-4ece-f9e6-82e3d4db94be"
      },
      "source": [
        "data.head(10)"
      ],
      "execution_count": 9,
      "outputs": [
        {
          "output_type": "execute_result",
          "data": {
            "text/html": [
              "<div>\n",
              "<style scoped>\n",
              "    .dataframe tbody tr th:only-of-type {\n",
              "        vertical-align: middle;\n",
              "    }\n",
              "\n",
              "    .dataframe tbody tr th {\n",
              "        vertical-align: top;\n",
              "    }\n",
              "\n",
              "    .dataframe thead th {\n",
              "        text-align: right;\n",
              "    }\n",
              "</style>\n",
              "<table border=\"1\" class=\"dataframe\">\n",
              "  <thead>\n",
              "    <tr style=\"text-align: right;\">\n",
              "      <th></th>\n",
              "      <th>fixed acidity</th>\n",
              "      <th>volatile acidity</th>\n",
              "      <th>citric acid</th>\n",
              "      <th>residual sugar</th>\n",
              "      <th>chlorides</th>\n",
              "      <th>free sulfur dioxide</th>\n",
              "      <th>total sulfur dioxide</th>\n",
              "      <th>density</th>\n",
              "      <th>pH</th>\n",
              "      <th>sulphates</th>\n",
              "      <th>alcohol</th>\n",
              "      <th>quality</th>\n",
              "    </tr>\n",
              "  </thead>\n",
              "  <tbody>\n",
              "    <tr>\n",
              "      <th>0</th>\n",
              "      <td>7.4</td>\n",
              "      <td>0.70</td>\n",
              "      <td>0.00</td>\n",
              "      <td>1.9</td>\n",
              "      <td>0.076</td>\n",
              "      <td>11.0</td>\n",
              "      <td>34.0</td>\n",
              "      <td>0.9978</td>\n",
              "      <td>3.51</td>\n",
              "      <td>0.56</td>\n",
              "      <td>9.4</td>\n",
              "      <td>5</td>\n",
              "    </tr>\n",
              "    <tr>\n",
              "      <th>1</th>\n",
              "      <td>7.8</td>\n",
              "      <td>0.88</td>\n",
              "      <td>0.00</td>\n",
              "      <td>2.6</td>\n",
              "      <td>0.098</td>\n",
              "      <td>25.0</td>\n",
              "      <td>67.0</td>\n",
              "      <td>0.9968</td>\n",
              "      <td>3.20</td>\n",
              "      <td>0.68</td>\n",
              "      <td>9.8</td>\n",
              "      <td>5</td>\n",
              "    </tr>\n",
              "    <tr>\n",
              "      <th>2</th>\n",
              "      <td>7.8</td>\n",
              "      <td>0.76</td>\n",
              "      <td>0.04</td>\n",
              "      <td>2.3</td>\n",
              "      <td>0.092</td>\n",
              "      <td>15.0</td>\n",
              "      <td>54.0</td>\n",
              "      <td>0.9970</td>\n",
              "      <td>3.26</td>\n",
              "      <td>0.65</td>\n",
              "      <td>9.8</td>\n",
              "      <td>5</td>\n",
              "    </tr>\n",
              "    <tr>\n",
              "      <th>3</th>\n",
              "      <td>11.2</td>\n",
              "      <td>0.28</td>\n",
              "      <td>0.56</td>\n",
              "      <td>1.9</td>\n",
              "      <td>0.075</td>\n",
              "      <td>17.0</td>\n",
              "      <td>60.0</td>\n",
              "      <td>0.9980</td>\n",
              "      <td>3.16</td>\n",
              "      <td>0.58</td>\n",
              "      <td>9.8</td>\n",
              "      <td>6</td>\n",
              "    </tr>\n",
              "    <tr>\n",
              "      <th>4</th>\n",
              "      <td>7.4</td>\n",
              "      <td>0.70</td>\n",
              "      <td>0.00</td>\n",
              "      <td>1.9</td>\n",
              "      <td>0.076</td>\n",
              "      <td>11.0</td>\n",
              "      <td>34.0</td>\n",
              "      <td>0.9978</td>\n",
              "      <td>3.51</td>\n",
              "      <td>0.56</td>\n",
              "      <td>9.4</td>\n",
              "      <td>5</td>\n",
              "    </tr>\n",
              "    <tr>\n",
              "      <th>5</th>\n",
              "      <td>7.4</td>\n",
              "      <td>0.66</td>\n",
              "      <td>0.00</td>\n",
              "      <td>1.8</td>\n",
              "      <td>0.075</td>\n",
              "      <td>13.0</td>\n",
              "      <td>40.0</td>\n",
              "      <td>0.9978</td>\n",
              "      <td>3.51</td>\n",
              "      <td>0.56</td>\n",
              "      <td>9.4</td>\n",
              "      <td>5</td>\n",
              "    </tr>\n",
              "    <tr>\n",
              "      <th>6</th>\n",
              "      <td>7.9</td>\n",
              "      <td>0.60</td>\n",
              "      <td>0.06</td>\n",
              "      <td>1.6</td>\n",
              "      <td>0.069</td>\n",
              "      <td>15.0</td>\n",
              "      <td>59.0</td>\n",
              "      <td>0.9964</td>\n",
              "      <td>3.30</td>\n",
              "      <td>0.46</td>\n",
              "      <td>9.4</td>\n",
              "      <td>5</td>\n",
              "    </tr>\n",
              "    <tr>\n",
              "      <th>7</th>\n",
              "      <td>7.3</td>\n",
              "      <td>0.65</td>\n",
              "      <td>0.00</td>\n",
              "      <td>1.2</td>\n",
              "      <td>0.065</td>\n",
              "      <td>15.0</td>\n",
              "      <td>21.0</td>\n",
              "      <td>0.9946</td>\n",
              "      <td>3.39</td>\n",
              "      <td>0.47</td>\n",
              "      <td>10.0</td>\n",
              "      <td>7</td>\n",
              "    </tr>\n",
              "    <tr>\n",
              "      <th>8</th>\n",
              "      <td>7.8</td>\n",
              "      <td>0.58</td>\n",
              "      <td>0.02</td>\n",
              "      <td>2.0</td>\n",
              "      <td>0.073</td>\n",
              "      <td>9.0</td>\n",
              "      <td>18.0</td>\n",
              "      <td>0.9968</td>\n",
              "      <td>3.36</td>\n",
              "      <td>0.57</td>\n",
              "      <td>9.5</td>\n",
              "      <td>7</td>\n",
              "    </tr>\n",
              "    <tr>\n",
              "      <th>9</th>\n",
              "      <td>7.5</td>\n",
              "      <td>0.50</td>\n",
              "      <td>0.36</td>\n",
              "      <td>6.1</td>\n",
              "      <td>0.071</td>\n",
              "      <td>17.0</td>\n",
              "      <td>102.0</td>\n",
              "      <td>0.9978</td>\n",
              "      <td>3.35</td>\n",
              "      <td>0.80</td>\n",
              "      <td>10.5</td>\n",
              "      <td>5</td>\n",
              "    </tr>\n",
              "  </tbody>\n",
              "</table>\n",
              "</div>"
            ],
            "text/plain": [
              "   fixed acidity  volatile acidity  citric acid  ...  sulphates  alcohol  quality\n",
              "0            7.4              0.70         0.00  ...       0.56      9.4        5\n",
              "1            7.8              0.88         0.00  ...       0.68      9.8        5\n",
              "2            7.8              0.76         0.04  ...       0.65      9.8        5\n",
              "3           11.2              0.28         0.56  ...       0.58      9.8        6\n",
              "4            7.4              0.70         0.00  ...       0.56      9.4        5\n",
              "5            7.4              0.66         0.00  ...       0.56      9.4        5\n",
              "6            7.9              0.60         0.06  ...       0.46      9.4        5\n",
              "7            7.3              0.65         0.00  ...       0.47     10.0        7\n",
              "8            7.8              0.58         0.02  ...       0.57      9.5        7\n",
              "9            7.5              0.50         0.36  ...       0.80     10.5        5\n",
              "\n",
              "[10 rows x 12 columns]"
            ]
          },
          "metadata": {
            "tags": []
          },
          "execution_count": 9
        }
      ]
    },
    {
      "cell_type": "code",
      "metadata": {
        "trusted": true,
        "id": "2cijK8jAltQg",
        "colab": {
          "base_uri": "https://localhost:8080/",
          "height": 287
        },
        "outputId": "b771cd8e-72f6-4f75-93fb-d16520de9415"
      },
      "source": [
        "data.describe()"
      ],
      "execution_count": 10,
      "outputs": [
        {
          "output_type": "execute_result",
          "data": {
            "text/html": [
              "<div>\n",
              "<style scoped>\n",
              "    .dataframe tbody tr th:only-of-type {\n",
              "        vertical-align: middle;\n",
              "    }\n",
              "\n",
              "    .dataframe tbody tr th {\n",
              "        vertical-align: top;\n",
              "    }\n",
              "\n",
              "    .dataframe thead th {\n",
              "        text-align: right;\n",
              "    }\n",
              "</style>\n",
              "<table border=\"1\" class=\"dataframe\">\n",
              "  <thead>\n",
              "    <tr style=\"text-align: right;\">\n",
              "      <th></th>\n",
              "      <th>fixed acidity</th>\n",
              "      <th>volatile acidity</th>\n",
              "      <th>citric acid</th>\n",
              "      <th>residual sugar</th>\n",
              "      <th>chlorides</th>\n",
              "      <th>free sulfur dioxide</th>\n",
              "      <th>total sulfur dioxide</th>\n",
              "      <th>density</th>\n",
              "      <th>pH</th>\n",
              "      <th>sulphates</th>\n",
              "      <th>alcohol</th>\n",
              "      <th>quality</th>\n",
              "    </tr>\n",
              "  </thead>\n",
              "  <tbody>\n",
              "    <tr>\n",
              "      <th>count</th>\n",
              "      <td>1599.000000</td>\n",
              "      <td>1599.000000</td>\n",
              "      <td>1599.000000</td>\n",
              "      <td>1599.000000</td>\n",
              "      <td>1599.000000</td>\n",
              "      <td>1599.000000</td>\n",
              "      <td>1599.000000</td>\n",
              "      <td>1599.000000</td>\n",
              "      <td>1599.000000</td>\n",
              "      <td>1599.000000</td>\n",
              "      <td>1599.000000</td>\n",
              "      <td>1599.000000</td>\n",
              "    </tr>\n",
              "    <tr>\n",
              "      <th>mean</th>\n",
              "      <td>8.319637</td>\n",
              "      <td>0.527821</td>\n",
              "      <td>0.270976</td>\n",
              "      <td>2.538806</td>\n",
              "      <td>0.087467</td>\n",
              "      <td>15.874922</td>\n",
              "      <td>46.467792</td>\n",
              "      <td>0.996747</td>\n",
              "      <td>3.311113</td>\n",
              "      <td>0.658149</td>\n",
              "      <td>10.422983</td>\n",
              "      <td>5.636023</td>\n",
              "    </tr>\n",
              "    <tr>\n",
              "      <th>std</th>\n",
              "      <td>1.741096</td>\n",
              "      <td>0.179060</td>\n",
              "      <td>0.194801</td>\n",
              "      <td>1.409928</td>\n",
              "      <td>0.047065</td>\n",
              "      <td>10.460157</td>\n",
              "      <td>32.895324</td>\n",
              "      <td>0.001887</td>\n",
              "      <td>0.154386</td>\n",
              "      <td>0.169507</td>\n",
              "      <td>1.065668</td>\n",
              "      <td>0.807569</td>\n",
              "    </tr>\n",
              "    <tr>\n",
              "      <th>min</th>\n",
              "      <td>4.600000</td>\n",
              "      <td>0.120000</td>\n",
              "      <td>0.000000</td>\n",
              "      <td>0.900000</td>\n",
              "      <td>0.012000</td>\n",
              "      <td>1.000000</td>\n",
              "      <td>6.000000</td>\n",
              "      <td>0.990070</td>\n",
              "      <td>2.740000</td>\n",
              "      <td>0.330000</td>\n",
              "      <td>8.400000</td>\n",
              "      <td>3.000000</td>\n",
              "    </tr>\n",
              "    <tr>\n",
              "      <th>25%</th>\n",
              "      <td>7.100000</td>\n",
              "      <td>0.390000</td>\n",
              "      <td>0.090000</td>\n",
              "      <td>1.900000</td>\n",
              "      <td>0.070000</td>\n",
              "      <td>7.000000</td>\n",
              "      <td>22.000000</td>\n",
              "      <td>0.995600</td>\n",
              "      <td>3.210000</td>\n",
              "      <td>0.550000</td>\n",
              "      <td>9.500000</td>\n",
              "      <td>5.000000</td>\n",
              "    </tr>\n",
              "    <tr>\n",
              "      <th>50%</th>\n",
              "      <td>7.900000</td>\n",
              "      <td>0.520000</td>\n",
              "      <td>0.260000</td>\n",
              "      <td>2.200000</td>\n",
              "      <td>0.079000</td>\n",
              "      <td>14.000000</td>\n",
              "      <td>38.000000</td>\n",
              "      <td>0.996750</td>\n",
              "      <td>3.310000</td>\n",
              "      <td>0.620000</td>\n",
              "      <td>10.200000</td>\n",
              "      <td>6.000000</td>\n",
              "    </tr>\n",
              "    <tr>\n",
              "      <th>75%</th>\n",
              "      <td>9.200000</td>\n",
              "      <td>0.640000</td>\n",
              "      <td>0.420000</td>\n",
              "      <td>2.600000</td>\n",
              "      <td>0.090000</td>\n",
              "      <td>21.000000</td>\n",
              "      <td>62.000000</td>\n",
              "      <td>0.997835</td>\n",
              "      <td>3.400000</td>\n",
              "      <td>0.730000</td>\n",
              "      <td>11.100000</td>\n",
              "      <td>6.000000</td>\n",
              "    </tr>\n",
              "    <tr>\n",
              "      <th>max</th>\n",
              "      <td>15.900000</td>\n",
              "      <td>1.580000</td>\n",
              "      <td>1.000000</td>\n",
              "      <td>15.500000</td>\n",
              "      <td>0.611000</td>\n",
              "      <td>72.000000</td>\n",
              "      <td>289.000000</td>\n",
              "      <td>1.003690</td>\n",
              "      <td>4.010000</td>\n",
              "      <td>2.000000</td>\n",
              "      <td>14.900000</td>\n",
              "      <td>8.000000</td>\n",
              "    </tr>\n",
              "  </tbody>\n",
              "</table>\n",
              "</div>"
            ],
            "text/plain": [
              "       fixed acidity  volatile acidity  ...      alcohol      quality\n",
              "count    1599.000000       1599.000000  ...  1599.000000  1599.000000\n",
              "mean        8.319637          0.527821  ...    10.422983     5.636023\n",
              "std         1.741096          0.179060  ...     1.065668     0.807569\n",
              "min         4.600000          0.120000  ...     8.400000     3.000000\n",
              "25%         7.100000          0.390000  ...     9.500000     5.000000\n",
              "50%         7.900000          0.520000  ...    10.200000     6.000000\n",
              "75%         9.200000          0.640000  ...    11.100000     6.000000\n",
              "max        15.900000          1.580000  ...    14.900000     8.000000\n",
              "\n",
              "[8 rows x 12 columns]"
            ]
          },
          "metadata": {
            "tags": []
          },
          "execution_count": 10
        }
      ]
    },
    {
      "cell_type": "markdown",
      "metadata": {
        "id": "vKnWP6JZltQh"
      },
      "source": [
        "# 1.3. Data types and more information about the data"
      ]
    },
    {
      "cell_type": "code",
      "metadata": {
        "trusted": true,
        "id": "QO3meiwkltQh",
        "colab": {
          "base_uri": "https://localhost:8080/"
        },
        "outputId": "f34bc131-bbcb-4a20-c1c1-fecb3840c50e"
      },
      "source": [
        "data.dtypes"
      ],
      "execution_count": 11,
      "outputs": [
        {
          "output_type": "execute_result",
          "data": {
            "text/plain": [
              "fixed acidity           float64\n",
              "volatile acidity        float64\n",
              "citric acid             float64\n",
              "residual sugar          float64\n",
              "chlorides               float64\n",
              "free sulfur dioxide     float64\n",
              "total sulfur dioxide    float64\n",
              "density                 float64\n",
              "pH                      float64\n",
              "sulphates               float64\n",
              "alcohol                 float64\n",
              "quality                   int64\n",
              "dtype: object"
            ]
          },
          "metadata": {
            "tags": []
          },
          "execution_count": 11
        }
      ]
    },
    {
      "cell_type": "code",
      "metadata": {
        "trusted": true,
        "id": "fDAmKuUSltQi",
        "colab": {
          "base_uri": "https://localhost:8080/"
        },
        "outputId": "c20c617a-351c-45a1-9548-d90a67999f6b"
      },
      "source": [
        "data['quality'].value_counts().sort_index(ascending=False)"
      ],
      "execution_count": 12,
      "outputs": [
        {
          "output_type": "execute_result",
          "data": {
            "text/plain": [
              "8     18\n",
              "7    199\n",
              "6    638\n",
              "5    681\n",
              "4     53\n",
              "3     10\n",
              "Name: quality, dtype: int64"
            ]
          },
          "metadata": {
            "tags": []
          },
          "execution_count": 12
        }
      ]
    },
    {
      "cell_type": "code",
      "metadata": {
        "colab": {
          "base_uri": "https://localhost:8080/",
          "height": 294
        },
        "id": "IJX05GnLsb9y",
        "outputId": "ed3bb37d-b53c-44cd-d260-f504896c8fe8"
      },
      "source": [
        "plt.title('Wines and their quality')\r\n",
        "sns.countplot(data['quality'])\r\n",
        "plt.show()\r\n"
      ],
      "execution_count": 13,
      "outputs": [
        {
          "output_type": "display_data",
          "data": {
            "image/png": "[encoded data removed]",
            "text/plain": [
              "<Figure size 432x288 with 1 Axes>"
            ]
          },
          "metadata": {
            "tags": [],
            "needs_background": "light"
          }
        }
      ]
    },
    {
      "cell_type": "markdown",
      "metadata": {
        "id": "uZI9CQg0St_K"
      },
      "source": [
        "# **2. Feature engineering**"
      ]
    },
    {
      "cell_type": "code",
      "metadata": {
        "id": "CHLgi77LcJ4S"
      },
      "source": [
        "# data = data.drop(['free sulfur dioxide', 'pH', 'fixed acidity'], axis=1)"
      ],
      "execution_count": 14,
      "outputs": []
    },
    {
      "cell_type": "markdown",
      "metadata": {
        "id": "6CJKIoVyltQi"
      },
      "source": [
        "# **3. Feature pre-processing**"
      ]
    },
    {
      "cell_type": "code",
      "metadata": {
        "trusted": true,
        "id": "77ZZMAWBltQi"
      },
      "source": [
        "bins = (2, 6.5, 8)\n",
        "group_names = ['bad', 'good']\n",
        "data['quality'] = pd.cut(data['quality'], bins = bins, labels = group_names)"
      ],
      "execution_count": 15,
      "outputs": []
    },
    {
      "cell_type": "code",
      "metadata": {
        "id": "opNLb9BkQqIL",
        "colab": {
          "base_uri": "https://localhost:8080/",
          "height": 347
        },
        "outputId": "a99ca1ef-95a1-47b0-ef36-1ceb0fdd05b4"
      },
      "source": [
        "plt.title('\\'Bad\\' wines and \\'Good\\' wines proportion')\r\n",
        "sns.countplot(data['quality'])\r\n",
        "plt.show()\r\n",
        "data['quality'].value_counts()"
      ],
      "execution_count": 16,
      "outputs": [
        {
          "output_type": "display_data",
          "data": {
            "image/png": "[encoded data removed]",
            "text/plain": [
              "<Figure size 432x288 with 1 Axes>"
            ]
          },
          "metadata": {
            "tags": [],
            "needs_background": "light"
          }
        },
        {
          "output_type": "execute_result",
          "data": {
            "text/plain": [
              "bad     1382\n",
              "good     217\n",
              "Name: quality, dtype: int64"
            ]
          },
          "metadata": {
            "tags": []
          },
          "execution_count": 16
        }
      ]
    },
    {
      "cell_type": "code",
      "metadata": {
        "trusted": true,
        "id": "k_mmSvK5ltQi"
      },
      "source": [
        "label_quality = LabelEncoder()\n",
        "\n",
        "data['quality'] = label_quality.fit_transform(data['quality'])\n",
        "\n",
        "x = data.drop('quality', axis = 1)\n",
        "y = data['quality']"
      ],
      "execution_count": 17,
      "outputs": []
    },
    {
      "cell_type": "markdown",
      "metadata": {
        "id": "UuGvqNScpRR7"
      },
      "source": [
        "\r\n",
        "\r\n",
        "---\r\n",
        "\r\n",
        "\r\n",
        "Permutation importance "
      ]
    },
    {
      "cell_type": "code",
      "metadata": {
        "id": "7n5jAJIG4RLe"
      },
      "source": [
        "#Permutation importance \r\n",
        "#Why: https://explained.ai/rf-importance/\r\n",
        "#Alternative: rfpimp\r\n",
        "\r\n",
        "\r\n",
        "PI_data = data.copy()\r\n",
        "PI_y = (PI_data['quality'] == \"good\")\r\n",
        "feature_names = [i for i in PI_data.columns if PI_data[i].dtype in [np.int64]]\r\n",
        "PI_x = data[feature_names]\r\n",
        "PI_train_x, PI_val_x, PI_train_y, PI_val_y = train_test_split(x, y, random_state=1)\r\n",
        "my_model = RandomForestClassifier(n_estimators=1000,\r\n",
        "                                  random_state=0).fit(PI_train_x, PI_train_y)"
      ],
      "execution_count": 18,
      "outputs": []
    },
    {
      "cell_type": "code",
      "metadata": {
        "colab": {
          "base_uri": "https://localhost:8080/",
          "height": 216
        },
        "id": "B6sYVRuk_N2B",
        "outputId": "49d9dff6-39c7-4a03-ee1b-4f81fdf09e69"
      },
      "source": [
        "perm = PermutationImportance(my_model, random_state=1).fit(PI_val_x,PI_val_y)\r\n",
        "eli5.show_weights(perm, feature_names = PI_val_x.columns.tolist())"
      ],
      "execution_count": 19,
      "outputs": [
        {
          "output_type": "execute_result",
          "data": {
            "text/html": [
              "\n",
              "    <style>\n",
              "    table.eli5-weights tr:hover {\n",
              "        filter: brightness(85%);\n",
              "    }\n",
              "</style>\n",
              "\n",
              "\n",
              "\n",
              "    \n",
              "\n",
              "    \n",
              "\n",
              "    \n",
              "\n",
              "    \n",
              "\n",
              "    \n",
              "\n",
              "    \n",
              "\n",
              "\n",
              "    \n",
              "\n",
              "    \n",
              "\n",
              "    \n",
              "\n",
              "    \n",
              "\n",
              "    \n",
              "\n",
              "    \n",
              "\n",
              "\n",
              "    \n",
              "\n",
              "    \n",
              "\n",
              "    \n",
              "\n",
              "    \n",
              "\n",
              "    \n",
              "        <table class=\"eli5-weights eli5-feature-importances\" style=\"border-collapse: collapse; border: none; margin-top: 0em; table-layout: auto;\">\n",
              "    <thead>\n",
              "    <tr style=\"border: none;\">\n",
              "        <th style=\"padding: 0 1em 0 0.5em; text-align: right; border: none;\">Weight</th>\n",
              "        <th style=\"padding: 0 0.5em 0 0.5em; text-align: left; border: none;\">Feature</th>\n",
              "    </tr>\n",
              "    </thead>\n",
              "    <tbody>\n",
              "    \n",
              "        <tr style=\"background-color: hsl(120, 100.00%, 80.00%); border: none;\">\n",
              "            <td style=\"padding: 0 1em 0 0.5em; text-align: right; border: none;\">\n",
              "                0.0290\n",
              "                \n",
              "                    &plusmn; 0.0108\n",
              "                \n",
              "            </td>\n",
              "            <td style=\"padding: 0 0.5em 0 0.5em; text-align: left; border: none;\">\n",
              "                sulphates\n",
              "            </td>\n",
              "        </tr>\n",
              "    \n",
              "        <tr style=\"background-color: hsl(120, 100.00%, 81.72%); border: none;\">\n",
              "            <td style=\"padding: 0 1em 0 0.5em; text-align: right; border: none;\">\n",
              "                0.0255\n",
              "                \n",
              "                    &plusmn; 0.0150\n",
              "                \n",
              "            </td>\n",
              "            <td style=\"padding: 0 0.5em 0 0.5em; text-align: left; border: none;\">\n",
              "                alcohol\n",
              "            </td>\n",
              "        </tr>\n",
              "    \n",
              "        <tr style=\"background-color: hsl(120, 100.00%, 92.24%); border: none;\">\n",
              "            <td style=\"padding: 0 1em 0 0.5em; text-align: right; border: none;\">\n",
              "                0.0075\n",
              "                \n",
              "                    &plusmn; 0.0089\n",
              "                \n",
              "            </td>\n",
              "            <td style=\"padding: 0 0.5em 0 0.5em; text-align: left; border: none;\">\n",
              "                volatile acidity\n",
              "            </td>\n",
              "        </tr>\n",
              "    \n",
              "        <tr style=\"background-color: hsl(120, 100.00%, 94.16%); border: none;\">\n",
              "            <td style=\"padding: 0 1em 0 0.5em; text-align: right; border: none;\">\n",
              "                0.0050\n",
              "                \n",
              "                    &plusmn; 0.0089\n",
              "                \n",
              "            </td>\n",
              "            <td style=\"padding: 0 0.5em 0 0.5em; text-align: left; border: none;\">\n",
              "                density\n",
              "            </td>\n",
              "        </tr>\n",
              "    \n",
              "        <tr style=\"background-color: hsl(120, 100.00%, 94.57%); border: none;\">\n",
              "            <td style=\"padding: 0 1em 0 0.5em; text-align: right; border: none;\">\n",
              "                0.0045\n",
              "                \n",
              "                    &plusmn; 0.0139\n",
              "                \n",
              "            </td>\n",
              "            <td style=\"padding: 0 0.5em 0 0.5em; text-align: left; border: none;\">\n",
              "                chlorides\n",
              "            </td>\n",
              "        </tr>\n",
              "    \n",
              "        <tr style=\"background-color: hsl(120, 100.00%, 96.92%); border: none;\">\n",
              "            <td style=\"padding: 0 1em 0 0.5em; text-align: right; border: none;\">\n",
              "                0.0020\n",
              "                \n",
              "                    &plusmn; 0.0066\n",
              "                \n",
              "            </td>\n",
              "            <td style=\"padding: 0 0.5em 0 0.5em; text-align: left; border: none;\">\n",
              "                citric acid\n",
              "            </td>\n",
              "        </tr>\n",
              "    \n",
              "        <tr style=\"background-color: hsl(120, 100.00%, 98.83%); border: none;\">\n",
              "            <td style=\"padding: 0 1em 0 0.5em; text-align: right; border: none;\">\n",
              "                0.0005\n",
              "                \n",
              "                    &plusmn; 0.0049\n",
              "                \n",
              "            </td>\n",
              "            <td style=\"padding: 0 0.5em 0 0.5em; text-align: left; border: none;\">\n",
              "                residual sugar\n",
              "            </td>\n",
              "        </tr>\n",
              "    \n",
              "        <tr style=\"background-color: hsl(0, 100.00%, 100.00%); border: none;\">\n",
              "            <td style=\"padding: 0 1em 0 0.5em; text-align: right; border: none;\">\n",
              "                -0.0000\n",
              "                \n",
              "                    &plusmn; 0.0114\n",
              "                \n",
              "            </td>\n",
              "            <td style=\"padding: 0 0.5em 0 0.5em; text-align: left; border: none;\">\n",
              "                total sulfur dioxide\n",
              "            </td>\n",
              "        </tr>\n",
              "    \n",
              "        <tr style=\"background-color: hsl(0, 100.00%, 98.83%); border: none;\">\n",
              "            <td style=\"padding: 0 1em 0 0.5em; text-align: right; border: none;\">\n",
              "                -0.0005\n",
              "                \n",
              "                    &plusmn; 0.0097\n",
              "                \n",
              "            </td>\n",
              "            <td style=\"padding: 0 0.5em 0 0.5em; text-align: left; border: none;\">\n",
              "                pH\n",
              "            </td>\n",
              "        </tr>\n",
              "    \n",
              "        <tr style=\"background-color: hsl(0, 100.00%, 98.83%); border: none;\">\n",
              "            <td style=\"padding: 0 1em 0 0.5em; text-align: right; border: none;\">\n",
              "                -0.0005\n",
              "                \n",
              "                    &plusmn; 0.0097\n",
              "                \n",
              "            </td>\n",
              "            <td style=\"padding: 0 0.5em 0 0.5em; text-align: left; border: none;\">\n",
              "                fixed acidity\n",
              "            </td>\n",
              "        </tr>\n",
              "    \n",
              "        <tr style=\"background-color: hsl(0, 100.00%, 94.57%); border: none;\">\n",
              "            <td style=\"padding: 0 1em 0 0.5em; text-align: right; border: none;\">\n",
              "                -0.0045\n",
              "                \n",
              "                    &plusmn; 0.0086\n",
              "                \n",
              "            </td>\n",
              "            <td style=\"padding: 0 0.5em 0 0.5em; text-align: left; border: none;\">\n",
              "                free sulfur dioxide\n",
              "            </td>\n",
              "        </tr>\n",
              "    \n",
              "    \n",
              "    </tbody>\n",
              "</table>\n",
              "    \n",
              "\n",
              "    \n",
              "\n",
              "\n",
              "    \n",
              "\n",
              "    \n",
              "\n",
              "    \n",
              "\n",
              "    \n",
              "\n",
              "    \n",
              "\n",
              "    \n",
              "\n",
              "\n",
              "\n"
            ],
            "text/plain": [
              "<IPython.core.display.HTML object>"
            ]
          },
          "metadata": {
            "tags": []
          },
          "execution_count": 19
        }
      ]
    },
    {
      "cell_type": "markdown",
      "metadata": {
        "id": "_tfDcvA9ltQj"
      },
      "source": [
        "\r\n",
        "\r\n",
        "---\r\n",
        "\r\n",
        "\r\n",
        "Train test split"
      ]
    },
    {
      "cell_type": "code",
      "metadata": {
        "trusted": true,
        "id": "nt56410wltQj"
      },
      "source": [
        "x_train, x_test, y_train, y_test = train_test_split(x, y, test_size = 0.2, random_state = 42)"
      ],
      "execution_count": 20,
      "outputs": []
    },
    {
      "cell_type": "markdown",
      "metadata": {
        "id": "dpOzGf33gldK"
      },
      "source": [
        "\r\n",
        "\r\n",
        "---\r\n",
        "\r\n",
        "\r\n",
        "Data normalization"
      ]
    },
    {
      "cell_type": "markdown",
      "metadata": {
        "id": "fQHH7WbdyBTE"
      },
      "source": [
        "https://www.analyticsvidhya.com/blog/2020/04/feature-scaling-machine-learning-normalization-standardization/"
      ]
    },
    {
      "cell_type": "code",
      "metadata": {
        "id": "hDW2xuVP9nRp"
      },
      "source": [
        "trans = MinMaxScaler()\r\n",
        "x_train_norm = trans.fit_transform(x_train)\r\n",
        "x_train_norm = DataFrame(x_train_norm, columns=x_train.columns)"
      ],
      "execution_count": null,
      "outputs": []
    },
    {
      "cell_type": "code",
      "metadata": {
        "colab": {
          "base_uri": "https://localhost:8080/",
          "height": 287
        },
        "id": "PnYVkyDizeVa",
        "outputId": "2feb91c8-5a89-4be8-c1a9-902497c306e5"
      },
      "source": [
        "x_train_norm.describe()"
      ],
      "execution_count": 22,
      "outputs": [
        {
          "output_type": "execute_result",
          "data": {
            "text/html": [
              "<div>\n",
              "<style scoped>\n",
              "    .dataframe tbody tr th:only-of-type {\n",
              "        vertical-align: middle;\n",
              "    }\n",
              "\n",
              "    .dataframe tbody tr th {\n",
              "        vertical-align: top;\n",
              "    }\n",
              "\n",
              "    .dataframe thead th {\n",
              "        text-align: right;\n",
              "    }\n",
              "</style>\n",
              "<table border=\"1\" class=\"dataframe\">\n",
              "  <thead>\n",
              "    <tr style=\"text-align: right;\">\n",
              "      <th></th>\n",
              "      <th>fixed acidity</th>\n",
              "      <th>volatile acidity</th>\n",
              "      <th>citric acid</th>\n",
              "      <th>residual sugar</th>\n",
              "      <th>chlorides</th>\n",
              "      <th>free sulfur dioxide</th>\n",
              "      <th>total sulfur dioxide</th>\n",
              "      <th>density</th>\n",
              "      <th>pH</th>\n",
              "      <th>sulphates</th>\n",
              "      <th>alcohol</th>\n",
              "    </tr>\n",
              "  </thead>\n",
              "  <tbody>\n",
              "    <tr>\n",
              "      <th>count</th>\n",
              "      <td>1279.000000</td>\n",
              "      <td>1279.000000</td>\n",
              "      <td>1279.000000</td>\n",
              "      <td>1279.000000</td>\n",
              "      <td>1279.000000</td>\n",
              "      <td>1279.000000</td>\n",
              "      <td>1279.000000</td>\n",
              "      <td>1279.000000</td>\n",
              "      <td>1279.000000</td>\n",
              "      <td>1279.000000</td>\n",
              "      <td>1279.000000</td>\n",
              "    </tr>\n",
              "    <tr>\n",
              "      <th>mean</th>\n",
              "      <td>0.329530</td>\n",
              "      <td>0.281205</td>\n",
              "      <td>0.272471</td>\n",
              "      <td>0.113389</td>\n",
              "      <td>0.127626</td>\n",
              "      <td>0.222031</td>\n",
              "      <td>0.143665</td>\n",
              "      <td>0.492216</td>\n",
              "      <td>0.450118</td>\n",
              "      <td>0.177929</td>\n",
              "      <td>0.310477</td>\n",
              "    </tr>\n",
              "    <tr>\n",
              "      <th>std</th>\n",
              "      <td>0.152588</td>\n",
              "      <td>0.122791</td>\n",
              "      <td>0.195448</td>\n",
              "      <td>0.098342</td>\n",
              "      <td>0.082358</td>\n",
              "      <td>0.153933</td>\n",
              "      <td>0.116403</td>\n",
              "      <td>0.136266</td>\n",
              "      <td>0.121272</td>\n",
              "      <td>0.107119</td>\n",
              "      <td>0.161953</td>\n",
              "    </tr>\n",
              "    <tr>\n",
              "      <th>min</th>\n",
              "      <td>0.000000</td>\n",
              "      <td>0.000000</td>\n",
              "      <td>0.000000</td>\n",
              "      <td>0.000000</td>\n",
              "      <td>0.000000</td>\n",
              "      <td>0.000000</td>\n",
              "      <td>0.000000</td>\n",
              "      <td>0.000000</td>\n",
              "      <td>0.000000</td>\n",
              "      <td>0.000000</td>\n",
              "      <td>0.000000</td>\n",
              "    </tr>\n",
              "    <tr>\n",
              "      <th>25%</th>\n",
              "      <td>0.221239</td>\n",
              "      <td>0.191781</td>\n",
              "      <td>0.100000</td>\n",
              "      <td>0.068493</td>\n",
              "      <td>0.098497</td>\n",
              "      <td>0.089552</td>\n",
              "      <td>0.056537</td>\n",
              "      <td>0.410059</td>\n",
              "      <td>0.370079</td>\n",
              "      <td>0.110429</td>\n",
              "      <td>0.169231</td>\n",
              "    </tr>\n",
              "    <tr>\n",
              "      <th>50%</th>\n",
              "      <td>0.292035</td>\n",
              "      <td>0.273973</td>\n",
              "      <td>0.260000</td>\n",
              "      <td>0.089041</td>\n",
              "      <td>0.113523</td>\n",
              "      <td>0.194030</td>\n",
              "      <td>0.113074</td>\n",
              "      <td>0.494126</td>\n",
              "      <td>0.448819</td>\n",
              "      <td>0.153374</td>\n",
              "      <td>0.276923</td>\n",
              "    </tr>\n",
              "    <tr>\n",
              "      <th>75%</th>\n",
              "      <td>0.407080</td>\n",
              "      <td>0.356164</td>\n",
              "      <td>0.430000</td>\n",
              "      <td>0.116438</td>\n",
              "      <td>0.131886</td>\n",
              "      <td>0.298507</td>\n",
              "      <td>0.201413</td>\n",
              "      <td>0.570852</td>\n",
              "      <td>0.519685</td>\n",
              "      <td>0.220859</td>\n",
              "      <td>0.415385</td>\n",
              "    </tr>\n",
              "    <tr>\n",
              "      <th>max</th>\n",
              "      <td>1.000000</td>\n",
              "      <td>1.000000</td>\n",
              "      <td>1.000000</td>\n",
              "      <td>1.000000</td>\n",
              "      <td>1.000000</td>\n",
              "      <td>1.000000</td>\n",
              "      <td>1.000000</td>\n",
              "      <td>1.000000</td>\n",
              "      <td>1.000000</td>\n",
              "      <td>1.000000</td>\n",
              "      <td>1.000000</td>\n",
              "    </tr>\n",
              "  </tbody>\n",
              "</table>\n",
              "</div>"
            ],
            "text/plain": [
              "       fixed acidity  volatile acidity  ...    sulphates      alcohol\n",
              "count    1279.000000       1279.000000  ...  1279.000000  1279.000000\n",
              "mean        0.329530          0.281205  ...     0.177929     0.310477\n",
              "std         0.152588          0.122791  ...     0.107119     0.161953\n",
              "min         0.000000          0.000000  ...     0.000000     0.000000\n",
              "25%         0.221239          0.191781  ...     0.110429     0.169231\n",
              "50%         0.292035          0.273973  ...     0.153374     0.276923\n",
              "75%         0.407080          0.356164  ...     0.220859     0.415385\n",
              "max         1.000000          1.000000  ...     1.000000     1.000000\n",
              "\n",
              "[8 rows x 11 columns]"
            ]
          },
          "metadata": {
            "tags": []
          },
          "execution_count": 22
        }
      ]
    },
    {
      "cell_type": "markdown",
      "metadata": {
        "id": "Lp5ZAbQGyKxL"
      },
      "source": [
        "\r\n",
        "\r\n",
        "---\r\n",
        "\r\n",
        "\r\n",
        "Data standardization:"
      ]
    },
    {
      "cell_type": "code",
      "metadata": {
        "id": "XmgYI6e_yOzT"
      },
      "source": [
        "x_train_stand = x_train.copy()\r\n",
        "x_test_stand = x_test.copy()\r\n",
        "\r\n",
        "num_cols = x_train_stand.columns.values.tolist()\r\n",
        "\r\n",
        "for i in num_cols:\r\n",
        "    \r\n",
        "    # fit on training data column\r\n",
        "    scale = StandardScaler().fit(x_train_stand[[i]])\r\n",
        "\r\n",
        "    x_train_stand[i] = scale.transform(x_train_stand[[i]])\r\n",
        "   \r\n",
        "    x_test_stand[i] = scale.transform(x_test_stand[[i]])"
      ],
      "execution_count": 23,
      "outputs": []
    },
    {
      "cell_type": "code",
      "metadata": {
        "id": "IlO_6thhz2r1",
        "colab": {
          "base_uri": "https://localhost:8080/",
          "height": 287
        },
        "outputId": "5020a45f-3472-48b6-98db-7908c6b5e535"
      },
      "source": [
        "x_train_stand.describe()"
      ],
      "execution_count": 24,
      "outputs": [
        {
          "output_type": "execute_result",
          "data": {
            "text/html": [
              "<div>\n",
              "<style scoped>\n",
              "    .dataframe tbody tr th:only-of-type {\n",
              "        vertical-align: middle;\n",
              "    }\n",
              "\n",
              "    .dataframe tbody tr th {\n",
              "        vertical-align: top;\n",
              "    }\n",
              "\n",
              "    .dataframe thead th {\n",
              "        text-align: right;\n",
              "    }\n",
              "</style>\n",
              "<table border=\"1\" class=\"dataframe\">\n",
              "  <thead>\n",
              "    <tr style=\"text-align: right;\">\n",
              "      <th></th>\n",
              "      <th>fixed acidity</th>\n",
              "      <th>volatile acidity</th>\n",
              "      <th>citric acid</th>\n",
              "      <th>residual sugar</th>\n",
              "      <th>chlorides</th>\n",
              "      <th>free sulfur dioxide</th>\n",
              "      <th>total sulfur dioxide</th>\n",
              "      <th>density</th>\n",
              "      <th>pH</th>\n",
              "      <th>sulphates</th>\n",
              "      <th>alcohol</th>\n",
              "    </tr>\n",
              "  </thead>\n",
              "  <tbody>\n",
              "    <tr>\n",
              "      <th>count</th>\n",
              "      <td>1.279000e+03</td>\n",
              "      <td>1.279000e+03</td>\n",
              "      <td>1.279000e+03</td>\n",
              "      <td>1.279000e+03</td>\n",
              "      <td>1.279000e+03</td>\n",
              "      <td>1.279000e+03</td>\n",
              "      <td>1.279000e+03</td>\n",
              "      <td>1.279000e+03</td>\n",
              "      <td>1.279000e+03</td>\n",
              "      <td>1.279000e+03</td>\n",
              "      <td>1.279000e+03</td>\n",
              "    </tr>\n",
              "    <tr>\n",
              "      <th>mean</th>\n",
              "      <td>-1.239561e-16</td>\n",
              "      <td>4.180480e-16</td>\n",
              "      <td>1.266904e-16</td>\n",
              "      <td>1.736080e-17</td>\n",
              "      <td>-1.854133e-16</td>\n",
              "      <td>-9.478996e-17</td>\n",
              "      <td>-8.038049e-17</td>\n",
              "      <td>2.558044e-14</td>\n",
              "      <td>-1.375149e-15</td>\n",
              "      <td>4.398358e-16</td>\n",
              "      <td>5.815867e-16</td>\n",
              "    </tr>\n",
              "    <tr>\n",
              "      <th>std</th>\n",
              "      <td>1.000391e+00</td>\n",
              "      <td>1.000391e+00</td>\n",
              "      <td>1.000391e+00</td>\n",
              "      <td>1.000391e+00</td>\n",
              "      <td>1.000391e+00</td>\n",
              "      <td>1.000391e+00</td>\n",
              "      <td>1.000391e+00</td>\n",
              "      <td>1.000391e+00</td>\n",
              "      <td>1.000391e+00</td>\n",
              "      <td>1.000391e+00</td>\n",
              "      <td>1.000391e+00</td>\n",
              "    </tr>\n",
              "    <tr>\n",
              "      <th>min</th>\n",
              "      <td>-2.160453e+00</td>\n",
              "      <td>-2.291000e+00</td>\n",
              "      <td>-1.394630e+00</td>\n",
              "      <td>-1.153456e+00</td>\n",
              "      <td>-1.550257e+00</td>\n",
              "      <td>-1.442950e+00</td>\n",
              "      <td>-1.234688e+00</td>\n",
              "      <td>-3.613585e+00</td>\n",
              "      <td>-3.713085e+00</td>\n",
              "      <td>-1.661679e+00</td>\n",
              "      <td>-1.917831e+00</td>\n",
              "    </tr>\n",
              "    <tr>\n",
              "      <th>25%</th>\n",
              "      <td>-7.099747e-01</td>\n",
              "      <td>-7.285451e-01</td>\n",
              "      <td>-8.827838e-01</td>\n",
              "      <td>-4.567030e-01</td>\n",
              "      <td>-3.538207e-01</td>\n",
              "      <td>-8.609621e-01</td>\n",
              "      <td>-7.487957e-01</td>\n",
              "      <td>-6.031534e-01</td>\n",
              "      <td>-6.602541e-01</td>\n",
              "      <td>-6.303756e-01</td>\n",
              "      <td>-8.724843e-01</td>\n",
              "    </tr>\n",
              "    <tr>\n",
              "      <th>50%</th>\n",
              "      <td>-2.458216e-01</td>\n",
              "      <td>-5.892147e-02</td>\n",
              "      <td>-6.383064e-02</td>\n",
              "      <td>-2.476770e-01</td>\n",
              "      <td>-1.713135e-01</td>\n",
              "      <td>-1.819756e-01</td>\n",
              "      <td>-2.629030e-01</td>\n",
              "      <td>1.402550e-02</td>\n",
              "      <td>-1.071561e-02</td>\n",
              "      <td>-2.293130e-01</td>\n",
              "      <td>-2.072638e-01</td>\n",
              "    </tr>\n",
              "    <tr>\n",
              "      <th>75%</th>\n",
              "      <td>5.084274e-01</td>\n",
              "      <td>6.107022e-01</td>\n",
              "      <td>8.063071e-01</td>\n",
              "      <td>3.102432e-02</td>\n",
              "      <td>5.175080e-02</td>\n",
              "      <td>4.970108e-01</td>\n",
              "      <td>4.963043e-01</td>\n",
              "      <td>5.773023e-01</td>\n",
              "      <td>5.738691e-01</td>\n",
              "      <td>4.009282e-01</td>\n",
              "      <td>6.480197e-01</td>\n",
              "    </tr>\n",
              "    <tr>\n",
              "      <th>max</th>\n",
              "      <td>4.395710e+00</td>\n",
              "      <td>5.856087e+00</td>\n",
              "      <td>3.723828e+00</td>\n",
              "      <td>9.019142e+00</td>\n",
              "      <td>1.059661e+01</td>\n",
              "      <td>5.055920e+00</td>\n",
              "      <td>7.359539e+00</td>\n",
              "      <td>3.727879e+00</td>\n",
              "      <td>4.536054e+00</td>\n",
              "      <td>7.677349e+00</td>\n",
              "      <td>4.259217e+00</td>\n",
              "    </tr>\n",
              "  </tbody>\n",
              "</table>\n",
              "</div>"
            ],
            "text/plain": [
              "       fixed acidity  volatile acidity  ...     sulphates       alcohol\n",
              "count   1.279000e+03      1.279000e+03  ...  1.279000e+03  1.279000e+03\n",
              "mean   -1.239561e-16      4.180480e-16  ...  4.398358e-16  5.815867e-16\n",
              "std     1.000391e+00      1.000391e+00  ...  1.000391e+00  1.000391e+00\n",
              "min    -2.160453e+00     -2.291000e+00  ... -1.661679e+00 -1.917831e+00\n",
              "25%    -7.099747e-01     -7.285451e-01  ... -6.303756e-01 -8.724843e-01\n",
              "50%    -2.458216e-01     -5.892147e-02  ... -2.293130e-01 -2.072638e-01\n",
              "75%     5.084274e-01      6.107022e-01  ...  4.009282e-01  6.480197e-01\n",
              "max     4.395710e+00      5.856087e+00  ...  7.677349e+00  4.259217e+00\n",
              "\n",
              "[8 rows x 11 columns]"
            ]
          },
          "metadata": {
            "tags": []
          },
          "execution_count": 24
        }
      ]
    },
    {
      "cell_type": "markdown",
      "metadata": {
        "id": "1MuadRpyt280"
      },
      "source": [
        "\r\n",
        "\r\n",
        "---\r\n",
        "\r\n",
        "\r\n",
        "SMOTE"
      ]
    },
    {
      "cell_type": "code",
      "metadata": {
        "colab": {
          "base_uri": "https://localhost:8080/"
        },
        "id": "tzw3ADEnCrUZ",
        "outputId": "8df6848d-e0b1-408e-96d4-38cfcd27222e"
      },
      "source": [
        "sm = SMOTE(random_state=2)\r\n",
        "x_train_SM, y_train_SM = sm.fit_resample(x_train, y_train)\r\n",
        "x_train_SM = pd.DataFrame(x_train_SM, columns=x_train.columns)\r\n",
        "\r\n",
        "print(\"After OverSampling, counts of label '1': {}\".format(sum(y_train_SM==1)))\r\n",
        "print(\"After OverSampling, counts of label '0': {}\".format(sum(y_train_SM==0)))"
      ],
      "execution_count": 25,
      "outputs": [
        {
          "output_type": "stream",
          "text": [
            "After OverSampling, counts of label '1': 1109\n",
            "After OverSampling, counts of label '0': 1109\n"
          ],
          "name": "stdout"
        }
      ]
    },
    {
      "cell_type": "markdown",
      "metadata": {
        "id": "ZuHfWkeXT7Fq"
      },
      "source": [
        "# **4. Building machine learning model**"
      ]
    },
    {
      "cell_type": "markdown",
      "metadata": {
        "id": "tAV2DX0AX77e"
      },
      "source": [
        "4.1. Out of the box models performance comparison:"
      ]
    },
    {
      "cell_type": "code",
      "metadata": {
        "id": "7F0Hz3y3YOTV",
        "colab": {
          "base_uri": "https://localhost:8080/",
          "height": 441
        },
        "outputId": "9acfaf64-a83b-4e6b-b7aa-a95603f2a362"
      },
      "source": [
        "models = [('LR', LogisticRegression(solver='liblinear', multi_class='ovr')),\r\n",
        "          ('LDA', LinearDiscriminantAnalysis()),\r\n",
        "          ('KNN', KNeighborsClassifier()),\r\n",
        "          ('SVM', SVC(gamma='auto')),\r\n",
        "          ('CART', DecisionTreeClassifier()),\r\n",
        "          ('NB', GaussianNB()),\r\n",
        "          ('RF', RandomForestClassifier()),\r\n",
        "          ('XGB', XGBClassifier())]\r\n",
        "\r\n",
        "results = []\r\n",
        "names = []\r\n",
        "for name, model in models:\r\n",
        "\tkfold = StratifiedKFold(n_splits=10, random_state=42, shuffle=True)\r\n",
        "\tcv_results = cross_val_score(model, x_train, y_train, cv=kfold, scoring='f1')\r\n",
        "\tresults.append(cv_results)\r\n",
        "\tnames.append(name)\r\n",
        "\tprint('%s: %f (%f)' % (name, cv_results.mean(), cv_results.std()))\r\n",
        " \r\n",
        "print(\"...................................................\")\r\n",
        "plt.boxplot(results, labels=names)\r\n",
        "plt.title('Out of the box models performance comparison')\r\n",
        "plt.show()"
      ],
      "execution_count": 26,
      "outputs": [
        {
          "output_type": "stream",
          "text": [
            "LR: 0.340278 (0.098479)\n",
            "LDA: 0.446129 (0.145735)\n",
            "KNN: 0.302628 (0.083967)\n",
            "SVM: 0.342558 (0.099954)\n",
            "CART: 0.549353 (0.090222)\n",
            "NB: 0.515006 (0.061597)\n",
            "RF: 0.622421 (0.102344)\n",
            "XGB: 0.517705 (0.096076)\n",
            "...................................................\n"
          ],
          "name": "stdout"
        },
        {
          "output_type": "display_data",
          "data": {
            "image/png": "[encoded data removed]",
            "text/plain": [
              "<Figure size 432x288 with 1 Axes>"
            ]
          },
          "metadata": {
            "tags": [],
            "needs_background": "light"
          }
        }
      ]
    },
    {
      "cell_type": "code",
      "metadata": {
        "id": "NIM7k4zA7iMq"
      },
      "source": [
        "# print(results)"
      ],
      "execution_count": 27,
      "outputs": []
    },
    {
      "cell_type": "markdown",
      "metadata": {
        "id": "3PKOG_fvtHto"
      },
      "source": [
        "4.2 Out of the box models performance comparison **with data standartization**:"
      ]
    },
    {
      "cell_type": "code",
      "metadata": {
        "colab": {
          "base_uri": "https://localhost:8080/",
          "height": 441
        },
        "id": "KIOQ1rbFtiHg",
        "outputId": "f5b8d764-0ce9-4eba-f6c4-1383db55310a"
      },
      "source": [
        "results = []\r\n",
        "names = []\r\n",
        "for name, model in models:\r\n",
        "\tkfold = StratifiedKFold(n_splits=10, random_state=42, shuffle=True)\r\n",
        "\tcv_results = cross_val_score(model, x_train_stand, y_train, cv=kfold, scoring='f1')\r\n",
        "\tresults.append(cv_results)\r\n",
        "\tnames.append(name)\r\n",
        "\tprint('%s: %f (%f)' % (name, cv_results.mean(), cv_results.std()))\r\n",
        " \r\n",
        "print(\"...................................................\")\r\n",
        "plt.boxplot(results, labels=names)\r\n",
        "plt.title('Out of the box models performance comparison')\r\n",
        "plt.show()"
      ],
      "execution_count": 28,
      "outputs": [
        {
          "output_type": "stream",
          "text": [
            "LR: 0.392074 (0.108304)\n",
            "LDA: 0.446129 (0.145735)\n",
            "KNN: 0.473660 (0.091131)\n",
            "SVM: 0.386748 (0.113406)\n",
            "CART: 0.565025 (0.090867)\n",
            "NB: 0.523567 (0.058323)\n",
            "RF: 0.615669 (0.097349)\n",
            "XGB: 0.523244 (0.099876)\n",
            "...................................................\n"
          ],
          "name": "stdout"
        },
        {
          "output_type": "display_data",
          "data": {
            "image/png": "[encoded data removed]",
            "text/plain": [
              "<Figure size 432x288 with 1 Axes>"
            ]
          },
          "metadata": {
            "tags": [],
            "needs_background": "light"
          }
        }
      ]
    },
    {
      "cell_type": "markdown",
      "metadata": {
        "id": "ixlXrKdPv-nv"
      },
      "source": [
        "4.3 Out of the box models performance comparison **with data normalization**:"
      ]
    },
    {
      "cell_type": "code",
      "metadata": {
        "colab": {
          "base_uri": "https://localhost:8080/",
          "height": 441
        },
        "id": "2d504bajv9ng",
        "outputId": "c1f4aa14-4c31-4fce-f728-c4ebc6584ed5"
      },
      "source": [
        "results = []\r\n",
        "names = []\r\n",
        "for name, model in models:\r\n",
        "\tkfold = StratifiedKFold(n_splits=10, random_state=42, shuffle=True)\r\n",
        "\tcv_results = cross_val_score(model, x_train_norm, y_train, cv=kfold, scoring='f1')\r\n",
        "\tresults.append(cv_results)\r\n",
        "\tnames.append(name)\r\n",
        "\tprint('%s: %f (%f)' % (name, cv_results.mean(), cv_results.std()))\r\n",
        " \r\n",
        "print(\"...................................................\")\r\n",
        "plt.boxplot(results, labels=names)\r\n",
        "plt.title('Out of the box models performance comparison with data normalization')\r\n",
        "plt.show()"
      ],
      "execution_count": 29,
      "outputs": [
        {
          "output_type": "stream",
          "text": [
            "LR: 0.276363 (0.099218)\n",
            "LDA: 0.446129 (0.145735)\n",
            "KNN: 0.483611 (0.064785)\n",
            "SVM: 0.000000 (0.000000)\n",
            "CART: 0.551371 (0.090058)\n",
            "NB: 0.523567 (0.058323)\n",
            "RF: 0.606299 (0.091647)\n",
            "XGB: 0.517705 (0.096076)\n",
            "...................................................\n"
          ],
          "name": "stdout"
        },
        {
          "output_type": "display_data",
          "data": {
            "image/png": "[encoded data removed]",
            "text/plain": [
              "<Figure size 432x288 with 1 Axes>"
            ]
          },
          "metadata": {
            "tags": [],
            "needs_background": "light"
          }
        }
      ]
    },
    {
      "cell_type": "markdown",
      "metadata": {
        "id": "1SQUAOd7eRSx"
      },
      "source": [
        "4.4 Out of the box models performance comparison **with SMOTE**:"
      ]
    },
    {
      "cell_type": "code",
      "metadata": {
        "colab": {
          "base_uri": "https://localhost:8080/",
          "height": 441
        },
        "id": "SwLnIPNXeX-b",
        "outputId": "54248ede-20d2-4a8e-d7ea-58fd3fda6ee8"
      },
      "source": [
        "results = []\r\n",
        "names = []\r\n",
        "for name, model in models:\r\n",
        "\tkfold = StratifiedKFold(n_splits=10, random_state=42, shuffle=True)\r\n",
        "\tcv_results = cross_val_score(model, x_train_SM, y_train_SM, cv=kfold, scoring='f1')\r\n",
        "\tresults.append(cv_results)\r\n",
        "\tnames.append(name)\r\n",
        "\tprint('%s: %f (%f)' % (name, cv_results.mean(), cv_results.std()))\r\n",
        " \r\n",
        "print(\"...................................................\")\r\n",
        "plt.boxplot(results, labels=names)\r\n",
        "plt.title('Out of the box models performance comparison with SMOTE')\r\n",
        "plt.show()"
      ],
      "execution_count": 30,
      "outputs": [
        {
          "output_type": "stream",
          "text": [
            "LR: 0.811736 (0.016749)\n",
            "LDA: 0.810142 (0.017039)\n",
            "KNN: 0.889476 (0.021491)\n",
            "SVM: 0.917363 (0.017958)\n",
            "CART: 0.893368 (0.021588)\n",
            "NB: 0.803491 (0.018603)\n",
            "RF: 0.938041 (0.014078)\n",
            "XGB: 0.907333 (0.016970)\n",
            "...................................................\n"
          ],
          "name": "stdout"
        },
        {
          "output_type": "display_data",
          "data": {
            "image/png": "[encoded data removed]",
            "text/plain": [
              "<Figure size 432x288 with 1 Axes>"
            ]
          },
          "metadata": {
            "tags": [],
            "needs_background": "light"
          }
        }
      ]
    },
    {
      "cell_type": "markdown",
      "metadata": {
        "id": "OfuxSURfM8qK"
      },
      "source": [
        "4.5 Models performance comparison **after hyperparameter tuning**:"
      ]
    },
    {
      "cell_type": "code",
      "metadata": {
        "colab": {
          "base_uri": "https://localhost:8080/",
          "height": 441
        },
        "id": "ORN4ADP3M90J",
        "outputId": "4a42ec91-e186-4284-985d-9571433f4fbb"
      },
      "source": [
        "models = [('LR', LogisticRegression(solver='liblinear', multi_class='ovr')),\r\n",
        "          ('LDA', LinearDiscriminantAnalysis()),\r\n",
        "          ('KNN', KNeighborsClassifier(n_neighbors=1)),\r\n",
        "          ('SVM', SVC(gamma='auto')),\r\n",
        "          ('CART', DecisionTreeClassifier()),\r\n",
        "          ('NB', GaussianNB()),\r\n",
        "          ('RF', RandomForestClassifier(max_features=4,n_estimators=250)),\r\n",
        "          ('XGB', XGBClassifier(n_estimators=1000,learning_rate=0.1,max_depth=4,early_stopping_rounds=5,subsample=0.8))]\r\n",
        "\r\n",
        "results = []\r\n",
        "names = []\r\n",
        "for name, model in models:\r\n",
        "\tkfold = StratifiedKFold(n_splits=10, random_state=42, shuffle=True)\r\n",
        "\tcv_results = cross_val_score(model, x_train, y_train, cv=kfold, scoring='f1')\r\n",
        "\tresults.append(cv_results)\r\n",
        "\tnames.append(name)\r\n",
        "\tprint('%s: %f (%f)' % (name, cv_results.mean(), cv_results.std()))\r\n",
        " \r\n",
        "print(\"...................................................\")\r\n",
        "plt.boxplot(results, labels=names)\r\n",
        "plt.title('Models performance comparison after hyperparameter tuning')\r\n",
        "plt.show()"
      ],
      "execution_count": 31,
      "outputs": [
        {
          "output_type": "stream",
          "text": [
            "LR: 0.340278 (0.098479)\n",
            "LDA: 0.446129 (0.145735)\n",
            "KNN: 0.536420 (0.051816)\n",
            "SVM: 0.342558 (0.099954)\n",
            "CART: 0.568031 (0.079452)\n",
            "NB: 0.515006 (0.061597)\n",
            "RF: 0.620438 (0.115030)\n",
            "XGB: 0.599934 (0.111658)\n",
            "...................................................\n"
          ],
          "name": "stdout"
        },
        {
          "output_type": "display_data",
          "data": {
            "image/png": "[encoded data removed]",
            "text/plain": [
              "<Figure size 432x288 with 1 Axes>"
            ]
          },
          "metadata": {
            "tags": [],
            "needs_background": "light"
          }
        }
      ]
    },
    {
      "cell_type": "markdown",
      "metadata": {
        "id": "G78kvwQq_DDf"
      },
      "source": [
        "4.6 **Final models** performance comparison using supporting techniques:"
      ]
    },
    {
      "cell_type": "code",
      "metadata": {
        "colab": {
          "base_uri": "https://localhost:8080/",
          "height": 441
        },
        "id": "XmJ7m19E_l6m",
        "outputId": "ce76bcb7-5083-449d-a329-21411dae9d21"
      },
      "source": [
        "# Using SMOTE on Normalized data, k-fold cross validation, hyperparameter tuning\r\n",
        "\r\n",
        "sm = SMOTE(random_state=2)\r\n",
        "x_train_final, y_train_final = sm.fit_resample(x_train_norm, y_train)\r\n",
        "x_train_final = pd.DataFrame(x_train_final, columns=x_train.columns)\r\n",
        "\r\n",
        "\r\n",
        "models = [('LR', LogisticRegression(solver='liblinear', multi_class='ovr')),\r\n",
        "          ('LDA', LinearDiscriminantAnalysis()),\r\n",
        "          ('KNN', KNeighborsClassifier(n_neighbors=1)),\r\n",
        "          ('SVM', SVC(gamma='auto')),\r\n",
        "          ('CART', DecisionTreeClassifier()),\r\n",
        "          ('NB', GaussianNB()),\r\n",
        "          ('RF', RandomForestClassifier(max_features=4,n_estimators=250)),\r\n",
        "          ('XGB', XGBClassifier(n_estimators=1000,learning_rate=0.1,max_depth=4,early_stopping_rounds=5,subsample=0.8))]\r\n",
        "\r\n",
        "results = []\r\n",
        "names = []\r\n",
        "for name, model in models:\r\n",
        "\tkfold = StratifiedKFold(n_splits=10, random_state=42, shuffle=True)\r\n",
        "\tcv_results = cross_val_score(model, x_train_final, y_train_final, cv=kfold, scoring='f1')\r\n",
        "\tresults.append(cv_results)\r\n",
        "\tnames.append(name)\r\n",
        "\tprint('%s: %f (%f)' % (name, cv_results.mean(), cv_results.std()))\r\n",
        " \r\n",
        "print(\"...................................................\")\r\n",
        "plt.boxplot(results, labels=names)\r\n",
        "plt.title('Final models performance comparison using supporting techniques')\r\n",
        "plt.show()"
      ],
      "execution_count": 32,
      "outputs": [
        {
          "output_type": "stream",
          "text": [
            "LR: 0.798533 (0.015893)\n",
            "LDA: 0.805648 (0.016345)\n",
            "KNN: 0.947088 (0.011814)\n",
            "SVM: 0.801066 (0.016577)\n",
            "CART: 0.906117 (0.014415)\n",
            "NB: 0.791139 (0.022872)\n",
            "RF: 0.951233 (0.018938)\n",
            "XGB: 0.960526 (0.013251)\n",
            "...................................................\n"
          ],
          "name": "stdout"
        },
        {
          "output_type": "display_data",
          "data": {
            "image/png": "[encoded data removed]",
            "text/plain": [
              "<Figure size 432x288 with 1 Axes>"
            ]
          },
          "metadata": {
            "tags": [],
            "needs_background": "light"
          }
        }
      ]
    },
    {
      "cell_type": "markdown",
      "metadata": {
        "id": "Wf95Jn8wc6XB"
      },
      "source": [
        "\r\n",
        "\r\n",
        "---\r\n",
        "\r\n",
        "\r\n",
        "# **Best performing models**"
      ]
    },
    {
      "cell_type": "markdown",
      "metadata": {
        "id": "4Esyp8kngi43"
      },
      "source": [
        "# XGBOOST"
      ]
    },
    {
      "cell_type": "code",
      "metadata": {
        "id": "ez33XYl5gmoi",
        "colab": {
          "base_uri": "https://localhost:8080/"
        },
        "outputId": "a93c9d19-acd7-4288-cad5-552643170d12"
      },
      "source": [
        "# https://www.kaggle.com/alexisbcook/xgboost\r\n",
        "\r\n",
        "elite_xgb = XGBClassifier(n_estimators=1000, \r\n",
        "                    learning_rate=0.1,\r\n",
        "                    max_depth=4, \r\n",
        "                    early_stopping_rounds=5,\r\n",
        "                    subsample=0.8,\r\n",
        "                    #colsample_bytree = 0.4,\r\n",
        "                    #gamma=1\r\n",
        "                    )  \r\n",
        "elite_xgb.fit(x_train_SM, y_train_SM)\r\n",
        "y_pred = elite_xgb.predict(x_test)\r\n",
        "print(classification_report(y_test, y_pred))"
      ],
      "execution_count": 37,
      "outputs": [
        {
          "output_type": "stream",
          "text": [
            "              precision    recall  f1-score   support\n",
            "\n",
            "           0       0.96      0.95      0.95       273\n",
            "           1       0.71      0.77      0.73        47\n",
            "\n",
            "    accuracy                           0.92       320\n",
            "   macro avg       0.83      0.86      0.84       320\n",
            "weighted avg       0.92      0.92      0.92       320\n",
            "\n"
          ],
          "name": "stdout"
        }
      ]
    },
    {
      "cell_type": "markdown",
      "metadata": {
        "id": "CKJOOU_oltQm"
      },
      "source": [
        "# Random forest"
      ]
    },
    {
      "cell_type": "code",
      "metadata": {
        "trusted": true,
        "id": "0s0NV0iGltQn",
        "colab": {
          "base_uri": "https://localhost:8080/"
        },
        "outputId": "61464437-763f-4146-aae1-24d6276551b0"
      },
      "source": [
        "elite_rf = RandomForestClassifier(max_features=4,n_estimators=1000,n_jobs=-1)\n",
        "elite_rf.fit(x_train_SM, y_train_SM)\n",
        "y_pred=elite_rf.predict(x_test)\n",
        "\n",
        "print(classification_report(y_test,y_pred))"
      ],
      "execution_count": 33,
      "outputs": [
        {
          "output_type": "stream",
          "text": [
            "              precision    recall  f1-score   support\n",
            "\n",
            "           0       0.96      0.92      0.94       273\n",
            "           1       0.62      0.79      0.69        47\n",
            "\n",
            "    accuracy                           0.90       320\n",
            "   macro avg       0.79      0.85      0.81       320\n",
            "weighted avg       0.91      0.90      0.90       320\n",
            "\n"
          ],
          "name": "stdout"
        }
      ]
    },
    {
      "cell_type": "code",
      "metadata": {
        "id": "-_KeGYmmHZPB",
        "colab": {
          "base_uri": "https://localhost:8080/"
        },
        "outputId": "097536e9-ec49-4073-c9f0-67b7b0050c22"
      },
      "source": [
        "f1 = f1_score(y_test, y_pred)\r\n",
        "print('F1 score: %f' % f1)"
      ],
      "execution_count": 38,
      "outputs": [
        {
          "output_type": "stream",
          "text": [
            "F1 score: 0.734694\n"
          ],
          "name": "stdout"
        }
      ]
    },
    {
      "cell_type": "code",
      "metadata": {
        "id": "nO0yntZgMzUU",
        "colab": {
          "base_uri": "https://localhost:8080/"
        },
        "outputId": "312765b1-7a2c-410d-f848-979ecdc07e4d"
      },
      "source": [
        "score = f1_score(y_test, y_pred, average='binary')\r\n",
        "print('F-Measure: %.3f' % score)"
      ],
      "execution_count": 34,
      "outputs": [
        {
          "output_type": "stream",
          "text": [
            "F-Measure: 0.692\n"
          ],
          "name": "stdout"
        }
      ]
    },
    {
      "cell_type": "code",
      "metadata": {
        "id": "damRUKkLEFLP",
        "colab": {
          "base_uri": "https://localhost:8080/",
          "height": 385
        },
        "outputId": "2d11d465-5c0e-404f-862a-a725bafc297f"
      },
      "source": [
        "import shap\r\n",
        "\r\n",
        "explainer = shap.TreeExplainer(elite_rf)\r\n",
        "shap_values = explainer.shap_values(x)\r\n",
        "\r\n",
        "\r\n",
        "shap.summary_plot(shap_values, x)"
      ],
      "execution_count": 35,
      "outputs": [
        {
          "output_type": "display_data",
          "data": {
            "image/png": "[encoded data removed]",
            "text/plain": [
              "<Figure size 576x424.8 with 1 Axes>"
            ]
          },
          "metadata": {
            "tags": [],
            "needs_background": "light"
          }
        }
      ]
    },
    {
      "cell_type": "markdown",
      "metadata": {
        "id": "s8wI8vgxltQk"
      },
      "source": [
        "# k-Nearest Neighbors"
      ]
    },
    {
      "cell_type": "code",
      "metadata": {
        "trusted": true,
        "id": "bmZoAIc4ltQl",
        "colab": {
          "base_uri": "https://localhost:8080/"
        },
        "outputId": "b12b30ce-c4f8-412c-bf68-9923263d076f"
      },
      "source": [
        "elite_knn = KNeighborsClassifier(n_neighbors=1)\n",
        "elite_knn.fit(x_train_final, y_train_final)\n",
        "y_pred = elite_knn.predict(x_test)\n",
        "\n",
        "print(classification_report(y_test,y_pred))"
      ],
      "execution_count": 58,
      "outputs": [
        {
          "output_type": "stream",
          "text": [
            "              precision    recall  f1-score   support\n",
            "\n",
            "           0       0.94      0.80      0.86       273\n",
            "           1       0.37      0.68      0.48        47\n",
            "\n",
            "    accuracy                           0.78       320\n",
            "   macro avg       0.65      0.74      0.67       320\n",
            "weighted avg       0.85      0.78      0.81       320\n",
            "\n"
          ],
          "name": "stdout"
        }
      ]
    },
    {
      "cell_type": "code",
      "metadata": {
        "id": "PJ1Sif02G4di",
        "colab": {
          "base_uri": "https://localhost:8080/"
        },
        "outputId": "e98344b8-5eee-4d85-af79-9b051dce38b1"
      },
      "source": [
        "f1 = f1_score(y_test, y_pred)\r\n",
        "print('F1 score: %f' % f1)"
      ],
      "execution_count": 59,
      "outputs": [
        {
          "output_type": "stream",
          "text": [
            "F1 score: 0.477612\n"
          ],
          "name": "stdout"
        }
      ]
    },
    {
      "cell_type": "markdown",
      "metadata": {
        "id": "JEKRp-0KROjN"
      },
      "source": [
        "# Notes:"
      ]
    },
    {
      "cell_type": "markdown",
      "metadata": {
        "id": "IplKd0wIRUqM"
      },
      "source": [
        "https://machinelearningmastery.com/\r\n",
        "\r\n"
      ]
    },
    {
      "cell_type": "code",
      "metadata": {
        "id": "59_xV8mNvezo"
      },
      "source": [
        "# ?display\r\n",
        "# ??display"
      ],
      "execution_count": 41,
      "outputs": []
    }
  ]
}